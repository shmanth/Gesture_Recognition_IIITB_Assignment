{
  "cells": [
    {
      "cell_type": "code",
      "execution_count": null,
      "metadata": {
        "id": "wDQ5bMGjWdSo"
      },
      "outputs": [],
      "source": [
        "#Import libraries\n",
        "import numpy as np\n",
        "import os\n",
        "import imageio \n",
        "from PIL import Image\n",
        "from skimage.transform import resize\n",
        "import datetime\n",
        "import os"
      ]
    },
    {
      "cell_type": "code",
      "execution_count": null,
      "metadata": {
        "id": "QgGqRXjRWew1"
      },
      "outputs": [],
      "source": [
        "np.random.seed(30)\n",
        "import random as rn\n",
        "rn.seed(30)\n",
        "from keras import backend as K\n",
        "import tensorflow as tf\n",
        "tf.random.set_seed(30)"
      ]
    },
    {
      "cell_type": "code",
      "execution_count": null,
      "metadata": {
        "id": "p2tJk8ffWey7"
      },
      "outputs": [],
      "source": [
        "#Load data\n",
        "train_doc = np.random.permutation(open('datasets/Project_data/train.csv').readlines())\n",
        "val_doc = np.random.permutation(open('datasets/Project_data/val.csv').readlines())\n",
        "batch_size = 100"
      ]
    },
    {
      "cell_type": "code",
      "execution_count": null,
      "metadata": {
        "id": "Lk2HPPunWe1L"
      },
      "outputs": [],
      "source": [
        "def generator(source_path, folder_list, batch_size):\n",
        "    print( 'Source path = ', source_path, '; batch size =', batch_size)\n",
        "    img_idx = [1,3,5,6,7,9,11,13,15,17,18,19,21,23,24,25,27,29]#create a list of image numbers you want to use for a particular video\n",
        "    while True:\n",
        "        t = np.random.permutation(folder_list)\n",
        "        num_batches = len(source_path)//batch_size # calculate the number of batches\n",
        "        for batch in range(num_batches): # we iterate over the number of batches\n",
        "            batch_data = np.zeros((batch_size,18,100,100,3)) # x is the number of images you use for each video, (y,z) is the final size of the input images and 3 is the number of channels RGB\n",
        "            batch_labels = np.zeros((batch_size,5)) # batch_labels is the one hot representation of the output\n",
        "            for folder in range(batch_size): # iterate over the batch_size\n",
        "                imgs = os.listdir(source_path+'/'+ t[folder + (batch*batch_size)].split(';')[0]) # read all the images in the folder\n",
        "                for idx,item in enumerate(img_idx): #  Iterate iver the frames/images of a folder to read them in\n",
        "                    image = imageio.imread(source_path+'/'+ t[folder + (batch*batch_size)].strip().split(';')[0]+'/'+imgs[item]).astype(np.float32)\n",
        "                    \n",
        "                    \n",
        "                    \n",
        "                    # Cropped image\n",
        "                    if image.shape[1] < 400:\n",
        "                        image = resize(image[:,20:140,:],(100,100)).astype(np.float32)\n",
        "                    else:\n",
        "                        image = resize(image,(100,100)).astype(np.float32)\n",
        "                \n",
        "                    \n",
        "                    \n",
        "                    #crop the images and resize them. Note that the images are of 2 different shape \n",
        "                    #and the conv3D will throw error if the inputs in a batch have different shapes\n",
        "                    \n",
        "                    batch_data[folder,idx,:,:,0] /= 255\n",
        "                    batch_data[folder,idx,:,:,1] /= 255 #normalise and feed in the image\n",
        "                    batch_data[folder,idx,:,:,2] /= 255 #normalise and feed in the image\n",
        "                    \n",
        "                batch_labels[folder, int(t[folder + (batch*batch_size)].strip().split(';')[2])] = 1\n",
        "            yield batch_data, batch_labels #you yield the batch_data and the batch_labels, remember what does yield do\n",
        "\n",
        "        \n",
        "        # write the code for the remaining data points which are left after full batches\n",
        "        if((len(source_path)%batch_size)//2==0):\n",
        "            batch_size = 2\n",
        "        else:\n",
        "            batch_size = 1\n",
        "        num_batches = len(source_path)%batch_size # calculate the number of batches\n",
        "        for batch in range(num_batches): # we iterate over the number of batches\n",
        "            batch_data = np.zeros((batch_size,18,100,100,3)) # x is the number of images you use for each video, (y,z) is the final size of the input images and 3 is the number of channels RGB\n",
        "            batch_labels = np.zeros((batch_size,5)) # batch_labels is the one hot representation of the output\n",
        "            for folder in range(batch_size): # iterate over the batch_size\n",
        "                imgs = os.listdir(source_path+'/'+ t[folder + (batch*batch_size)].split(';')[0]) # read all the images in the folder\n",
        "                for idx,item in enumerate(img_idx): #  Iterate iver the frames/images of a folder to read them in\n",
        "                    image = imageio.imread(source_path+'/'+ t[folder + (batch*batch_size)].strip().split(';')[0]+'/'+imgs[item]).astype(np.float32)\n",
        "                    \n",
        "                    \n",
        "                    \n",
        "                    # Cropped image\n",
        "                    if image.shape[1] < 400:\n",
        "                        image = resize(image[:,20:140,:],(100,100)).astype(np.float32)\n",
        "                    else:\n",
        "                        image = resize(image,(100,100)).astype(np.float32)\n",
        "                    \n",
        "                    #crop the images and resize them. Note that the images are of 2 different shape \n",
        "                    #and the conv3D will throw error if the inputs in a batch have different shapes\n",
        "                    \n",
        "                    batch_data[folder,idx,:,:,0] /= 255\n",
        "                    batch_data[folder,idx,:,:,1] /= 255 #normalise and feed in the image\n",
        "                    batch_data[folder,idx,:,:,2] /= 255 #normalise and feed in the image\n",
        "                    \n",
        "                batch_labels[folder, int(t[folder + (batch*batch_size)].strip().split(';')[2])] = 1\n",
        "            yield batch_data, batch_labels #you yield the batch_data and the batch_labels, remember what does yield do\n"
      ]
    },
    {
      "cell_type": "code",
      "execution_count": null,
      "metadata": {
        "id": "lYd9DGkiWe3f",
        "outputId": "d3028622-4854-487a-c293-fb2e1f345289"
      },
      "outputs": [
        {
          "name": "stdout",
          "output_type": "stream",
          "text": [
            "# training sequences = 663\n",
            "# validation sequences = 100\n",
            "# epochs = 40\n"
          ]
        }
      ],
      "source": [
        "curr_dt_time = datetime.datetime.now()\n",
        "train_path = 'datasets/Project_data/train'\n",
        "val_path = 'datasets/Project_data/val'\n",
        "num_train_sequences = len(train_doc)\n",
        "print('# training sequences =', num_train_sequences)\n",
        "num_val_sequences = len(val_doc)\n",
        "print('# validation sequences =', num_val_sequences)\n",
        "num_epochs = 40 # choose the number of epochs\n",
        "print ('# epochs =', num_epochs)"
      ]
    },
    {
      "cell_type": "markdown",
      "source": [
        "Model09:num_epochs = 40,Optimizer changed to SGD"
      ],
      "metadata": {
        "id": "kJIArNJP4ARf"
      }
    },
    {
      "cell_type": "code",
      "execution_count": null,
      "metadata": {
        "id": "9VQEdZSjWe51",
        "outputId": "b8ff0832-dcb8-46d4-d716-923a83dc00c2"
      },
      "outputs": [
        {
          "name": "stderr",
          "output_type": "stream",
          "text": [
            "2022-05-25 06:45:53.034374: W tensorflow/core/common_runtime/gpu/gpu_bfc_allocator.cc:39] Overriding allow_growth setting because the TF_FORCE_GPU_ALLOW_GROWTH environment variable is set. Original config value was 0.\n",
            "2022-05-25 06:45:53.034432: I tensorflow/core/common_runtime/gpu/gpu_device.cc:1525] Created device /job:localhost/replica:0/task:0/device:GPU:0 with 14803 MB memory:  -> device: 0, name: Quadro RTX 5000, pci bus id: 0000:1c:00.0, compute capability: 7.5\n"
          ]
        }
      ],
      "source": [
        "from keras.models import Sequential, Model\n",
        "from keras.layers import Dense, GRU, Flatten, TimeDistributed, Flatten, BatchNormalization, Activation, Dropout\n",
        "from keras.layers.convolutional import Conv3D, MaxPooling3D\n",
        "from keras.callbacks import ModelCheckpoint, ReduceLROnPlateau\n",
        "from keras import optimizers\n",
        "\n",
        "#write your model here\n",
        "Input_shape = (18, 100, 100, 3)\n",
        "model = Sequential()\n",
        "model.add(Conv3D(64, (3,3,3), padding='same',\n",
        "                 input_shape=Input_shape))\n",
        "model.add(Activation('elu'))\n",
        "model.add(MaxPooling3D(pool_size=(2, 2,2)))\n",
        "\n",
        "model.add(Conv3D(128, (3, 3,3),padding=\"same\"))\n",
        "model.add(BatchNormalization())\n",
        "model.add(Activation('elu'))\n",
        "model.add(MaxPooling3D(pool_size=(2, 2,2)))\n",
        "\n",
        "model.add(Conv3D(256, (3, 3,3), padding='same'))\n",
        "model.add(Activation('elu'))\n",
        "model.add(BatchNormalization())\n",
        "model.add(MaxPooling3D(pool_size=(2, 2,2)))\n",
        "\n",
        "model.add(Conv3D(256, (3, 3,3),padding=\"same\"))\n",
        "model.add(Activation('elu'))\n",
        "model.add(BatchNormalization())\n",
        "\n",
        "model.add(Flatten())\n",
        "model.add(Dense(512))\n",
        "model.add(Activation('elu'))\n",
        "model.add(Dense(5))\n",
        "model.add(Dropout(0.2))\n",
        "model.add(Activation('softmax'))"
      ]
    },
    {
      "cell_type": "code",
      "execution_count": null,
      "metadata": {
        "id": "aY1t-1JkWe9S",
        "outputId": "30b96665-59bc-46e0-fe8f-9c068bb25f55"
      },
      "outputs": [
        {
          "name": "stdout",
          "output_type": "stream",
          "text": [
            "Model: \"sequential\"\n",
            "_________________________________________________________________\n",
            " Layer (type)                Output Shape              Param #   \n",
            "=================================================================\n",
            " conv3d (Conv3D)             (None, 18, 100, 100, 64)  5248      \n",
            "                                                                 \n",
            " activation (Activation)     (None, 18, 100, 100, 64)  0         \n",
            "                                                                 \n",
            " max_pooling3d (MaxPooling3D  (None, 9, 50, 50, 64)    0         \n",
            " )                                                               \n",
            "                                                                 \n",
            " conv3d_1 (Conv3D)           (None, 9, 50, 50, 128)    221312    \n",
            "                                                                 \n",
            " batch_normalization (BatchN  (None, 9, 50, 50, 128)   512       \n",
            " ormalization)                                                   \n",
            "                                                                 \n",
            " activation_1 (Activation)   (None, 9, 50, 50, 128)    0         \n",
            "                                                                 \n",
            " max_pooling3d_1 (MaxPooling  (None, 4, 25, 25, 128)   0         \n",
            " 3D)                                                             \n",
            "                                                                 \n",
            " conv3d_2 (Conv3D)           (None, 4, 25, 25, 256)    884992    \n",
            "                                                                 \n",
            " activation_2 (Activation)   (None, 4, 25, 25, 256)    0         \n",
            "                                                                 \n",
            " batch_normalization_1 (Batc  (None, 4, 25, 25, 256)   1024      \n",
            " hNormalization)                                                 \n",
            "                                                                 \n",
            " max_pooling3d_2 (MaxPooling  (None, 2, 12, 12, 256)   0         \n",
            " 3D)                                                             \n",
            "                                                                 \n",
            " conv3d_3 (Conv3D)           (None, 2, 12, 12, 256)    1769728   \n",
            "                                                                 \n",
            " activation_3 (Activation)   (None, 2, 12, 12, 256)    0         \n",
            "                                                                 \n",
            " batch_normalization_2 (Batc  (None, 2, 12, 12, 256)   1024      \n",
            " hNormalization)                                                 \n",
            "                                                                 \n",
            " flatten (Flatten)           (None, 73728)             0         \n",
            "                                                                 \n",
            " dense (Dense)               (None, 512)               37749248  \n",
            "                                                                 \n",
            " activation_4 (Activation)   (None, 512)               0         \n",
            "                                                                 \n",
            " dense_1 (Dense)             (None, 5)                 2565      \n",
            "                                                                 \n",
            " dropout (Dropout)           (None, 5)                 0         \n",
            "                                                                 \n",
            " activation_5 (Activation)   (None, 5)                 0         \n",
            "                                                                 \n",
            "=================================================================\n",
            "Total params: 40,635,653\n",
            "Trainable params: 40,634,373\n",
            "Non-trainable params: 1,280\n",
            "_________________________________________________________________\n",
            "None\n"
          ]
        },
        {
          "name": "stderr",
          "output_type": "stream",
          "text": [
            "/usr/local/lib/python3.8/dist-packages/keras/optimizer_v2/gradient_descent.py:102: UserWarning: The `lr` argument is deprecated, use `learning_rate` instead.\n",
            "  super(SGD, self).__init__(name, **kwargs)\n"
          ]
        }
      ],
      "source": [
        "optimiser = tf.optimizers.SGD(lr=0.001, decay=1e-6, momentum=0.9, nesterov=True)\n",
        "model.compile(optimizer=optimiser, loss='categorical_crossentropy', metrics=['categorical_accuracy'],run_eagerly=True)\n",
        "print (model.summary())"
      ]
    },
    {
      "cell_type": "code",
      "execution_count": null,
      "metadata": {
        "id": "rfrl7DPTWfAL"
      },
      "outputs": [],
      "source": [
        "train_generator = generator(train_path, train_doc, batch_size)\n",
        "val_generator = generator(val_path, val_doc, batch_size)"
      ]
    },
    {
      "cell_type": "code",
      "execution_count": null,
      "metadata": {
        "id": "71BpxhS_WuW6",
        "outputId": "6310cbe8-1eee-40ad-e6a6-f663d1b4030d"
      },
      "outputs": [
        {
          "name": "stdout",
          "output_type": "stream",
          "text": [
            "WARNING:tensorflow:`period` argument is deprecated. Please use `save_freq` to specify the frequency in number of batches seen.\n",
            "WARNING:tensorflow:`epsilon` argument is deprecated and will be removed, use `min_delta` instead.\n"
          ]
        }
      ],
      "source": [
        "model_name = 'Gesture_recog' + '_' + str(curr_dt_time).replace(' ','').replace(':','_') + '/'\n",
        "    \n",
        "if not os.path.exists(model_name):\n",
        "    os.mkdir(model_name)\n",
        "        \n",
        "filepath = model_name + 'model-{epoch:05d}-{loss:.5f}-{categorical_accuracy:.5f}-{val_loss:.5f}-{val_categorical_accuracy:.5f}.h5'\n",
        "\n",
        "checkpoint = ModelCheckpoint(filepath, monitor='val_loss', verbose=1, save_best_only=False, save_weights_only=False, mode='auto', period=1)\n",
        "\n",
        "LR = ReduceLROnPlateau(monitor = \"val_loss\", factor = 0.1, patience = 10,\n",
        "  verbose = 0, mode = \"auto\", epsilon = 1e-04, cooldown = 0,\n",
        "  min_lr = 0)\n",
        "callbacks_list = [checkpoint, LR]"
      ]
    },
    {
      "cell_type": "code",
      "execution_count": null,
      "metadata": {
        "id": "CqpKf-8iWuZ7"
      },
      "outputs": [],
      "source": [
        "if (num_train_sequences%batch_size) == 0:\n",
        "    steps_per_epoch = int(num_train_sequences/batch_size)\n",
        "else:\n",
        "    steps_per_epoch = (num_train_sequences//batch_size) + 1\n",
        "\n",
        "if (num_val_sequences%batch_size) == 0:\n",
        "    validation_steps = int(num_val_sequences/batch_size)\n",
        "else:\n",
        "    validation_steps = (num_val_sequences//batch_size) + 1"
      ]
    },
    {
      "cell_type": "code",
      "execution_count": null,
      "metadata": {
        "id": "-j_IrRY2Wuf4",
        "outputId": "661d7649-faef-40ee-b245-7abccd44d414"
      },
      "outputs": [
        {
          "name": "stderr",
          "output_type": "stream",
          "text": [
            "/tmp/ipykernel_760/385748685.py:1: UserWarning: `Model.fit_generator` is deprecated and will be removed in a future version. Please use `Model.fit`, which supports generators.\n",
            "  model.fit_generator(train_generator, steps_per_epoch=steps_per_epoch, epochs=num_epochs, verbose=1,\n"
          ]
        },
        {
          "name": "stdout",
          "output_type": "stream",
          "text": [
            "Source path =  datasets/Project_data/train ; batch size = 100\n",
            "Epoch 1/40\n"
          ]
        },
        {
          "name": "stderr",
          "output_type": "stream",
          "text": [
            "2022-05-25 06:45:54.268626: I tensorflow/stream_executor/cuda/cuda_dnn.cc:377] Loaded cuDNN version 8302\n"
          ]
        },
        {
          "name": "stdout",
          "output_type": "stream",
          "text": [
            "7/7 [==============================] - ETA: 0s - loss: 32.5705 - categorical_accuracy: 0.4286Source path =  datasets/Project_data/val ; batch size = 100\n",
            "\n",
            "Epoch 00001: saving model to Gesture_recog_2022-05-2506_45_52.295624/model-00001-32.57050-0.42857-0.35057-1.00000.h5\n",
            "7/7 [==============================] - 4s 286ms/step - loss: 32.5705 - categorical_accuracy: 0.4286 - val_loss: 0.3506 - val_categorical_accuracy: 1.0000 - lr: 0.0010\n",
            "Epoch 2/40\n",
            "7/7 [==============================] - ETA: 0s - loss: 10.7794 - categorical_accuracy: 0.0000e+00\n",
            "Epoch 00002: saving model to Gesture_recog_2022-05-2506_45_52.295624/model-00002-10.77943-0.00000-76.46545-0.00000.h5\n",
            "7/7 [==============================] - 2s 277ms/step - loss: 10.7794 - categorical_accuracy: 0.0000e+00 - val_loss: 76.4655 - val_categorical_accuracy: 0.0000e+00 - lr: 0.0010\n",
            "Epoch 3/40\n",
            "7/7 [==============================] - ETA: 0s - loss: 9.3810 - categorical_accuracy: 0.1429     \n",
            "Epoch 00003: saving model to Gesture_recog_2022-05-2506_45_52.295624/model-00003-9.38096-0.14286-120.54756-0.00000.h5\n",
            "7/7 [==============================] - 2s 270ms/step - loss: 9.3810 - categorical_accuracy: 0.1429 - val_loss: 120.5476 - val_categorical_accuracy: 0.0000e+00 - lr: 0.0010\n",
            "Epoch 4/40\n",
            "7/7 [==============================] - ETA: 0s - loss: 3.9408 - categorical_accuracy: 0.2500\n",
            "Epoch 00004: saving model to Gesture_recog_2022-05-2506_45_52.295624/model-00004-3.94084-0.25000-80.55706-0.00000.h5\n",
            "7/7 [==============================] - 2s 339ms/step - loss: 3.9408 - categorical_accuracy: 0.2500 - val_loss: 80.5571 - val_categorical_accuracy: 0.0000e+00 - lr: 0.0010\n",
            "Epoch 5/40\n",
            "7/7 [==============================] - ETA: 0s - loss: 2.3357 - categorical_accuracy: 0.1429\n",
            "Epoch 00005: saving model to Gesture_recog_2022-05-2506_45_52.295624/model-00005-2.33567-0.14286-47.83160-0.00000.h5\n",
            "7/7 [==============================] - 2s 338ms/step - loss: 2.3357 - categorical_accuracy: 0.1429 - val_loss: 47.8316 - val_categorical_accuracy: 0.0000e+00 - lr: 0.0010\n",
            "Epoch 6/40\n",
            "7/7 [==============================] - ETA: 0s - loss: 2.7152 - categorical_accuracy: 0.2857\n",
            "Epoch 00006: saving model to Gesture_recog_2022-05-2506_45_52.295624/model-00006-2.71520-0.28571-9.91917-0.00000.h5\n",
            "7/7 [==============================] - 3s 423ms/step - loss: 2.7152 - categorical_accuracy: 0.2857 - val_loss: 9.9192 - val_categorical_accuracy: 0.0000e+00 - lr: 0.0010\n",
            "Epoch 7/40\n",
            "7/7 [==============================] - ETA: 0s - loss: 2.7849 - categorical_accuracy: 0.2143\n",
            "Epoch 00007: saving model to Gesture_recog_2022-05-2506_45_52.295624/model-00007-2.78488-0.21429-0.05397-1.00000.h5\n",
            "7/7 [==============================] - 2s 363ms/step - loss: 2.7849 - categorical_accuracy: 0.2143 - val_loss: 0.0540 - val_categorical_accuracy: 1.0000 - lr: 0.0010\n",
            "Epoch 8/40\n",
            "7/7 [==============================] - ETA: 0s - loss: 1.9541 - categorical_accuracy: 0.1429\n",
            "Epoch 00008: saving model to Gesture_recog_2022-05-2506_45_52.295624/model-00008-1.95408-0.14286-4.42777-0.00000.h5\n",
            "7/7 [==============================] - 2s 380ms/step - loss: 1.9541 - categorical_accuracy: 0.1429 - val_loss: 4.4278 - val_categorical_accuracy: 0.0000e+00 - lr: 0.0010\n",
            "Epoch 9/40\n",
            "7/7 [==============================] - ETA: 0s - loss: 2.3578 - categorical_accuracy: 0.4286\n",
            "Epoch 00009: saving model to Gesture_recog_2022-05-2506_45_52.295624/model-00009-2.35778-0.42857-1.97727-0.00000.h5\n",
            "7/7 [==============================] - 2s 368ms/step - loss: 2.3578 - categorical_accuracy: 0.4286 - val_loss: 1.9773 - val_categorical_accuracy: 0.0000e+00 - lr: 0.0010\n",
            "Epoch 10/40\n",
            "7/7 [==============================] - ETA: 0s - loss: 2.0462 - categorical_accuracy: 0.1429\n",
            "Epoch 00010: saving model to Gesture_recog_2022-05-2506_45_52.295624/model-00010-2.04618-0.14286-2.00911-0.00000.h5\n",
            "7/7 [==============================] - 2s 308ms/step - loss: 2.0462 - categorical_accuracy: 0.1429 - val_loss: 2.0091 - val_categorical_accuracy: 0.0000e+00 - lr: 0.0010\n",
            "Epoch 11/40\n",
            "7/7 [==============================] - ETA: 0s - loss: 1.8855 - categorical_accuracy: 0.0714  \n",
            "Epoch 00011: saving model to Gesture_recog_2022-05-2506_45_52.295624/model-00011-1.88550-0.07143-0.68345-1.00000.h5\n",
            "7/7 [==============================] - 2s 350ms/step - loss: 1.8855 - categorical_accuracy: 0.0714 - val_loss: 0.6835 - val_categorical_accuracy: 1.0000 - lr: 0.0010\n",
            "Epoch 12/40\n",
            "7/7 [==============================] - ETA: 0s - loss: 2.1545 - categorical_accuracy: 0.0714\n",
            "Epoch 00012: saving model to Gesture_recog_2022-05-2506_45_52.295624/model-00012-2.15454-0.07143-2.88261-0.00000.h5\n",
            "7/7 [==============================] - 2s 337ms/step - loss: 2.1545 - categorical_accuracy: 0.0714 - val_loss: 2.8826 - val_categorical_accuracy: 0.0000e+00 - lr: 0.0010\n",
            "Epoch 13/40\n",
            "7/7 [==============================] - ETA: 0s - loss: 2.0748 - categorical_accuracy: 0.1429\n",
            "Epoch 00013: saving model to Gesture_recog_2022-05-2506_45_52.295624/model-00013-2.07484-0.14286-1.40312-0.00000.h5\n",
            "7/7 [==============================] - 2s 346ms/step - loss: 2.0748 - categorical_accuracy: 0.1429 - val_loss: 1.4031 - val_categorical_accuracy: 0.0000e+00 - lr: 0.0010\n",
            "Epoch 14/40\n",
            "7/7 [==============================] - ETA: 0s - loss: 1.9071 - categorical_accuracy: 0.1429  \n",
            "Epoch 00014: saving model to Gesture_recog_2022-05-2506_45_52.295624/model-00014-1.90708-0.14286-2.50508-0.50000.h5\n",
            "7/7 [==============================] - 2s 359ms/step - loss: 1.9071 - categorical_accuracy: 0.1429 - val_loss: 2.5051 - val_categorical_accuracy: 0.5000 - lr: 0.0010\n",
            "Epoch 15/40\n",
            "7/7 [==============================] - ETA: 0s - loss: 2.4485 - categorical_accuracy: 0.2857\n",
            "Epoch 00015: saving model to Gesture_recog_2022-05-2506_45_52.295624/model-00015-2.44849-0.28571-1.60103-0.50000.h5\n",
            "7/7 [==============================] - 2s 362ms/step - loss: 2.4485 - categorical_accuracy: 0.2857 - val_loss: 1.6010 - val_categorical_accuracy: 0.5000 - lr: 0.0010\n",
            "Epoch 16/40\n",
            "7/7 [==============================] - ETA: 0s - loss: 2.1172 - categorical_accuracy: 0.1429\n",
            "Epoch 00016: saving model to Gesture_recog_2022-05-2506_45_52.295624/model-00016-2.11719-0.14286-1.50042-0.50000.h5\n",
            "7/7 [==============================] - 3s 452ms/step - loss: 2.1172 - categorical_accuracy: 0.1429 - val_loss: 1.5004 - val_categorical_accuracy: 0.5000 - lr: 0.0010\n",
            "Epoch 17/40\n",
            "7/7 [==============================] - ETA: 0s - loss: 1.9528 - categorical_accuracy: 0.1429\n",
            "Epoch 00017: saving model to Gesture_recog_2022-05-2506_45_52.295624/model-00017-1.95276-0.14286-2.21980-0.00000.h5\n",
            "7/7 [==============================] - 2s 348ms/step - loss: 1.9528 - categorical_accuracy: 0.1429 - val_loss: 2.2198 - val_categorical_accuracy: 0.0000e+00 - lr: 0.0010\n",
            "Epoch 18/40\n",
            "7/7 [==============================] - ETA: 0s - loss: 2.0730 - categorical_accuracy: 0.0714\n",
            "Epoch 00018: saving model to Gesture_recog_2022-05-2506_45_52.295624/model-00018-2.07301-0.07143-1.33120-0.50000.h5\n",
            "7/7 [==============================] - 2s 375ms/step - loss: 2.0730 - categorical_accuracy: 0.0714 - val_loss: 1.3312 - val_categorical_accuracy: 0.5000 - lr: 1.0000e-04\n",
            "Epoch 19/40\n",
            "7/7 [==============================] - ETA: 0s - loss: 1.7107 - categorical_accuracy: 0.0714  \n",
            "Epoch 00019: saving model to Gesture_recog_2022-05-2506_45_52.295624/model-00019-1.71070-0.07143-1.09924-0.50000.h5\n",
            "7/7 [==============================] - 2s 398ms/step - loss: 1.7107 - categorical_accuracy: 0.0714 - val_loss: 1.0992 - val_categorical_accuracy: 0.5000 - lr: 1.0000e-04\n",
            "Epoch 20/40\n",
            "7/7 [==============================] - ETA: 0s - loss: 1.6903 - categorical_accuracy: 0.1429\n",
            "Epoch 00020: saving model to Gesture_recog_2022-05-2506_45_52.295624/model-00020-1.69027-0.14286-1.67334-0.00000.h5\n",
            "7/7 [==============================] - 2s 404ms/step - loss: 1.6903 - categorical_accuracy: 0.1429 - val_loss: 1.6733 - val_categorical_accuracy: 0.0000e+00 - lr: 1.0000e-04\n",
            "Epoch 21/40\n",
            "7/7 [==============================] - ETA: 0s - loss: 1.4655 - categorical_accuracy: 0.4286\n",
            "Epoch 00021: saving model to Gesture_recog_2022-05-2506_45_52.295624/model-00021-1.46554-0.42857-1.20577-0.50000.h5\n",
            "7/7 [==============================] - 3s 418ms/step - loss: 1.4655 - categorical_accuracy: 0.4286 - val_loss: 1.2058 - val_categorical_accuracy: 0.5000 - lr: 1.0000e-04\n",
            "Epoch 22/40\n",
            "7/7 [==============================] - ETA: 0s - loss: 1.7367 - categorical_accuracy: 0.2143\n",
            "Epoch 00022: saving model to Gesture_recog_2022-05-2506_45_52.295624/model-00022-1.73667-0.21429-1.55788-0.00000.h5\n",
            "7/7 [==============================] - 3s 422ms/step - loss: 1.7367 - categorical_accuracy: 0.2143 - val_loss: 1.5579 - val_categorical_accuracy: 0.0000e+00 - lr: 1.0000e-04\n",
            "Epoch 23/40\n",
            "7/7 [==============================] - ETA: 0s - loss: 1.7514 - categorical_accuracy: 0.0000e+00\n",
            "Epoch 00023: saving model to Gesture_recog_2022-05-2506_45_52.295624/model-00023-1.75138-0.00000-1.54732-0.00000.h5\n",
            "7/7 [==============================] - 2s 385ms/step - loss: 1.7514 - categorical_accuracy: 0.0000e+00 - val_loss: 1.5473 - val_categorical_accuracy: 0.0000e+00 - lr: 1.0000e-04\n",
            "Epoch 24/40\n",
            "7/7 [==============================] - ETA: 0s - loss: 1.5687 - categorical_accuracy: 0.2143\n",
            "Epoch 00024: saving model to Gesture_recog_2022-05-2506_45_52.295624/model-00024-1.56872-0.21429-1.46157-0.50000.h5\n",
            "7/7 [==============================] - 2s 392ms/step - loss: 1.5687 - categorical_accuracy: 0.2143 - val_loss: 1.4616 - val_categorical_accuracy: 0.5000 - lr: 1.0000e-04\n",
            "Epoch 25/40\n",
            "7/7 [==============================] - ETA: 0s - loss: 1.6628 - categorical_accuracy: 0.2857\n",
            "Epoch 00025: saving model to Gesture_recog_2022-05-2506_45_52.295624/model-00025-1.66282-0.28571-1.59690-0.00000.h5\n",
            "7/7 [==============================] - 3s 424ms/step - loss: 1.6628 - categorical_accuracy: 0.2857 - val_loss: 1.5969 - val_categorical_accuracy: 0.0000e+00 - lr: 1.0000e-04\n",
            "Epoch 26/40\n",
            "7/7 [==============================] - ETA: 0s - loss: 1.7834 - categorical_accuracy: 0.0714\n",
            "Epoch 00026: saving model to Gesture_recog_2022-05-2506_45_52.295624/model-00026-1.78342-0.07143-1.65019-0.00000.h5\n",
            "7/7 [==============================] - 3s 420ms/step - loss: 1.7834 - categorical_accuracy: 0.0714 - val_loss: 1.6502 - val_categorical_accuracy: 0.0000e+00 - lr: 1.0000e-04\n",
            "Epoch 27/40\n",
            "7/7 [==============================] - ETA: 0s - loss: 1.5836 - categorical_accuracy: 0.2857\n",
            "Epoch 00027: saving model to Gesture_recog_2022-05-2506_45_52.295624/model-00027-1.58359-0.28571-1.53292-0.00000.h5\n",
            "7/7 [==============================] - 2s 382ms/step - loss: 1.5836 - categorical_accuracy: 0.2857 - val_loss: 1.5329 - val_categorical_accuracy: 0.0000e+00 - lr: 1.0000e-04\n",
            "Epoch 28/40\n",
            "7/7 [==============================] - ETA: 0s - loss: 1.5450 - categorical_accuracy: 0.2857\n",
            "Epoch 00028: saving model to Gesture_recog_2022-05-2506_45_52.295624/model-00028-1.54502-0.28571-1.73209-0.00000.h5\n",
            "7/7 [==============================] - 2s 406ms/step - loss: 1.5450 - categorical_accuracy: 0.2857 - val_loss: 1.7321 - val_categorical_accuracy: 0.0000e+00 - lr: 1.0000e-05\n",
            "Epoch 29/40\n",
            "7/7 [==============================] - ETA: 0s - loss: 1.7862 - categorical_accuracy: 0.1429\n",
            "Epoch 00029: saving model to Gesture_recog_2022-05-2506_45_52.295624/model-00029-1.78623-0.14286-1.51623-0.00000.h5\n",
            "7/7 [==============================] - 3s 443ms/step - loss: 1.7862 - categorical_accuracy: 0.1429 - val_loss: 1.5162 - val_categorical_accuracy: 0.0000e+00 - lr: 1.0000e-05\n",
            "Epoch 30/40\n",
            "7/7 [==============================] - ETA: 0s - loss: 1.7187 - categorical_accuracy: 0.2143\n",
            "Epoch 00030: saving model to Gesture_recog_2022-05-2506_45_52.295624/model-00030-1.71874-0.21429-1.60677-0.00000.h5\n",
            "7/7 [==============================] - 3s 438ms/step - loss: 1.7187 - categorical_accuracy: 0.2143 - val_loss: 1.6068 - val_categorical_accuracy: 0.0000e+00 - lr: 1.0000e-05\n",
            "Epoch 31/40\n",
            "7/7 [==============================] - ETA: 0s - loss: 1.7646 - categorical_accuracy: 0.0714    \n",
            "Epoch 00031: saving model to Gesture_recog_2022-05-2506_45_52.295624/model-00031-1.76459-0.07143-1.82083-0.00000.h5\n",
            "7/7 [==============================] - 3s 452ms/step - loss: 1.7646 - categorical_accuracy: 0.0714 - val_loss: 1.8208 - val_categorical_accuracy: 0.0000e+00 - lr: 1.0000e-05\n",
            "Epoch 32/40\n",
            "7/7 [==============================] - ETA: 0s - loss: 1.7592 - categorical_accuracy: 0.2143\n",
            "Epoch 00032: saving model to Gesture_recog_2022-05-2506_45_52.295624/model-00032-1.75921-0.21429-1.85561-0.00000.h5\n",
            "7/7 [==============================] - 2s 398ms/step - loss: 1.7592 - categorical_accuracy: 0.2143 - val_loss: 1.8556 - val_categorical_accuracy: 0.0000e+00 - lr: 1.0000e-05\n",
            "Epoch 33/40\n",
            "7/7 [==============================] - ETA: 0s - loss: 1.7103 - categorical_accuracy: 0.2143\n",
            "Epoch 00033: saving model to Gesture_recog_2022-05-2506_45_52.295624/model-00033-1.71028-0.21429-1.48119-0.50000.h5\n",
            "7/7 [==============================] - 3s 497ms/step - loss: 1.7103 - categorical_accuracy: 0.2143 - val_loss: 1.4812 - val_categorical_accuracy: 0.5000 - lr: 1.0000e-05\n",
            "Epoch 34/40\n",
            "7/7 [==============================] - ETA: 0s - loss: 1.6009 - categorical_accuracy: 0.2143\n",
            "Epoch 00034: saving model to Gesture_recog_2022-05-2506_45_52.295624/model-00034-1.60087-0.21429-1.48407-0.50000.h5\n",
            "7/7 [==============================] - 3s 423ms/step - loss: 1.6009 - categorical_accuracy: 0.2143 - val_loss: 1.4841 - val_categorical_accuracy: 0.5000 - lr: 1.0000e-05\n",
            "Epoch 35/40\n",
            "7/7 [==============================] - ETA: 0s - loss: 1.6862 - categorical_accuracy: 0.2857\n",
            "Epoch 00035: saving model to Gesture_recog_2022-05-2506_45_52.295624/model-00035-1.68621-0.28571-1.39195-0.00000.h5\n",
            "7/7 [==============================] - 3s 427ms/step - loss: 1.6862 - categorical_accuracy: 0.2857 - val_loss: 1.3920 - val_categorical_accuracy: 0.0000e+00 - lr: 1.0000e-05\n",
            "Epoch 36/40\n",
            "7/7 [==============================] - ETA: 0s - loss: 1.6719 - categorical_accuracy: 0.2143\n",
            "Epoch 00036: saving model to Gesture_recog_2022-05-2506_45_52.295624/model-00036-1.67193-0.21429-1.39145-0.50000.h5\n",
            "7/7 [==============================] - 3s 441ms/step - loss: 1.6719 - categorical_accuracy: 0.2143 - val_loss: 1.3914 - val_categorical_accuracy: 0.5000 - lr: 1.0000e-05\n",
            "Epoch 37/40\n",
            "7/7 [==============================] - ETA: 0s - loss: 1.5785 - categorical_accuracy: 0.2857\n",
            "Epoch 00037: saving model to Gesture_recog_2022-05-2506_45_52.295624/model-00037-1.57854-0.28571-1.68272-0.00000.h5\n",
            "7/7 [==============================] - 2s 376ms/step - loss: 1.5785 - categorical_accuracy: 0.2857 - val_loss: 1.6827 - val_categorical_accuracy: 0.0000e+00 - lr: 1.0000e-05\n",
            "Epoch 38/40\n",
            "7/7 [==============================] - ETA: 0s - loss: 1.6818 - categorical_accuracy: 0.1429\n",
            "Epoch 00038: saving model to Gesture_recog_2022-05-2506_45_52.295624/model-00038-1.68180-0.14286-1.54288-0.00000.h5\n",
            "7/7 [==============================] - 3s 476ms/step - loss: 1.6818 - categorical_accuracy: 0.1429 - val_loss: 1.5429 - val_categorical_accuracy: 0.0000e+00 - lr: 1.0000e-06\n",
            "Epoch 39/40\n",
            "7/7 [==============================] - ETA: 0s - loss: 1.6600 - categorical_accuracy: 0.1429\n",
            "Epoch 00039: saving model to Gesture_recog_2022-05-2506_45_52.295624/model-00039-1.66002-0.14286-1.82263-0.00000.h5\n",
            "7/7 [==============================] - 3s 416ms/step - loss: 1.6600 - categorical_accuracy: 0.1429 - val_loss: 1.8226 - val_categorical_accuracy: 0.0000e+00 - lr: 1.0000e-06\n",
            "Epoch 40/40\n",
            "7/7 [==============================] - ETA: 0s - loss: 1.5802 - categorical_accuracy: 0.3571\n",
            "Epoch 00040: saving model to Gesture_recog_2022-05-2506_45_52.295624/model-00040-1.58024-0.35714-1.52812-0.50000.h5\n",
            "7/7 [==============================] - 3s 432ms/step - loss: 1.5802 - categorical_accuracy: 0.3571 - val_loss: 1.5281 - val_categorical_accuracy: 0.5000 - lr: 1.0000e-06\n"
          ]
        },
        {
          "data": {
            "text/plain": [
              "<keras.callbacks.History at 0x7f88c9ab6c40>"
            ]
          },
          "execution_count": 11,
          "metadata": {},
          "output_type": "execute_result"
        }
      ],
      "source": [
        "model.fit_generator(train_generator, steps_per_epoch=steps_per_epoch, epochs=num_epochs, verbose=1, \n",
        "                    callbacks=callbacks_list, validation_data=val_generator, \n",
        "                    validation_steps=validation_steps, class_weight=None, workers=1, initial_epoch=0)"
      ]
    },
    {
      "cell_type": "code",
      "execution_count": null,
      "metadata": {
        "id": "htnfcHzaWujS"
      },
      "outputs": [],
      "source": [
        ""
      ]
    },
    {
      "cell_type": "code",
      "execution_count": null,
      "metadata": {
        "id": "dzWfRmKiWume"
      },
      "outputs": [],
      "source": [
        ""
      ]
    },
    {
      "cell_type": "code",
      "execution_count": null,
      "metadata": {
        "id": "fe8m37FAWuqL"
      },
      "outputs": [],
      "source": [
        ""
      ]
    },
    {
      "cell_type": "code",
      "execution_count": null,
      "metadata": {
        "id": "7T9NWd1SWusZ"
      },
      "outputs": [],
      "source": [
        ""
      ]
    }
  ],
  "metadata": {
    "colab": {
      "name": "Model09.ipynb",
      "provenance": []
    },
    "kernelspec": {
      "display_name": "Python 3 (ipykernel)",
      "language": "python",
      "name": "python3"
    },
    "language_info": {
      "codemirror_mode": {
        "name": "ipython",
        "version": 3
      },
      "file_extension": ".py",
      "mimetype": "text/x-python",
      "name": "python",
      "nbconvert_exporter": "python",
      "pygments_lexer": "ipython3",
      "version": "3.8.10"
    }
  },
  "nbformat": 4,
  "nbformat_minor": 0
}