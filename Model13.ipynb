{
  "cells": [
    {
      "cell_type": "code",
      "execution_count": null,
      "metadata": {
        "id": "wDQ5bMGjWdSo"
      },
      "outputs": [],
      "source": [
        "# import libraries\n",
        "import numpy as np\n",
        "import os\n",
        "import imageio \n",
        "from PIL import Image\n",
        "from skimage.transform import resize\n",
        "import datetime"
      ]
    },
    {
      "cell_type": "code",
      "execution_count": null,
      "metadata": {
        "id": "QgGqRXjRWew1"
      },
      "outputs": [],
      "source": [
        "np.random.seed(30)\n",
        "import random as rn\n",
        "rn.seed(30)\n",
        "from keras import backend as K\n",
        "import tensorflow as tf\n",
        "tf.random.set_seed(30)"
      ]
    },
    {
      "cell_type": "markdown",
      "source": [
        "Load data"
      ],
      "metadata": {
        "id": "004EfT_XBMwu"
      }
    },
    {
      "cell_type": "code",
      "execution_count": null,
      "metadata": {
        "id": "p2tJk8ffWey7"
      },
      "outputs": [],
      "source": [
        "train_doc = np.random.permutation(open('datasets/Project_data/train.csv').readlines())\n",
        "val_doc = np.random.permutation(open('datasets/Project_data/val.csv').readlines())\n",
        "batch_size = 60"
      ]
    },
    {
      "cell_type": "code",
      "execution_count": null,
      "metadata": {
        "id": "ePnV-14PpteJ"
      },
      "outputs": [],
      "source": [
        "# Defining for Cropping and Resizing images\n",
        "def cropAndResize(image,HEIGHT_DIMENSION,WIDTH_DIMENSION):\n",
        "    #crop the images and resize them.  \n",
        "    #Note that the images are of 2 different shape& the conv3D will throw error if the inputs in a batch have different shapes.\n",
        "    # CROPPING (making aspect ratio same)\n",
        "    if abs(image.shape[0]-image.shape[1])%2==0 and image.shape[0]!=image.shape[1]:\n",
        "        dimension_diff=abs(image.shape[0]-image.shape[1])\n",
        "        cropping_ratio=dimension_diff//2\n",
        "        if image.shape[0]>image.shape[1]:\n",
        "            image=image[cropping_ratio:image.shape[0]-cropping_ratio,:,:]\n",
        "        elif image.shape[0]<image.shape[1]:\n",
        "            image=image[:,cropping_ratio:image.shape[1]-cropping_ratio,:]\n",
        "                    \n",
        "    # RESIZING\n",
        "    if image.shape[0]>100 or image.shape[1]>100:\n",
        "        image=resize(image, (100, 100))\n",
        "    return image"
      ]
    },
    {
      "cell_type": "code",
      "execution_count": null,
      "metadata": {
        "id": "Lk2HPPunWe1L"
      },
      "outputs": [],
      "source": [
        "def generator(source_path, folder_list, batch_size):\n",
        "    print( 'Source path = ', source_path, '; batch size =', batch_size)\n",
        "    img_idx = [1,3,5,6,7,9,11,13,15,17,18,19,21,23,24,25,27,29]#create a list of image numbers you want to use for a particular video\n",
        "    while True:\n",
        "        t = np.random.permutation(folder_list)\n",
        "        num_batches = len(source_path)//batch_size # calculate the number of batches\n",
        "        for batch in range(num_batches): # we iterate over the number of batches\n",
        "            batch_data = np.zeros((batch_size,18,100,100,3)) # x is the number of images you use for each video, (y,z) is the final size of the input images and 3 is the number of channels RGB\n",
        "            batch_labels = np.zeros((batch_size,5)) # batch_labels is the one hot representation of the output\n",
        "            for folder in range(batch_size): # iterate over the batch_size\n",
        "                imgs = os.listdir(source_path+'/'+ t[folder + (batch*batch_size)].split(';')[0]) # read all the images in the folder\n",
        "                for idx,item in enumerate(img_idx): #  Iterate iver the frames/images of a folder to read them in\n",
        "                    image = imageio.imread(source_path+'/'+ t[folder + (batch*batch_size)].strip().split(';')[0]+'/'+imgs[item]).astype(np.float32)\n",
        "                    \n",
        "                    \n",
        "                     #resize  \n",
        "                    image_resized = cropAndResize(image,100,100)\n",
        "                \n",
        "                    \n",
        "                    \n",
        "                    #crop the images and resize them. Note that the images are of 2 different shape \n",
        "                    #and the conv3D will throw error if the inputs in a batch have different shapes\n",
        "                    \n",
        "                    batch_data[folder,idx,:,:,0] = (image_resized[:,:,0])/255        #normalise and feed in the image\n",
        "                    batch_data[folder,idx,:,:,1] = (image_resized[:,:,1])/255        #normalise and feed in the image\n",
        "                    batch_data[folder,idx,:,:,2] = (image_resized[:,:,2])/255        #normalise and feed in the image\n",
        "                    \n",
        "                batch_labels[folder, int(t[folder + (batch*batch_size)].strip().split(';')[2])] = 1\n",
        "            yield batch_data, batch_labels #you yield the batch_data and the batch_labels, remember what does yield do\n",
        "\n",
        "        \n",
        "        # write the code for the remaining data points which are left after full batches\n",
        "        if((len(source_path)%batch_size)//2==0):\n",
        "            batch_size = 2\n",
        "        else:\n",
        "            batch_size = 1\n",
        "        num_batches = len(source_path)%batch_size # calculate the number of batches\n",
        "        for batch in range(num_batches): # we iterate over the number of batches\n",
        "            batch_data = np.zeros((batch_size,18,100,100,3)) # x is the number of images you use for each video, (y,z) is the final size of the input images and 3 is the number of channels RGB\n",
        "            batch_labels = np.zeros((batch_size,5)) # batch_labels is the one hot representation of the output\n",
        "            for folder in range(batch_size): # iterate over the batch_size\n",
        "                imgs = os.listdir(source_path+'/'+ t[folder + (batch*batch_size)].split(';')[0]) # read all the images in the folder\n",
        "                for idx,item in enumerate(img_idx): #  Iterate iver the frames/images of a folder to read them in\n",
        "                    image = imageio.imread(source_path+'/'+ t[folder + (batch*batch_size)].strip().split(';')[0]+'/'+imgs[item]).astype(np.float32)\n",
        "                    \n",
        "                    \n",
        "                    \n",
        "                    # Cropped image\n",
        "                    image_resized = cropAndResize(image,100,100)\n",
        "                    \n",
        "                    #crop the images and resize them. Note that the images are of 2 different shape \n",
        "                    #and the conv3D will throw error if the inputs in a batch have different shapes\n",
        "                    batch_data[folder,idx,:,:,0] = (image_resized[:,:,0])/255        #normalise and feed in the image\n",
        "                    batch_data[folder,idx,:,:,1] = (image_resized[:,:,1])/255        #normalise and feed in the image\n",
        "                    batch_data[folder,idx,:,:,2] = (image_resized[:,:,2])/255        #normalise and feed in the image\n",
        "                    \n",
        "                    \n",
        "                batch_labels[folder, int(t[folder + (batch*batch_size)].strip().split(';')[2])] = 1\n",
        "            yield batch_data, batch_labels #you yield the batch_data and the batch_labels, remember what does yield do\n"
      ]
    },
    {
      "cell_type": "code",
      "execution_count": null,
      "metadata": {
        "id": "NrXwXB7Hptea"
      },
      "outputs": [],
      "source": [
        "# Creating fuction for plotting results in graph\n",
        "from matplotlib import pyplot as plt\n",
        "def plot(history):\n",
        "    fig, axes = plt.subplots(nrows=1, ncols=2, figsize=(15,4))\n",
        "    axes[0].plot(history.history['loss'])   \n",
        "    axes[0].plot(history.history['val_loss'])\n",
        "    axes[0].legend(['loss','val_loss'])\n",
        "\n",
        "    axes[1].plot(history.history['categorical_accuracy'])   \n",
        "    axes[1].plot(history.history['val_categorical_accuracy'])\n",
        "    axes[1].legend(['categorical_accuracy','val_categorical_accuracy'])"
      ]
    },
    {
      "cell_type": "code",
      "execution_count": null,
      "metadata": {
        "id": "lYd9DGkiWe3f",
        "outputId": "d3028622-4854-487a-c293-fb2e1f345289"
      },
      "outputs": [
        {
          "name": "stdout",
          "output_type": "stream",
          "text": [
            "# training sequences = 663\n",
            "# validation sequences = 100\n",
            "# epochs = 100\n"
          ]
        }
      ],
      "source": [
        "curr_dt_time = datetime.datetime.now()\n",
        "train_path = 'datasets/Project_data/train'\n",
        "val_path = 'datasets/Project_data/val'\n",
        "num_train_sequences = len(train_doc)\n",
        "print('# training sequences =', num_train_sequences)\n",
        "num_val_sequences = len(val_doc)\n",
        "print('# validation sequences =', num_val_sequences)\n",
        "num_epochs = 100 # choose the number of epochs\n",
        "print ('# epochs =', num_epochs)"
      ]
    },
    {
      "cell_type": "markdown",
      "source": [
        "Model 13: batch_size = 60"
      ],
      "metadata": {
        "id": "TsqJUQi7BTEh"
      }
    },
    {
      "cell_type": "code",
      "execution_count": null,
      "metadata": {
        "id": "9VQEdZSjWe51",
        "outputId": "b8ff0832-dcb8-46d4-d716-923a83dc00c2"
      },
      "outputs": [
        {
          "name": "stdout",
          "output_type": "stream",
          "text": [
            "WARNING:tensorflow:`input_shape` is undefined or non-square, or `rows` is not in [128, 160, 192, 224]. Weights for input shape (224, 224) will be loaded as the default.\n"
          ]
        },
        {
          "name": "stderr",
          "output_type": "stream",
          "text": [
            "2022-05-25 10:05:22.805441: W tensorflow/core/common_runtime/gpu/gpu_bfc_allocator.cc:39] Overriding allow_growth setting because the TF_FORCE_GPU_ALLOW_GROWTH environment variable is set. Original config value was 0.\n",
            "2022-05-25 10:05:22.805519: I tensorflow/core/common_runtime/gpu/gpu_device.cc:1525] Created device /job:localhost/replica:0/task:0/device:GPU:0 with 14803 MB memory:  -> device: 0, name: Quadro RTX 5000, pci bus id: 0000:1c:00.0, compute capability: 7.5\n"
          ]
        }
      ],
      "source": [
        "from keras.models import Sequential, Model\n",
        "from keras.layers import Dense, GRU, Flatten, TimeDistributed, Flatten, BatchNormalization, Activation,Dropout,GlobalAveragePooling3D,LSTM,GlobalAveragePooling2D\n",
        "from keras.layers.convolutional import Conv3D, MaxPooling3D,Conv2D,MaxPooling2D\n",
        "from keras.callbacks import ModelCheckpoint, ReduceLROnPlateau,EarlyStopping\n",
        "from keras import optimizers\n",
        "img_idx =  [1,3,5,6,7,9,11,13,15,17,18,19,21,23,24,25,27,29]\n",
        "input_shape = (len(img_idx), 100, 100, 3)\n",
        "np.random.seed(30)\n",
        "\n",
        "#write your model here\n",
        "from keras.applications import mobilenet\n",
        "\n",
        "mobilenet_transfer = mobilenet.MobileNet(weights='imagenet', include_top=False)\n",
        "\n",
        "model = Sequential()\n",
        "model.add(TimeDistributed(mobilenet_transfer,input_shape=input_shape))\n",
        " \n",
        "model.add(TimeDistributed(BatchNormalization()))\n",
        "model.add(TimeDistributed(MaxPooling2D((2, 2))))\n",
        "model.add(TimeDistributed(Flatten()))\n",
        "\n",
        "model.add(GRU(128))\n",
        "model.add(Dropout(0.25))\n",
        "        \n",
        "model.add(Dense(128,activation='elu'))\n",
        "model.add(Dropout(0.25))\n",
        "        \n",
        "model.add(Dense(5, activation='softmax'))"
      ]
    },
    {
      "cell_type": "code",
      "execution_count": null,
      "metadata": {
        "id": "aY1t-1JkWe9S",
        "outputId": "30b96665-59bc-46e0-fe8f-9c068bb25f55"
      },
      "outputs": [
        {
          "name": "stdout",
          "output_type": "stream",
          "text": [
            "Model: \"sequential\"\n",
            "_________________________________________________________________\n",
            " Layer (type)                Output Shape              Param #   \n",
            "=================================================================\n",
            " time_distributed (TimeDistr  (None, 18, 3, 3, 1024)   3228864   \n",
            " ibuted)                                                         \n",
            "                                                                 \n",
            " time_distributed_1 (TimeDis  (None, 18, 3, 3, 1024)   4096      \n",
            " tributed)                                                       \n",
            "                                                                 \n",
            " time_distributed_2 (TimeDis  (None, 18, 1, 1, 1024)   0         \n",
            " tributed)                                                       \n",
            "                                                                 \n",
            " time_distributed_3 (TimeDis  (None, 18, 1024)         0         \n",
            " tributed)                                                       \n",
            "                                                                 \n",
            " gru (GRU)                   (None, 128)               443136    \n",
            "                                                                 \n",
            " dropout (Dropout)           (None, 128)               0         \n",
            "                                                                 \n",
            " dense (Dense)               (None, 128)               16512     \n",
            "                                                                 \n",
            " dropout_1 (Dropout)         (None, 128)               0         \n",
            "                                                                 \n",
            " dense_1 (Dense)             (None, 5)                 645       \n",
            "                                                                 \n",
            "=================================================================\n",
            "Total params: 3,693,253\n",
            "Trainable params: 3,669,317\n",
            "Non-trainable params: 23,936\n",
            "_________________________________________________________________\n",
            "None\n"
          ]
        }
      ],
      "source": [
        "optimiser =tf.keras.optimizers.Adam() #write your optimizer\n",
        "model.compile(optimizer=optimiser, loss='categorical_crossentropy', metrics=['categorical_accuracy'])\n",
        "print (model.summary())"
      ]
    },
    {
      "cell_type": "code",
      "execution_count": null,
      "metadata": {
        "id": "rfrl7DPTWfAL"
      },
      "outputs": [],
      "source": [
        "train_generator = generator(train_path, train_doc, batch_size)\n",
        "val_generator = generator(val_path, val_doc, batch_size)"
      ]
    },
    {
      "cell_type": "code",
      "execution_count": null,
      "metadata": {
        "id": "71BpxhS_WuW6"
      },
      "outputs": [],
      "source": [
        "model_name = 'model_init' + '_' + str(curr_dt_time).replace(' ','').replace(':','_') + '/'\n",
        "    \n",
        "if not os.path.exists(model_name):\n",
        "    os.mkdir(model_name)\n",
        "        \n",
        "filepath = model_name + 'model-{epoch:05d}-{loss:.5f}-{categorical_accuracy:.5f}-{val_loss:.5f}-{val_categorical_accuracy:.5f}.h5'\n",
        "\n",
        "checkpoint = ModelCheckpoint(filepath, monitor='val_loss', verbose=1, save_best_only=True, save_weights_only=False, mode='auto', save_freq='epoch')\n",
        "\n",
        "LR =ReduceLROnPlateau(monitor='val_loss', factor=0.2, verbose=1, patience=4) # write the REducelronplateau code here\n",
        "earlystop = EarlyStopping( monitor=\"val_loss\", min_delta=0,patience=10,verbose=1)\n",
        "callbacks_list = [checkpoint, LR, earlystop]"
      ]
    },
    {
      "cell_type": "code",
      "execution_count": null,
      "metadata": {
        "id": "CqpKf-8iWuZ7"
      },
      "outputs": [],
      "source": [
        "if (num_train_sequences%batch_size) == 0:\n",
        "    steps_per_epoch = int(num_train_sequences/batch_size)\n",
        "else:\n",
        "    steps_per_epoch = (num_train_sequences//batch_size) + 1\n",
        "\n",
        "if (num_val_sequences%batch_size) == 0:\n",
        "    validation_steps = int(num_val_sequences/batch_size)\n",
        "else:\n",
        "    validation_steps = (num_val_sequences//batch_size) + 1"
      ]
    },
    {
      "cell_type": "code",
      "execution_count": null,
      "metadata": {
        "id": "-j_IrRY2Wuf4",
        "outputId": "661d7649-faef-40ee-b245-7abccd44d414"
      },
      "outputs": [
        {
          "name": "stdout",
          "output_type": "stream",
          "text": [
            "Source path =  datasets/Project_data/train ; batch size = 60\n"
          ]
        },
        {
          "name": "stderr",
          "output_type": "stream",
          "text": [
            "/tmp/ipykernel_810/1787904139.py:1: UserWarning: `Model.fit_generator` is deprecated and will be removed in a future version. Please use `Model.fit`, which supports generators.\n",
            "  history=model.fit_generator(train_generator, steps_per_epoch=steps_per_epoch, epochs=num_epochs, verbose=1,\n"
          ]
        },
        {
          "name": "stdout",
          "output_type": "stream",
          "text": [
            "Epoch 1/100\n"
          ]
        },
        {
          "name": "stderr",
          "output_type": "stream",
          "text": [
            "2022-05-25 10:05:28.823618: I tensorflow/stream_executor/cuda/cuda_dnn.cc:377] Loaded cuDNN version 8302\n"
          ]
        },
        {
          "name": "stdout",
          "output_type": "stream",
          "text": [
            "12/12 [==============================] - ETA: 0s - loss: 2.5189 - categorical_accuracy: 0.2500Source path =  datasets/Project_data/val ; batch size = 60\n",
            "\n",
            "Epoch 00001: val_loss improved from inf to 1.31318, saving model to model_init_2022-05-2510_05_21.032083/model-00001-2.51892-0.25000-1.31318-0.50000.h5\n",
            "12/12 [==============================] - 10s 282ms/step - loss: 2.5189 - categorical_accuracy: 0.2500 - val_loss: 1.3132 - val_categorical_accuracy: 0.5000 - lr: 0.0010\n",
            "Epoch 2/100\n",
            "12/12 [==============================] - ETA: 0s - loss: 2.0159 - categorical_accuracy: 0.3333\n",
            "Epoch 00002: val_loss did not improve from 1.31318\n",
            "12/12 [==============================] - 2s 167ms/step - loss: 2.0159 - categorical_accuracy: 0.3333 - val_loss: 2.2182 - val_categorical_accuracy: 0.0000e+00 - lr: 0.0010\n",
            "Epoch 3/100\n",
            "12/12 [==============================] - ETA: 0s - loss: 1.2343 - categorical_accuracy: 0.5238\n",
            "Epoch 00003: val_loss did not improve from 1.31318\n",
            "12/12 [==============================] - 3s 250ms/step - loss: 1.2343 - categorical_accuracy: 0.5238 - val_loss: 2.0056 - val_categorical_accuracy: 0.0000e+00 - lr: 0.0010\n",
            "Epoch 4/100\n",
            "12/12 [==============================] - ETA: 0s - loss: 1.5897 - categorical_accuracy: 0.3750\n",
            "Epoch 00004: val_loss improved from 1.31318 to 0.84390, saving model to model_init_2022-05-2510_05_21.032083/model-00004-1.58972-0.37500-0.84390-0.50000.h5\n",
            "12/12 [==============================] - 3s 300ms/step - loss: 1.5897 - categorical_accuracy: 0.3750 - val_loss: 0.8439 - val_categorical_accuracy: 0.5000 - lr: 0.0010\n",
            "Epoch 5/100\n",
            "12/12 [==============================] - ETA: 0s - loss: 1.3526 - categorical_accuracy: 0.5417\n",
            "Epoch 00005: val_loss improved from 0.84390 to 0.75253, saving model to model_init_2022-05-2510_05_21.032083/model-00005-1.35257-0.54167-0.75253-1.00000.h5\n",
            "12/12 [==============================] - 3s 266ms/step - loss: 1.3526 - categorical_accuracy: 0.5417 - val_loss: 0.7525 - val_categorical_accuracy: 1.0000 - lr: 0.0010\n",
            "Epoch 6/100\n",
            "12/12 [==============================] - ETA: 0s - loss: 1.1386 - categorical_accuracy: 0.5833\n",
            "Epoch 00006: val_loss improved from 0.75253 to 0.69386, saving model to model_init_2022-05-2510_05_21.032083/model-00006-1.13861-0.58333-0.69386-1.00000.h5\n",
            "12/12 [==============================] - 3s 309ms/step - loss: 1.1386 - categorical_accuracy: 0.5833 - val_loss: 0.6939 - val_categorical_accuracy: 1.0000 - lr: 0.0010\n",
            "Epoch 7/100\n",
            "12/12 [==============================] - ETA: 0s - loss: 1.0430 - categorical_accuracy: 0.6250\n",
            "Epoch 00007: val_loss did not improve from 0.69386\n",
            "12/12 [==============================] - 4s 326ms/step - loss: 1.0430 - categorical_accuracy: 0.6250 - val_loss: 3.0403 - val_categorical_accuracy: 0.0000e+00 - lr: 0.0010\n",
            "Epoch 8/100\n",
            "12/12 [==============================] - ETA: 0s - loss: 1.0140 - categorical_accuracy: 0.5000\n",
            "Epoch 00008: val_loss did not improve from 0.69386\n",
            "12/12 [==============================] - 3s 287ms/step - loss: 1.0140 - categorical_accuracy: 0.5000 - val_loss: 1.3460 - val_categorical_accuracy: 0.5000 - lr: 0.0010\n",
            "Epoch 9/100\n",
            "12/12 [==============================] - ETA: 0s - loss: 0.8785 - categorical_accuracy: 0.6250\n",
            "Epoch 00009: val_loss did not improve from 0.69386\n",
            "12/12 [==============================] - 3s 257ms/step - loss: 0.8785 - categorical_accuracy: 0.6250 - val_loss: 1.0845 - val_categorical_accuracy: 0.6667 - lr: 0.0010\n",
            "Epoch 10/100\n",
            "12/12 [==============================] - ETA: 0s - loss: 0.8091 - categorical_accuracy: 0.7083\n",
            "Epoch 00010: val_loss did not improve from 0.69386\n",
            "\n",
            "Epoch 00010: ReduceLROnPlateau reducing learning rate to 0.00020000000949949026.\n",
            "12/12 [==============================] - 4s 338ms/step - loss: 0.8091 - categorical_accuracy: 0.7083 - val_loss: 1.1553 - val_categorical_accuracy: 0.7500 - lr: 0.0010\n",
            "Epoch 11/100\n",
            "12/12 [==============================] - ETA: 0s - loss: 1.2300 - categorical_accuracy: 0.4583\n",
            "Epoch 00011: val_loss improved from 0.69386 to 0.66912, saving model to model_init_2022-05-2510_05_21.032083/model-00011-1.22998-0.45833-0.66912-0.75000.h5\n",
            "12/12 [==============================] - 4s 382ms/step - loss: 1.2300 - categorical_accuracy: 0.4583 - val_loss: 0.6691 - val_categorical_accuracy: 0.7500 - lr: 2.0000e-04\n",
            "Epoch 12/100\n",
            "12/12 [==============================] - ETA: 0s - loss: 0.6206 - categorical_accuracy: 0.7917\n",
            "Epoch 00012: val_loss did not improve from 0.66912\n",
            "12/12 [==============================] - 3s 299ms/step - loss: 0.6206 - categorical_accuracy: 0.7917 - val_loss: 1.8626 - val_categorical_accuracy: 0.5000 - lr: 2.0000e-04\n",
            "Epoch 13/100\n",
            "12/12 [==============================] - ETA: 0s - loss: 1.1336 - categorical_accuracy: 0.6250\n",
            "Epoch 00013: val_loss improved from 0.66912 to 0.64750, saving model to model_init_2022-05-2510_05_21.032083/model-00013-1.13359-0.62500-0.64750-0.75000.h5\n",
            "12/12 [==============================] - 4s 357ms/step - loss: 1.1336 - categorical_accuracy: 0.6250 - val_loss: 0.6475 - val_categorical_accuracy: 0.7500 - lr: 2.0000e-04\n",
            "Epoch 14/100\n",
            "12/12 [==============================] - ETA: 0s - loss: 0.4536 - categorical_accuracy: 0.8333\n",
            "Epoch 00014: val_loss did not improve from 0.64750\n",
            "12/12 [==============================] - 3s 261ms/step - loss: 0.4536 - categorical_accuracy: 0.8333 - val_loss: 1.5797 - val_categorical_accuracy: 0.5000 - lr: 2.0000e-04\n",
            "Epoch 15/100\n",
            "12/12 [==============================] - ETA: 0s - loss: 0.6544 - categorical_accuracy: 0.7083\n",
            "Epoch 00015: val_loss improved from 0.64750 to 0.25120, saving model to model_init_2022-05-2510_05_21.032083/model-00015-0.65444-0.70833-0.25120-0.75000.h5\n",
            "12/12 [==============================] - 4s 336ms/step - loss: 0.6544 - categorical_accuracy: 0.7083 - val_loss: 0.2512 - val_categorical_accuracy: 0.7500 - lr: 2.0000e-04\n",
            "Epoch 16/100\n",
            "12/12 [==============================] - ETA: 0s - loss: 0.7436 - categorical_accuracy: 0.7917\n",
            "Epoch 00016: val_loss did not improve from 0.25120\n",
            "12/12 [==============================] - 4s 367ms/step - loss: 0.7436 - categorical_accuracy: 0.7917 - val_loss: 0.5338 - val_categorical_accuracy: 0.5000 - lr: 2.0000e-04\n",
            "Epoch 17/100\n",
            "12/12 [==============================] - ETA: 0s - loss: 0.7105 - categorical_accuracy: 0.8333\n",
            "Epoch 00017: val_loss improved from 0.25120 to 0.20824, saving model to model_init_2022-05-2510_05_21.032083/model-00017-0.71045-0.83333-0.20824-1.00000.h5\n",
            "12/12 [==============================] - 4s 402ms/step - loss: 0.7105 - categorical_accuracy: 0.8333 - val_loss: 0.2082 - val_categorical_accuracy: 1.0000 - lr: 2.0000e-04\n",
            "Epoch 18/100\n",
            "12/12 [==============================] - ETA: 0s - loss: 0.4818 - categorical_accuracy: 0.8750\n",
            "Epoch 00018: val_loss did not improve from 0.20824\n",
            "12/12 [==============================] - 4s 323ms/step - loss: 0.4818 - categorical_accuracy: 0.8750 - val_loss: 1.0438 - val_categorical_accuracy: 0.5000 - lr: 2.0000e-04\n",
            "Epoch 19/100\n",
            "12/12 [==============================] - ETA: 0s - loss: 0.7327 - categorical_accuracy: 0.7917\n",
            "Epoch 00019: val_loss improved from 0.20824 to 0.14275, saving model to model_init_2022-05-2510_05_21.032083/model-00019-0.73266-0.79167-0.14275-1.00000.h5\n",
            "12/12 [==============================] - 5s 446ms/step - loss: 0.7327 - categorical_accuracy: 0.7917 - val_loss: 0.1428 - val_categorical_accuracy: 1.0000 - lr: 2.0000e-04\n",
            "Epoch 20/100\n",
            "12/12 [==============================] - ETA: 0s - loss: 1.1553 - categorical_accuracy: 0.6667\n",
            "Epoch 00020: val_loss did not improve from 0.14275\n",
            "12/12 [==============================] - 4s 346ms/step - loss: 1.1553 - categorical_accuracy: 0.6667 - val_loss: 1.1279 - val_categorical_accuracy: 0.7500 - lr: 2.0000e-04\n",
            "Epoch 21/100\n",
            "12/12 [==============================] - ETA: 0s - loss: 0.6655 - categorical_accuracy: 0.7500\n",
            "Epoch 00021: val_loss did not improve from 0.14275\n",
            "12/12 [==============================] - 3s 295ms/step - loss: 0.6655 - categorical_accuracy: 0.7500 - val_loss: 0.4139 - val_categorical_accuracy: 0.7500 - lr: 2.0000e-04\n",
            "Epoch 22/100\n",
            "12/12 [==============================] - ETA: 0s - loss: 0.7151 - categorical_accuracy: 0.8750\n",
            "Epoch 00022: val_loss did not improve from 0.14275\n",
            "12/12 [==============================] - 4s 321ms/step - loss: 0.7151 - categorical_accuracy: 0.8750 - val_loss: 0.3524 - val_categorical_accuracy: 0.7500 - lr: 2.0000e-04\n",
            "Epoch 23/100\n",
            "12/12 [==============================] - ETA: 0s - loss: 0.6858 - categorical_accuracy: 0.8333\n",
            "Epoch 00023: val_loss did not improve from 0.14275\n",
            "\n",
            "Epoch 00023: ReduceLROnPlateau reducing learning rate to 4.0000001899898055e-05.\n",
            "12/12 [==============================] - 5s 430ms/step - loss: 0.6858 - categorical_accuracy: 0.8333 - val_loss: 0.8494 - val_categorical_accuracy: 0.7500 - lr: 2.0000e-04\n",
            "Epoch 24/100\n",
            "12/12 [==============================] - ETA: 0s - loss: 0.3205 - categorical_accuracy: 0.9167\n",
            "Epoch 00024: val_loss did not improve from 0.14275\n",
            "12/12 [==============================] - 3s 294ms/step - loss: 0.3205 - categorical_accuracy: 0.9167 - val_loss: 0.5509 - val_categorical_accuracy: 0.7500 - lr: 4.0000e-05\n",
            "Epoch 25/100\n",
            "12/12 [==============================] - ETA: 0s - loss: 1.0477 - categorical_accuracy: 0.7083\n",
            "Epoch 00025: val_loss did not improve from 0.14275\n",
            "12/12 [==============================] - 4s 347ms/step - loss: 1.0477 - categorical_accuracy: 0.7083 - val_loss: 0.3421 - val_categorical_accuracy: 1.0000 - lr: 4.0000e-05\n",
            "Epoch 26/100\n",
            "12/12 [==============================] - ETA: 0s - loss: 0.4311 - categorical_accuracy: 0.8750\n",
            "Epoch 00026: val_loss improved from 0.14275 to 0.06045, saving model to model_init_2022-05-2510_05_21.032083/model-00026-0.43110-0.87500-0.06045-1.00000.h5\n",
            "12/12 [==============================] - 3s 311ms/step - loss: 0.4311 - categorical_accuracy: 0.8750 - val_loss: 0.0605 - val_categorical_accuracy: 1.0000 - lr: 4.0000e-05\n",
            "Epoch 27/100\n",
            "12/12 [==============================] - ETA: 0s - loss: 0.4740 - categorical_accuracy: 0.8333\n",
            "Epoch 00027: val_loss did not improve from 0.06045\n",
            "12/12 [==============================] - 3s 279ms/step - loss: 0.4740 - categorical_accuracy: 0.8333 - val_loss: 0.3218 - val_categorical_accuracy: 0.7500 - lr: 4.0000e-05\n",
            "Epoch 28/100\n",
            "12/12 [==============================] - ETA: 0s - loss: 0.4116 - categorical_accuracy: 0.7917\n",
            "Epoch 00028: val_loss did not improve from 0.06045\n",
            "12/12 [==============================] - 4s 356ms/step - loss: 0.4116 - categorical_accuracy: 0.7917 - val_loss: 1.3586 - val_categorical_accuracy: 0.5000 - lr: 4.0000e-05\n",
            "Epoch 29/100\n",
            "12/12 [==============================] - ETA: 0s - loss: 0.7855 - categorical_accuracy: 0.7083\n",
            "Epoch 00029: val_loss did not improve from 0.06045\n",
            "12/12 [==============================] - 4s 392ms/step - loss: 0.7855 - categorical_accuracy: 0.7083 - val_loss: 0.2505 - val_categorical_accuracy: 0.7500 - lr: 4.0000e-05\n",
            "Epoch 30/100\n",
            "12/12 [==============================] - ETA: 0s - loss: 0.3972 - categorical_accuracy: 0.8333\n",
            "Epoch 00030: val_loss improved from 0.06045 to 0.04473, saving model to model_init_2022-05-2510_05_21.032083/model-00030-0.39720-0.83333-0.04473-1.00000.h5\n",
            "12/12 [==============================] - 4s 371ms/step - loss: 0.3972 - categorical_accuracy: 0.8333 - val_loss: 0.0447 - val_categorical_accuracy: 1.0000 - lr: 4.0000e-05\n",
            "Epoch 31/100\n",
            "12/12 [==============================] - ETA: 0s - loss: 0.2435 - categorical_accuracy: 0.8750\n",
            "Epoch 00031: val_loss did not improve from 0.04473\n",
            "12/12 [==============================] - 4s 338ms/step - loss: 0.2435 - categorical_accuracy: 0.8750 - val_loss: 1.1136 - val_categorical_accuracy: 0.5000 - lr: 4.0000e-05\n",
            "Epoch 32/100\n",
            "12/12 [==============================] - ETA: 0s - loss: 0.4360 - categorical_accuracy: 0.8750\n",
            "Epoch 00032: val_loss did not improve from 0.04473\n",
            "12/12 [==============================] - 5s 428ms/step - loss: 0.4360 - categorical_accuracy: 0.8750 - val_loss: 0.1930 - val_categorical_accuracy: 1.0000 - lr: 4.0000e-05\n",
            "Epoch 33/100\n",
            "12/12 [==============================] - ETA: 0s - loss: 0.3733 - categorical_accuracy: 0.8750\n",
            "Epoch 00033: val_loss did not improve from 0.04473\n",
            "12/12 [==============================] - 4s 327ms/step - loss: 0.3733 - categorical_accuracy: 0.8750 - val_loss: 0.2559 - val_categorical_accuracy: 1.0000 - lr: 4.0000e-05\n",
            "Epoch 34/100\n",
            "12/12 [==============================] - ETA: 0s - loss: 0.2863 - categorical_accuracy: 0.8750\n",
            "Epoch 00034: val_loss did not improve from 0.04473\n",
            "\n",
            "Epoch 00034: ReduceLROnPlateau reducing learning rate to 8.000000525498762e-06.\n",
            "12/12 [==============================] - 4s 356ms/step - loss: 0.2863 - categorical_accuracy: 0.8750 - val_loss: 1.4354 - val_categorical_accuracy: 0.5000 - lr: 4.0000e-05\n",
            "Epoch 35/100\n",
            "12/12 [==============================] - ETA: 0s - loss: 0.2879 - categorical_accuracy: 0.8750\n",
            "Epoch 00035: val_loss did not improve from 0.04473\n",
            "12/12 [==============================] - 4s 336ms/step - loss: 0.2879 - categorical_accuracy: 0.8750 - val_loss: 0.7455 - val_categorical_accuracy: 0.7500 - lr: 8.0000e-06\n",
            "Epoch 36/100\n",
            "12/12 [==============================] - ETA: 0s - loss: 0.6125 - categorical_accuracy: 0.8333\n",
            "Epoch 00036: val_loss did not improve from 0.04473\n",
            "12/12 [==============================] - 3s 306ms/step - loss: 0.6125 - categorical_accuracy: 0.8333 - val_loss: 0.0526 - val_categorical_accuracy: 1.0000 - lr: 8.0000e-06\n",
            "Epoch 37/100\n",
            "12/12 [==============================] - ETA: 0s - loss: 0.3250 - categorical_accuracy: 0.8333\n",
            "Epoch 00037: val_loss did not improve from 0.04473\n",
            "12/12 [==============================] - 4s 349ms/step - loss: 0.3250 - categorical_accuracy: 0.8333 - val_loss: 0.3478 - val_categorical_accuracy: 1.0000 - lr: 8.0000e-06\n",
            "Epoch 38/100\n",
            "12/12 [==============================] - ETA: 0s - loss: 0.5509 - categorical_accuracy: 0.8333\n",
            "Epoch 00038: val_loss did not improve from 0.04473\n",
            "\n",
            "Epoch 00038: ReduceLROnPlateau reducing learning rate to 1.6000001778593287e-06.\n",
            "12/12 [==============================] - 4s 341ms/step - loss: 0.5509 - categorical_accuracy: 0.8333 - val_loss: 1.2899 - val_categorical_accuracy: 0.5000 - lr: 8.0000e-06\n",
            "Epoch 39/100\n",
            "12/12 [==============================] - ETA: 0s - loss: 0.7747 - categorical_accuracy: 0.8333\n",
            "Epoch 00039: val_loss did not improve from 0.04473\n",
            "12/12 [==============================] - 4s 330ms/step - loss: 0.7747 - categorical_accuracy: 0.8333 - val_loss: 0.7037 - val_categorical_accuracy: 0.7500 - lr: 1.6000e-06\n",
            "Epoch 40/100\n",
            "12/12 [==============================] - ETA: 0s - loss: 0.3738 - categorical_accuracy: 0.8750\n",
            "Epoch 00040: val_loss did not improve from 0.04473\n",
            "12/12 [==============================] - 4s 347ms/step - loss: 0.3738 - categorical_accuracy: 0.8750 - val_loss: 0.2158 - val_categorical_accuracy: 1.0000 - lr: 1.6000e-06\n",
            "Epoch 00040: early stopping\n"
          ]
        }
      ],
      "source": [
        "history=model.fit_generator(train_generator, steps_per_epoch=steps_per_epoch, epochs=num_epochs, verbose=1, \n",
        "                    callbacks=callbacks_list, validation_data=val_generator, \n",
        "                    validation_steps=validation_steps, class_weight=None, workers=1, initial_epoch=0)"
      ]
    },
    {
      "cell_type": "code",
      "execution_count": null,
      "metadata": {
        "id": "htnfcHzaWujS",
        "outputId": "b97d868e-3eb4-46f8-820b-69a2490e1b4b"
      },
      "outputs": [
        {
          "data": {
            "image/png": "[encoded data removed]",
            "text/plain": [
              "<Figure size 1080x288 with 2 Axes>"
            ]
          },
          "metadata": {
            "needs_background": "light"
          },
          "output_type": "display_data"
        }
      ],
      "source": [
        "plot(history)"
      ]
    },
    {
      "cell_type": "code",
      "execution_count": null,
      "metadata": {
        "id": "dzWfRmKiWume"
      },
      "outputs": [],
      "source": [
        ""
      ]
    },
    {
      "cell_type": "code",
      "execution_count": null,
      "metadata": {
        "id": "fe8m37FAWuqL"
      },
      "outputs": [],
      "source": [
        ""
      ]
    },
    {
      "cell_type": "code",
      "execution_count": null,
      "metadata": {
        "id": "7T9NWd1SWusZ"
      },
      "outputs": [],
      "source": [
        ""
      ]
    }
  ],
  "metadata": {
    "colab": {
      "name": "Model13.ipynb",
      "provenance": [],
      "collapsed_sections": []
    },
    "kernelspec": {
      "display_name": "Python 3 (ipykernel)",
      "language": "python",
      "name": "python3"
    },
    "language_info": {
      "codemirror_mode": {
        "name": "ipython",
        "version": 3
      },
      "file_extension": ".py",
      "mimetype": "text/x-python",
      "name": "python",
      "nbconvert_exporter": "python",
      "pygments_lexer": "ipython3",
      "version": "3.8.10"
    }
  },
  "nbformat": 4,
  "nbformat_minor": 0
}