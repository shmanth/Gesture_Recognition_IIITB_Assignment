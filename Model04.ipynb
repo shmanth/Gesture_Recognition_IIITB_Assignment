{
  "cells": [
    {
      "cell_type": "code",
      "execution_count": null,
      "metadata": {
        "id": "wDQ5bMGjWdSo"
      },
      "outputs": [],
      "source": [
        "# importing libraries\n",
        "import numpy as np\n",
        "import os\n",
        "import imageio \n",
        "from PIL import Image\n",
        "from skimage.transform import resize\n",
        "import datetime"
      ]
    },
    {
      "cell_type": "code",
      "execution_count": null,
      "metadata": {
        "id": "QgGqRXjRWew1"
      },
      "outputs": [],
      "source": [
        "np.random.seed(30)\n",
        "import random as rn\n",
        "rn.seed(30)\n",
        "from keras import backend as K\n",
        "import tensorflow as tf\n",
        "tf.random.set_seed(30)"
      ]
    },
    {
      "cell_type": "code",
      "execution_count": null,
      "metadata": {
        "id": "p2tJk8ffWey7"
      },
      "outputs": [],
      "source": [
        "train_doc = np.random.permutation(open('datasets/Project_data/train.csv').readlines())\n",
        "val_doc = np.random.permutation(open('datasets/Project_data/val.csv').readlines())\n",
        "batch_size = 64"
      ]
    },
    {
      "cell_type": "code",
      "execution_count": null,
      "metadata": {
        "id": "Lk2HPPunWe1L"
      },
      "outputs": [],
      "source": [
        "def generator(source_path, folder_list, batch_size):\n",
        "    print( 'Source path = ', source_path, '; batch size =', batch_size)\n",
        "    img_idx = [1,3,5,7,9,11,13,15,17,19,21,23,25,27,29]#create a list of image numbers you want to use for a particular video\n",
        "    while True:\n",
        "        t = np.random.permutation(folder_list)\n",
        "        num_batches = len(source_path)//batch_size # calculate the number of batches\n",
        "        for batch in range(num_batches): # we iterate over the number of batches\n",
        "            batch_data = np.zeros((batch_size,15,100,100,3)) # x is the number of images you use for each video, (y,z) is the final size of the input images and 3 is the number of channels RGB\n",
        "            batch_labels = np.zeros((batch_size,5)) # batch_labels is the one hot representation of the output\n",
        "            for folder in range(batch_size): # iterate over the batch_size\n",
        "                imgs = os.listdir(source_path+'/'+ t[folder + (batch*batch_size)].split(';')[0]) # read all the images in the folder\n",
        "                for idx,item in enumerate(img_idx): #  Iterate iver the frames/images of a folder to read them in\n",
        "                    image = imageio.imread(source_path+'/'+ t[folder + (batch*batch_size)].strip().split(';')[0]+'/'+imgs[item]).astype(np.float32)\n",
        "                    \n",
        "                    \n",
        "                    \n",
        "                    # Cropped image of above dimension \n",
        "                    # (It will not change orginal image) \n",
        "                    \n",
        "                    #image = image.crop((0, 0, 120, 120))\n",
        "                    image = image.resize(100, 100)\n",
        "                    \n",
        "                    \n",
        "                    #crop the images and resize them. Note that the images are of 2 different shape \n",
        "                    #and the conv3D will throw error if the inputs in a batch have different shapes\n",
        "                    \n",
        "                    batch_data[folder,idx,:,:,0] /= 255\n",
        "                    batch_data[folder,idx,:,:,1] /= 255 #normalise and feed in the image\n",
        "                    batch_data[folder,idx,:,:,2] /= 255 #normalise and feed in the image\n",
        "                    \n",
        "                batch_labels[folder, int(t[folder + (batch*batch_size)].strip().split(';')[2])] = 1\n",
        "            yield batch_data, batch_labels #you yield the batch_data and the batch_labels, remember what does yield do\n",
        "\n",
        "        \n",
        "        # write the code for the remaining data points which are left after full batches\n",
        "        if((len(source_path)%batch_size)//2==0):\n",
        "            batch_size = 2\n",
        "        else:\n",
        "            batch_size = 1\n",
        "        num_batches = len(source_path)%batch_size # calculate the number of batches\n",
        "        for batch in range(num_batches): # we iterate over the number of batches\n",
        "            batch_data = np.zeros((batch_size,15,100,100,3)) # x is the number of images you use for each video, (y,z) is the final size of the input images and 3 is the number of channels RGB\n",
        "            batch_labels = np.zeros((batch_size,5)) # batch_labels is the one hot representation of the output\n",
        "            for folder in range(batch_size): # iterate over the batch_size\n",
        "                imgs = os.listdir(source_path+'/'+ t[folder + (batch*batch_size)].split(';')[0]) # read all the images in the folder\n",
        "                for idx,item in enumerate(img_idx): #  Iterate iver the frames/images of a folder to read them in\n",
        "                    image = imageio.imread(source_path+'/'+ t[folder + (batch*batch_size)].strip().split(';')[0]+'/'+imgs[item]).astype(np.float32)\n",
        "                    \n",
        "                    \n",
        "                    \n",
        "                    # Cropped image of above dimension \n",
        "                    # (It will not change orginal image) \n",
        "                    \n",
        "                    #image = image.crop((0, 0, 120, 120))\n",
        "                    image = image.resize(100, 100)\n",
        "                    \n",
        "                    \n",
        "                    #crop the images and resize them. Note that the images are of 2 different shape \n",
        "                    #and the conv3D will throw error if the inputs in a batch have different shapes\n",
        "                    \n",
        "                    batch_data[folder,idx,:,:,0] /= 255\n",
        "                    batch_data[folder,idx,:,:,1] /= 255 #normalise and feed in the image\n",
        "                    batch_data[folder,idx,:,:,2] /= 255 #normalise and feed in the image\n",
        "                    \n",
        "                batch_labels[folder, int(t[folder + (batch*batch_size)].strip().split(';')[2])] = 1\n",
        "            yield batch_data, batch_labels #you yield the batch_data and the batch_labels, remember what does yield do\n"
      ]
    },
    {
      "cell_type": "code",
      "execution_count": null,
      "metadata": {
        "id": "lYd9DGkiWe3f",
        "outputId": "d3028622-4854-487a-c293-fb2e1f345289"
      },
      "outputs": [
        {
          "name": "stdout",
          "output_type": "stream",
          "text": [
            "# training sequences = 663\n",
            "# validation sequences = 100\n",
            "# epochs = 15\n"
          ]
        }
      ],
      "source": [
        "curr_dt_time = datetime.datetime.now()\n",
        "train_path = 'datasets/Project_data/train'\n",
        "val_path = 'datasets/Project_data/val'\n",
        "num_train_sequences = len(train_doc)\n",
        "print('# training sequences =', num_train_sequences)\n",
        "num_val_sequences = len(val_doc)\n",
        "print('# validation sequences =', num_val_sequences)\n",
        "num_epochs = 15 # choose the number of epochs\n",
        "print ('# epochs =', num_epochs)"
      ]
    },
    {
      "cell_type": "markdown",
      "source": [
        "model 4:\n",
        "batch_size = 64,num_epochs = 15\n"
      ],
      "metadata": {
        "id": "hEVY0oEY17x_"
      }
    },
    {
      "cell_type": "code",
      "execution_count": null,
      "metadata": {
        "id": "9VQEdZSjWe51",
        "outputId": "b8ff0832-dcb8-46d4-d716-923a83dc00c2"
      },
      "outputs": [
        {
          "name": "stderr",
          "output_type": "stream",
          "text": [
            "2022-05-23 11:26:11.416293: W tensorflow/stream_executor/platform/default/dso_loader.cc:65] Could not load dynamic library 'libcuda.so.1'; dlerror: libcuda.so.1: cannot open shared object file: No such file or directory; LD_LIBRARY_PATH: /usr/local/cuda/extras/CUPTI/lib64:/usr/local/cuda/compat/lib:/usr/local/nvidia/lib:/usr/local/nvidia/lib64\n",
            "2022-05-23 11:26:11.416331: W tensorflow/stream_executor/cuda/cuda_driver.cc:269] failed call to cuInit: UNKNOWN ERROR (303)\n",
            "2022-05-23 11:26:11.416353: I tensorflow/stream_executor/cuda/cuda_diagnostics.cc:163] no NVIDIA GPU device is present: /dev/nvidia0 does not exist\n"
          ]
        }
      ],
      "source": [
        "from keras.models import Sequential, Model\n",
        "from keras.layers import Dense, GRU, Flatten, TimeDistributed, Flatten, BatchNormalization, Activation, Dropout\n",
        "from keras.layers.convolutional import Conv3D, MaxPooling3D\n",
        "from keras.callbacks import ModelCheckpoint, ReduceLROnPlateau\n",
        "from keras import optimizers\n",
        "\n",
        "#write your model here\n",
        "Input_shape = (15, 100, 100, 3)\n",
        "model = Sequential()\n",
        "model.add(Conv3D(64, (3,3,3), padding='same',\n",
        "                 input_shape=Input_shape))\n",
        "model.add(Activation('elu'))\n",
        "model.add(MaxPooling3D(pool_size=(2, 2,2)))\n",
        "\n",
        "model.add(Conv3D(128, (3, 3,3)))\n",
        "model.add(BatchNormalization())\n",
        "model.add(Activation('elu'))\n",
        "model.add(MaxPooling3D(pool_size=(2, 2,2)))\n",
        "\n",
        "model.add(Conv3D(256, (3, 3,3), padding='same'))\n",
        "model.add(Activation('elu'))\n",
        "model.add(BatchNormalization())\n",
        "model.add(MaxPooling3D(pool_size=(2, 2,2)))\n",
        "\n",
        "model.add(Conv3D(256, (3, 3,3)))\n",
        "model.add(Activation('elu'))\n",
        "model.add(BatchNormalization())\n",
        "\n",
        "\n",
        "model.add(Flatten())\n",
        "model.add(Dropout(0.5))\n",
        "model.add(Dense(512))\n",
        "model.add(Activation('elu'))\n",
        "model.add(Dropout(0.5))\n",
        "model.add(Dense(5))\n",
        "model.add(Activation('softmax'))"
      ]
    },
    {
      "cell_type": "code",
      "execution_count": null,
      "metadata": {
        "id": "aY1t-1JkWe9S",
        "outputId": "30b96665-59bc-46e0-fe8f-9c068bb25f55"
      },
      "outputs": [
        {
          "name": "stdout",
          "output_type": "stream",
          "text": [
            "Model: \"sequential\"\n",
            "_________________________________________________________________\n",
            " Layer (type)                Output Shape              Param #   \n",
            "=================================================================\n",
            " conv3d (Conv3D)             (None, 18, 100, 100, 32)  2624      \n",
            "                                                                 \n",
            " activation (Activation)     (None, 18, 100, 100, 32)  0         \n",
            "                                                                 \n",
            " batch_normalization (BatchN  (None, 18, 100, 100, 32)  128      \n",
            " ormalization)                                                   \n",
            "                                                                 \n",
            " conv3d_1 (Conv3D)           (None, 16, 98, 98, 32)    27680     \n",
            "                                                                 \n",
            " activation_1 (Activation)   (None, 16, 98, 98, 32)    0         \n",
            "                                                                 \n",
            " batch_normalization_1 (Batc  (None, 16, 98, 98, 32)   128       \n",
            " hNormalization)                                                 \n",
            "                                                                 \n",
            " max_pooling3d (MaxPooling3D  (None, 8, 49, 49, 32)    0         \n",
            " )                                                               \n",
            "                                                                 \n",
            " dropout (Dropout)           (None, 8, 49, 49, 32)     0         \n",
            "                                                                 \n",
            " conv3d_2 (Conv3D)           (None, 8, 49, 49, 64)     55360     \n",
            "                                                                 \n",
            " activation_2 (Activation)   (None, 8, 49, 49, 64)     0         \n",
            "                                                                 \n",
            " batch_normalization_2 (Batc  (None, 8, 49, 49, 64)    256       \n",
            " hNormalization)                                                 \n",
            "                                                                 \n",
            " conv3d_3 (Conv3D)           (None, 6, 47, 47, 64)     110656    \n",
            "                                                                 \n",
            " activation_3 (Activation)   (None, 6, 47, 47, 64)     0         \n",
            "                                                                 \n",
            " batch_normalization_3 (Batc  (None, 6, 47, 47, 64)    256       \n",
            " hNormalization)                                                 \n",
            "                                                                 \n",
            " max_pooling3d_1 (MaxPooling  (None, 3, 23, 23, 64)    0         \n",
            " 3D)                                                             \n",
            "                                                                 \n",
            " dropout_1 (Dropout)         (None, 3, 23, 23, 64)     0         \n",
            "                                                                 \n",
            " flatten (Flatten)           (None, 101568)            0         \n",
            "                                                                 \n",
            " dense (Dense)               (None, 512)               52003328  \n",
            "                                                                 \n",
            " activation_4 (Activation)   (None, 512)               0         \n",
            "                                                                 \n",
            " dropout_2 (Dropout)         (None, 512)               0         \n",
            "                                                                 \n",
            " dense_1 (Dense)             (None, 5)                 2565      \n",
            "                                                                 \n",
            " activation_5 (Activation)   (None, 5)                 0         \n",
            "                                                                 \n",
            "=================================================================\n",
            "Total params: 52,202,981\n",
            "Trainable params: 52,202,597\n",
            "Non-trainable params: 384\n",
            "_________________________________________________________________\n",
            "None\n"
          ]
        },
        {
          "name": "stderr",
          "output_type": "stream",
          "text": [
            "/usr/local/lib/python3.8/dist-packages/keras/optimizer_v2/adam.py:105: UserWarning: The `lr` argument is deprecated, use `learning_rate` instead.\n",
            "  super(Adam, self).__init__(name, **kwargs)\n"
          ]
        }
      ],
      "source": [
        "optimiser =tf.keras.optimizers.Adam(lr=0.001)\n",
        "model.compile(optimizer=optimiser, loss='categorical_crossentropy', metrics=['categorical_accuracy'])\n",
        "print (model.summary())"
      ]
    },
    {
      "cell_type": "code",
      "execution_count": null,
      "metadata": {
        "id": "rfrl7DPTWfAL"
      },
      "outputs": [],
      "source": [
        "train_generator = generator(train_path, train_doc, batch_size)\n",
        "val_generator = generator(val_path, val_doc, batch_size)"
      ]
    },
    {
      "cell_type": "code",
      "execution_count": null,
      "metadata": {
        "id": "71BpxhS_WuW6",
        "outputId": "6310cbe8-1eee-40ad-e6a6-f663d1b4030d"
      },
      "outputs": [
        {
          "name": "stdout",
          "output_type": "stream",
          "text": [
            "WARNING:tensorflow:`period` argument is deprecated. Please use `save_freq` to specify the frequency in number of batches seen.\n",
            "WARNING:tensorflow:`epsilon` argument is deprecated and will be removed, use `min_delta` instead.\n"
          ]
        }
      ],
      "source": [
        "model_name = 'Gesture_recog' + '_' + str(curr_dt_time).replace(' ','').replace(':','_') + '/'\n",
        "    \n",
        "if not os.path.exists(model_name):\n",
        "    os.mkdir(model_name)\n",
        "        \n",
        "filepath = model_name + 'model-{epoch:05d}-{loss:.5f}-{categorical_accuracy:.5f}-{val_loss:.5f}-{val_categorical_accuracy:.5f}.h5'\n",
        "\n",
        "checkpoint = ModelCheckpoint(filepath, monitor='val_loss', verbose=1, save_best_only=False, save_weights_only=False, mode='auto', period=1)\n",
        "\n",
        "LR = ReduceLROnPlateau(monitor = \"val_loss\", factor = 0.1, patience = 10,\n",
        "  verbose = 0, mode = \"auto\", epsilon = 1e-04, cooldown = 0,\n",
        "  min_lr = 0)\n",
        "callbacks_list = [checkpoint, LR]"
      ]
    },
    {
      "cell_type": "code",
      "execution_count": null,
      "metadata": {
        "id": "CqpKf-8iWuZ7"
      },
      "outputs": [],
      "source": [
        "if (num_train_sequences%batch_size) == 0:\n",
        "    steps_per_epoch = int(num_train_sequences/batch_size)\n",
        "else:\n",
        "    steps_per_epoch = (num_train_sequences//batch_size) + 1\n",
        "\n",
        "if (num_val_sequences%batch_size) == 0:\n",
        "    validation_steps = int(num_val_sequences/batch_size)\n",
        "else:\n",
        "    validation_steps = (num_val_sequences//batch_size) + 1"
      ]
    },
    {
      "cell_type": "code",
      "execution_count": null,
      "metadata": {
        "id": "-j_IrRY2Wuf4",
        "outputId": "661d7649-faef-40ee-b245-7abccd44d414"
      },
      "outputs": [
        {
          "name": "stderr",
          "output_type": "stream",
          "text": [
            "/tmp/ipykernel_477/385748685.py:1: UserWarning: `Model.fit_generator` is deprecated and will be removed in a future version. Please use `Model.fit`, which supports generators.\n",
            "  model.fit_generator(train_generator, steps_per_epoch=steps_per_epoch, epochs=num_epochs, verbose=1,\n"
          ]
        },
        {
          "name": "stdout",
          "output_type": "stream",
          "text": [
            "Source path =  datasets/Project_data/train ; batch size = 51\n",
            "Epoch 1/15\n"
          ]
        },
        {
          "name": "stderr",
          "output_type": "stream",
          "text": [
            "2022-05-23 11:26:44.873175: W tensorflow/core/framework/cpu_allocator_impl.cc:82] Allocation of 531062784 exceeds 10% of free system memory.\n",
            "2022-05-23 11:26:45.676525: W tensorflow/core/framework/cpu_allocator_impl.cc:82] Allocation of 531062784 exceeds 10% of free system memory.\n"
          ]
        },
        {
          "name": "stdout",
          "output_type": "stream",
          "text": [
            " 1/13 [=>............................] - ETA: 1:01 - loss: 1.6094 - categorical_accuracy: 0.0000e+00"
          ]
        },
        {
          "name": "stderr",
          "output_type": "stream",
          "text": [
            "2022-05-23 11:26:48.550620: W tensorflow/core/framework/cpu_allocator_impl.cc:82] Allocation of 531062784 exceeds 10% of free system memory.\n",
            "2022-05-23 11:26:49.334445: W tensorflow/core/framework/cpu_allocator_impl.cc:82] Allocation of 531062784 exceeds 10% of free system memory.\n"
          ]
        },
        {
          "name": "stdout",
          "output_type": "stream",
          "text": [
            " 2/13 [===>..........................] - ETA: 40s - loss: 1.6096 - categorical_accuracy: 0.0000e+00 "
          ]
        },
        {
          "name": "stderr",
          "output_type": "stream",
          "text": [
            "2022-05-23 11:26:52.227464: W tensorflow/core/framework/cpu_allocator_impl.cc:82] Allocation of 531062784 exceeds 10% of free system memory.\n"
          ]
        },
        {
          "name": "stdout",
          "output_type": "stream",
          "text": [
            "13/13 [==============================] - ETA: 0s - loss: 1.6093 - categorical_accuracy: 0.3077Source path =  datasets/Project_data/val ; batch size = 51\n",
            "\n",
            "Epoch 00001: saving model to Gesture_recog_2022-05-2311_26_11.397542/model-00001-1.60926-0.30769-1.61068-0.00000.h5\n",
            "13/13 [==============================] - 52s 4s/step - loss: 1.6093 - categorical_accuracy: 0.3077 - val_loss: 1.6107 - val_categorical_accuracy: 0.0000e+00 - lr: 0.0010\n",
            "Epoch 2/15\n",
            "13/13 [==============================] - ETA: 0s - loss: 1.6078 - categorical_accuracy: 0.2308\n",
            "Epoch 00002: saving model to Gesture_recog_2022-05-2311_26_11.397542/model-00002-1.60780-0.23077-1.61533-0.00000.h5\n",
            "13/13 [==============================] - 50s 4s/step - loss: 1.6078 - categorical_accuracy: 0.2308 - val_loss: 1.6153 - val_categorical_accuracy: 0.0000e+00 - lr: 0.0010\n",
            "Epoch 3/15\n",
            "13/13 [==============================] - ETA: 0s - loss: 1.6087 - categorical_accuracy: 0.2800\n",
            "Epoch 00003: saving model to Gesture_recog_2022-05-2311_26_11.397542/model-00003-1.60865-0.28000-1.61032-0.00000.h5\n",
            "13/13 [==============================] - 96s 8s/step - loss: 1.6087 - categorical_accuracy: 0.2800 - val_loss: 1.6103 - val_categorical_accuracy: 0.0000e+00 - lr: 0.0010\n",
            "Epoch 4/15\n",
            "13/13 [==============================] - ETA: 0s - loss: 1.6131 - categorical_accuracy: 0.0385    \n",
            "Epoch 00004: saving model to Gesture_recog_2022-05-2311_26_11.397542/model-00004-1.61310-0.03846-1.60627-0.00000.h5\n",
            "13/13 [==============================] - 101s 8s/step - loss: 1.6131 - categorical_accuracy: 0.0385 - val_loss: 1.6063 - val_categorical_accuracy: 0.0000e+00 - lr: 0.0010\n",
            "Epoch 5/15\n",
            "13/13 [==============================] - ETA: 0s - loss: 1.6063 - categorical_accuracy: 0.1538\n",
            "Epoch 00005: saving model to Gesture_recog_2022-05-2311_26_11.397542/model-00005-1.60634-0.15385-1.60040-0.00000.h5\n",
            "13/13 [==============================] - 100s 8s/step - loss: 1.6063 - categorical_accuracy: 0.1538 - val_loss: 1.6004 - val_categorical_accuracy: 0.0000e+00 - lr: 0.0010\n",
            "Epoch 6/15\n",
            "13/13 [==============================] - ETA: 0s - loss: 1.6117 - categorical_accuracy: 0.2308\n",
            "Epoch 00006: saving model to Gesture_recog_2022-05-2311_26_11.397542/model-00006-1.61171-0.23077-1.60322-0.50000.h5\n",
            "13/13 [==============================] - 99s 8s/step - loss: 1.6117 - categorical_accuracy: 0.2308 - val_loss: 1.6032 - val_categorical_accuracy: 0.5000 - lr: 0.0010\n",
            "Epoch 7/15\n",
            "13/13 [==============================] - ETA: 0s - loss: 1.6117 - categorical_accuracy: 0.1154\n",
            "Epoch 00007: saving model to Gesture_recog_2022-05-2311_26_11.397542/model-00007-1.61166-0.11538-1.61266-0.00000.h5\n",
            "13/13 [==============================] - 99s 8s/step - loss: 1.6117 - categorical_accuracy: 0.1154 - val_loss: 1.6127 - val_categorical_accuracy: 0.0000e+00 - lr: 0.0010\n",
            "Epoch 8/15\n",
            "13/13 [==============================] - ETA: 0s - loss: 1.6119 - categorical_accuracy: 0.1923\n",
            "Epoch 00008: saving model to Gesture_recog_2022-05-2311_26_11.397542/model-00008-1.61185-0.19231-1.60412-0.50000.h5\n",
            "13/13 [==============================] - 99s 8s/step - loss: 1.6119 - categorical_accuracy: 0.1923 - val_loss: 1.6041 - val_categorical_accuracy: 0.5000 - lr: 0.0010\n",
            "Epoch 9/15\n",
            "13/13 [==============================] - ETA: 0s - loss: 1.6085 - categorical_accuracy: 0.2308\n",
            "Epoch 00009: saving model to Gesture_recog_2022-05-2311_26_11.397542/model-00009-1.60851-0.23077-1.60881-0.33333.h5\n",
            "13/13 [==============================] - 115s 9s/step - loss: 1.6085 - categorical_accuracy: 0.2308 - val_loss: 1.6088 - val_categorical_accuracy: 0.3333 - lr: 0.0010\n",
            "Epoch 10/15\n",
            "13/13 [==============================] - ETA: 0s - loss: 1.6070 - categorical_accuracy: 0.2692\n",
            "Epoch 00010: saving model to Gesture_recog_2022-05-2311_26_11.397542/model-00010-1.60697-0.26923-1.60856-0.00000.h5\n",
            "13/13 [==============================] - 102s 8s/step - loss: 1.6070 - categorical_accuracy: 0.2692 - val_loss: 1.6086 - val_categorical_accuracy: 0.0000e+00 - lr: 0.0010\n",
            "Epoch 11/15\n",
            "13/13 [==============================] - ETA: 0s - loss: 1.6109 - categorical_accuracy: 0.1538\n",
            "Epoch 00011: saving model to Gesture_recog_2022-05-2311_26_11.397542/model-00011-1.61093-0.15385-1.60475-0.25000.h5\n",
            "13/13 [==============================] - 102s 8s/step - loss: 1.6109 - categorical_accuracy: 0.1538 - val_loss: 1.6047 - val_categorical_accuracy: 0.2500 - lr: 0.0010\n",
            "Epoch 12/15\n",
            "13/13 [==============================] - ETA: 0s - loss: 1.6066 - categorical_accuracy: 0.2308\n",
            "Epoch 00012: saving model to Gesture_recog_2022-05-2311_26_11.397542/model-00012-1.60661-0.23077-1.60589-0.25000.h5\n",
            "13/13 [==============================] - 97s 7s/step - loss: 1.6066 - categorical_accuracy: 0.2308 - val_loss: 1.6059 - val_categorical_accuracy: 0.2500 - lr: 0.0010\n",
            "Epoch 13/15\n",
            "13/13 [==============================] - ETA: 0s - loss: 1.6076 - categorical_accuracy: 0.2692\n",
            "Epoch 00013: saving model to Gesture_recog_2022-05-2311_26_11.397542/model-00013-1.60756-0.26923-1.61237-0.00000.h5\n",
            "13/13 [==============================] - 95s 7s/step - loss: 1.6076 - categorical_accuracy: 0.2692 - val_loss: 1.6124 - val_categorical_accuracy: 0.0000e+00 - lr: 0.0010\n",
            "Epoch 14/15\n",
            "13/13 [==============================] - ETA: 0s - loss: 1.6083 - categorical_accuracy: 0.3462\n",
            "Epoch 00014: saving model to Gesture_recog_2022-05-2311_26_11.397542/model-00014-1.60830-0.34615-1.60602-0.00000.h5\n",
            "13/13 [==============================] - 96s 7s/step - loss: 1.6083 - categorical_accuracy: 0.3462 - val_loss: 1.6060 - val_categorical_accuracy: 0.0000e+00 - lr: 0.0010\n",
            "Epoch 15/15\n",
            "13/13 [==============================] - ETA: 0s - loss: 1.6093 - categorical_accuracy: 0.1923\n",
            "Epoch 00015: saving model to Gesture_recog_2022-05-2311_26_11.397542/model-00015-1.60925-0.19231-1.60862-0.00000.h5\n",
            "13/13 [==============================] - 97s 7s/step - loss: 1.6093 - categorical_accuracy: 0.1923 - val_loss: 1.6086 - val_categorical_accuracy: 0.0000e+00 - lr: 0.0010\n"
          ]
        },
        {
          "data": {
            "text/plain": [
              "<keras.callbacks.History at 0x7f7908347fd0>"
            ]
          },
          "execution_count": 14,
          "metadata": {},
          "output_type": "execute_result"
        }
      ],
      "source": [
        "model.fit_generator(train_generator, steps_per_epoch=steps_per_epoch, epochs=num_epochs, verbose=1, \n",
        "                    callbacks=callbacks_list, validation_data=val_generator, \n",
        "                    validation_steps=validation_steps, class_weight=None, workers=1, initial_epoch=0)"
      ]
    },
    {
      "cell_type": "code",
      "execution_count": null,
      "metadata": {
        "id": "htnfcHzaWujS"
      },
      "outputs": [],
      "source": [
        ""
      ]
    },
    {
      "cell_type": "code",
      "execution_count": null,
      "metadata": {
        "id": "dzWfRmKiWume"
      },
      "outputs": [],
      "source": [
        ""
      ]
    },
    {
      "cell_type": "code",
      "execution_count": null,
      "metadata": {
        "id": "fe8m37FAWuqL"
      },
      "outputs": [],
      "source": [
        ""
      ]
    },
    {
      "cell_type": "code",
      "execution_count": null,
      "metadata": {
        "id": "7T9NWd1SWusZ"
      },
      "outputs": [],
      "source": [
        ""
      ]
    }
  ],
  "metadata": {
    "colab": {
      "name": "Model04.ipynb",
      "provenance": [],
      "collapsed_sections": []
    },
    "kernelspec": {
      "display_name": "Python 3 (ipykernel)",
      "language": "python",
      "name": "python3"
    },
    "language_info": {
      "codemirror_mode": {
        "name": "ipython",
        "version": 3
      },
      "file_extension": ".py",
      "mimetype": "text/x-python",
      "name": "python",
      "nbconvert_exporter": "python",
      "pygments_lexer": "ipython3",
      "version": "3.8.10"
    }
  },
  "nbformat": 4,
  "nbformat_minor": 0
}