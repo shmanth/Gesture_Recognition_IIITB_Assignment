{
  "cells": [
    {
      "cell_type": "code",
      "execution_count": null,
      "metadata": {
        "id": "wDQ5bMGjWdSo"
      },
      "outputs": [],
      "source": [
        "#importing libraries\n",
        "import numpy as np\n",
        "import os\n",
        "import imageio \n",
        "from PIL import Image\n",
        "from skimage.transform import resize\n",
        "import datetime\n",
        "import os"
      ]
    },
    {
      "cell_type": "code",
      "execution_count": null,
      "metadata": {
        "id": "QgGqRXjRWew1"
      },
      "outputs": [],
      "source": [
        "np.random.seed(30)\n",
        "import random as rn\n",
        "rn.seed(30)\n",
        "from keras import backend as K\n",
        "import tensorflow as tf\n",
        "tf.random.set_seed(30)"
      ]
    },
    {
      "cell_type": "code",
      "execution_count": null,
      "metadata": {
        "id": "p2tJk8ffWey7"
      },
      "outputs": [],
      "source": [
        "train_doc = np.random.permutation(open('datasets/Project_data/train.csv').readlines())\n",
        "val_doc = np.random.permutation(open('datasets/Project_data/val.csv').readlines())\n",
        "batch_size = 100"
      ]
    },
    {
      "cell_type": "code",
      "execution_count": null,
      "metadata": {
        "id": "Lk2HPPunWe1L"
      },
      "outputs": [],
      "source": [
        "def generator(source_path, folder_list, batch_size):\n",
        "    print( 'Source path = ', source_path, '; batch size =', batch_size)\n",
        "    img_idx = [1,3,5,7,9,11,13,15,17,19,21,23,25,27,29]#create a list of image numbers you want to use for a particular video\n",
        "    while True:\n",
        "        t = np.random.permutation(folder_list)\n",
        "        num_batches = len(source_path)//batch_size # calculate the number of batches\n",
        "        for batch in range(num_batches): # we iterate over the number of batches\n",
        "            batch_data = np.zeros((batch_size,18,100,100,3)) # x is the number of images you use for each video, (y,z) is the final size of the input images and 3 is the number of channels RGB\n",
        "            batch_labels = np.zeros((batch_size,5)) # batch_labels is the one hot representation of the output\n",
        "            for folder in range(batch_size): # iterate over the batch_size\n",
        "                imgs = os.listdir(source_path+'/'+ t[folder + (batch*batch_size)].split(';')[0]) # read all the images in the folder\n",
        "                for idx,item in enumerate(img_idx): #  Iterate iver the frames/images of a folder to read them in\n",
        "                    image = imageio.imread(source_path+'/'+ t[folder + (batch*batch_size)].strip().split(';')[0]+'/'+imgs[item]).astype(np.float32)\n",
        "                    \n",
        "                    \n",
        "                    \n",
        "                    # Cropped image of above dimension \n",
        "                    # (It will not change orginal image) \n",
        "                    \n",
        "                    #image = image.crop((0, 0, 120, 120))\n",
        "                    image = image.resize(100, 100)\n",
        "                    \n",
        "                    \n",
        "                    #crop the images and resize them. Note that the images are of 2 different shape \n",
        "                    #and the conv3D will throw error if the inputs in a batch have different shapes\n",
        "                    \n",
        "                    batch_data[folder,idx,:,:,0] /= 255\n",
        "                    batch_data[folder,idx,:,:,1] /= 255 #normalise and feed in the image\n",
        "                    batch_data[folder,idx,:,:,2] /= 255 #normalise and feed in the image\n",
        "                    \n",
        "                batch_labels[folder, int(t[folder + (batch*batch_size)].strip().split(';')[2])] = 1\n",
        "            yield batch_data, batch_labels #you yield the batch_data and the batch_labels, remember what does yield do\n",
        "\n",
        "        \n",
        "        # write the code for the remaining data points which are left after full batches\n",
        "        if((len(source_path)%batch_size)//2==0):\n",
        "            batch_size = 2\n",
        "        else:\n",
        "            batch_size = 1\n",
        "        num_batches = len(source_path)%batch_size # calculate the number of batches\n",
        "        for batch in range(num_batches): # we iterate over the number of batches\n",
        "            batch_data = np.zeros((batch_size,18,100,100,3)) # x is the number of images you use for each video, (y,z) is the final size of the input images and 3 is the number of channels RGB\n",
        "            batch_labels = np.zeros((batch_size,5)) # batch_labels is the one hot representation of the output\n",
        "            for folder in range(batch_size): # iterate over the batch_size\n",
        "                imgs = os.listdir(source_path+'/'+ t[folder + (batch*batch_size)].split(';')[0]) # read all the images in the folder\n",
        "                for idx,item in enumerate(img_idx): #  Iterate iver the frames/images of a folder to read them in\n",
        "                    image = imageio.imread(source_path+'/'+ t[folder + (batch*batch_size)].strip().split(';')[0]+'/'+imgs[item]).astype(np.float32)\n",
        "                    \n",
        "                    \n",
        "                    \n",
        "                    # Cropped image of above dimension \n",
        "                    # (It will not change orginal image) \n",
        "                    \n",
        "                    #image = image.crop((0, 0, 120, 120))\n",
        "                    image = image.resize(100, 100)\n",
        "                    \n",
        "                    \n",
        "                    #crop the images and resize them. Note that the images are of 2 different shape \n",
        "                    #and the conv3D will throw error if the inputs in a batch have different shapes\n",
        "                    \n",
        "                    batch_data[folder,idx,:,:,0] /= 255\n",
        "                    batch_data[folder,idx,:,:,1] /= 255 #normalise and feed in the image\n",
        "                    batch_data[folder,idx,:,:,2] /= 255 #normalise and feed in the image\n",
        "                    \n",
        "                batch_labels[folder, int(t[folder + (batch*batch_size)].strip().split(';')[2])] = 1\n",
        "            yield batch_data, batch_labels #you yield the batch_data and the batch_labels, remember what does yield do\n"
      ]
    },
    {
      "cell_type": "code",
      "execution_count": null,
      "metadata": {
        "id": "lYd9DGkiWe3f",
        "outputId": "ce92d377-530d-4791-cc58-a43f3e6c69c1"
      },
      "outputs": [
        {
          "name": "stdout",
          "output_type": "stream",
          "text": [
            "# training sequences = 663\n",
            "# validation sequences = 100\n",
            "# epochs = 15\n"
          ]
        }
      ],
      "source": [
        "curr_dt_time = datetime.datetime.now()\n",
        "train_path = 'datasets/Project_data/train'\n",
        "val_path = 'datasets/Project_data/val'\n",
        "num_train_sequences = len(train_doc)\n",
        "print('# training sequences =', num_train_sequences)\n",
        "num_val_sequences = len(val_doc)\n",
        "print('# validation sequences =', num_val_sequences)\n",
        "num_epochs = 15 # choose the number of epochs\n",
        "print ('# epochs =', num_epochs)"
      ]
    },
    {
      "cell_type": "markdown",
      "source": [
        "Model 03:\n",
        "batch_size = 100,\n",
        "num_epochs = 15\n",
        "> Indented block\n",
        "Using alternate imgs\n",
        "\n"
      ],
      "metadata": {
        "id": "bujFytl91Sv2"
      }
    },
    {
      "cell_type": "code",
      "execution_count": null,
      "metadata": {
        "id": "9VQEdZSjWe51",
        "outputId": "e580fde3-1379-4dd4-bee1-15e2d4e89ca8"
      },
      "outputs": [
        {
          "name": "stderr",
          "output_type": "stream",
          "text": [
            "2022-05-23 12:12:52.119992: W tensorflow/core/common_runtime/gpu/gpu_bfc_allocator.cc:39] Overriding allow_growth setting because the TF_FORCE_GPU_ALLOW_GROWTH environment variable is set. Original config value was 0.\n",
            "2022-05-23 12:12:52.120065: I tensorflow/core/common_runtime/gpu/gpu_device.cc:1525] Created device /job:localhost/replica:0/task:0/device:GPU:0 with 14803 MB memory:  -> device: 0, name: Quadro RTX 5000, pci bus id: 0000:1e:00.0, compute capability: 7.5\n"
          ]
        }
      ],
      "source": [
        "from keras.models import Sequential, Model\n",
        "from keras.layers import Dense, GRU, Flatten, TimeDistributed, Flatten, BatchNormalization, Activation, Dropout\n",
        "from keras.layers.convolutional import Conv3D, MaxPooling3D\n",
        "from keras.callbacks import ModelCheckpoint, ReduceLROnPlateau\n",
        "from keras import optimizers\n",
        "\n",
        "#write your model here\n",
        "Input_shape = (18, 100, 100, 3)\n",
        "model = Sequential()\n",
        "model.add(Conv3D(32, (3,3,3), padding='same',\n",
        "                 input_shape=Input_shape))\n",
        "#model.add(Conv3D(32, kernel_size=(3, 3, 3), activation='relu', kernel_initializer='he_uniform', input_shape=sample_shape))\n",
        "model.add(Activation('relu'))\n",
        "model.add(BatchNormalization())\n",
        "model.add(Conv3D(32, (3, 3,3)))\n",
        "model.add(Activation('relu'))\n",
        "model.add(BatchNormalization())\n",
        "model.add(MaxPooling3D(pool_size=(2, 2,2)))\n",
        "model.add(Dropout(0.5))\n",
        "\n",
        "model.add(Conv3D(64, (3, 3,3), padding='same'))\n",
        "model.add(Activation('relu'))\n",
        "model.add(BatchNormalization())\n",
        "model.add(Conv3D(64, (3, 3,3)))\n",
        "model.add(Activation('relu'))\n",
        "model.add(BatchNormalization())\n",
        "model.add(MaxPooling3D(pool_size=(2, 2,2)))\n",
        "model.add(Dropout(0.5))\n",
        "model.add(Flatten())\n",
        "model.add(Dense(512))\n",
        "model.add(Activation('relu'))\n",
        "model.add(Dropout(0.5))\n",
        "model.add(Dense(5))\n",
        "model.add(Activation('softmax'))"
      ]
    },
    {
      "cell_type": "code",
      "execution_count": null,
      "metadata": {
        "id": "aY1t-1JkWe9S",
        "outputId": "8141065e-ac9a-419f-c46c-d05ba36d7dcd"
      },
      "outputs": [
        {
          "name": "stderr",
          "output_type": "stream",
          "text": [
            "/usr/local/lib/python3.8/dist-packages/keras/optimizer_v2/adam.py:105: UserWarning: The `lr` argument is deprecated, use `learning_rate` instead.\n",
            "  super(Adam, self).__init__(name, **kwargs)\n"
          ]
        },
        {
          "name": "stdout",
          "output_type": "stream",
          "text": [
            "Model: \"sequential\"\n",
            "_________________________________________________________________\n",
            " Layer (type)                Output Shape              Param #   \n",
            "=================================================================\n",
            " conv3d (Conv3D)             (None, 18, 100, 100, 32)  2624      \n",
            "                                                                 \n",
            " activation (Activation)     (None, 18, 100, 100, 32)  0         \n",
            "                                                                 \n",
            " batch_normalization (BatchN  (None, 18, 100, 100, 32)  128      \n",
            " ormalization)                                                   \n",
            "                                                                 \n",
            " conv3d_1 (Conv3D)           (None, 16, 98, 98, 32)    27680     \n",
            "                                                                 \n",
            " activation_1 (Activation)   (None, 16, 98, 98, 32)    0         \n",
            "                                                                 \n",
            " batch_normalization_1 (Batc  (None, 16, 98, 98, 32)   128       \n",
            " hNormalization)                                                 \n",
            "                                                                 \n",
            " max_pooling3d (MaxPooling3D  (None, 8, 49, 49, 32)    0         \n",
            " )                                                               \n",
            "                                                                 \n",
            " dropout (Dropout)           (None, 8, 49, 49, 32)     0         \n",
            "                                                                 \n",
            " conv3d_2 (Conv3D)           (None, 8, 49, 49, 64)     55360     \n",
            "                                                                 \n",
            " activation_2 (Activation)   (None, 8, 49, 49, 64)     0         \n",
            "                                                                 \n",
            " batch_normalization_2 (Batc  (None, 8, 49, 49, 64)    256       \n",
            " hNormalization)                                                 \n",
            "                                                                 \n",
            " conv3d_3 (Conv3D)           (None, 6, 47, 47, 64)     110656    \n",
            "                                                                 \n",
            " activation_3 (Activation)   (None, 6, 47, 47, 64)     0         \n",
            "                                                                 \n",
            " batch_normalization_3 (Batc  (None, 6, 47, 47, 64)    256       \n",
            " hNormalization)                                                 \n",
            "                                                                 \n",
            " max_pooling3d_1 (MaxPooling  (None, 3, 23, 23, 64)    0         \n",
            " 3D)                                                             \n",
            "                                                                 \n",
            " dropout_1 (Dropout)         (None, 3, 23, 23, 64)     0         \n",
            "                                                                 \n",
            " flatten (Flatten)           (None, 101568)            0         \n",
            "                                                                 \n",
            " dense (Dense)               (None, 512)               52003328  \n",
            "                                                                 \n",
            " activation_4 (Activation)   (None, 512)               0         \n",
            "                                                                 \n",
            " dropout_2 (Dropout)         (None, 512)               0         \n",
            "                                                                 \n",
            " dense_1 (Dense)             (None, 5)                 2565      \n",
            "                                                                 \n",
            " activation_5 (Activation)   (None, 5)                 0         \n",
            "                                                                 \n",
            "=================================================================\n",
            "Total params: 52,202,981\n",
            "Trainable params: 52,202,597\n",
            "Non-trainable params: 384\n",
            "_________________________________________________________________\n",
            "None\n"
          ]
        }
      ],
      "source": [
        "optimiser =tf.keras.optimizers.Adam(lr=0.001)\n",
        "model.compile(optimizer=optimiser, loss='categorical_crossentropy', metrics=['categorical_accuracy'])\n",
        "print (model.summary())"
      ]
    },
    {
      "cell_type": "code",
      "execution_count": null,
      "metadata": {
        "id": "rfrl7DPTWfAL"
      },
      "outputs": [],
      "source": [
        "train_generator = generator(train_path, train_doc, batch_size)\n",
        "val_generator = generator(val_path, val_doc, batch_size)"
      ]
    },
    {
      "cell_type": "code",
      "execution_count": null,
      "metadata": {
        "id": "71BpxhS_WuW6",
        "outputId": "a250d532-472e-4811-91c3-e36b3d00db97"
      },
      "outputs": [
        {
          "name": "stdout",
          "output_type": "stream",
          "text": [
            "WARNING:tensorflow:`period` argument is deprecated. Please use `save_freq` to specify the frequency in number of batches seen.\n",
            "WARNING:tensorflow:`epsilon` argument is deprecated and will be removed, use `min_delta` instead.\n"
          ]
        }
      ],
      "source": [
        "model_name = 'Gesture_recog' + '_' + str(curr_dt_time).replace(' ','').replace(':','_') + '/'\n",
        "    \n",
        "if not os.path.exists(model_name):\n",
        "    os.mkdir(model_name)\n",
        "        \n",
        "filepath = model_name + 'model-{epoch:05d}-{loss:.5f}-{categorical_accuracy:.5f}-{val_loss:.5f}-{val_categorical_accuracy:.5f}.h5'\n",
        "\n",
        "checkpoint = ModelCheckpoint(filepath, monitor='val_loss', verbose=1, save_best_only=False, save_weights_only=False, mode='auto', period=1)\n",
        "\n",
        "LR = ReduceLROnPlateau(monitor = \"val_loss\", factor = 0.1, patience = 10,\n",
        "  verbose = 0, mode = \"auto\", epsilon = 1e-04, cooldown = 0,\n",
        "  min_lr = 0)\n",
        "callbacks_list = [checkpoint, LR]"
      ]
    },
    {
      "cell_type": "code",
      "execution_count": null,
      "metadata": {
        "id": "CqpKf-8iWuZ7"
      },
      "outputs": [],
      "source": [
        "if (num_train_sequences%batch_size) == 0:\n",
        "    steps_per_epoch = int(num_train_sequences/batch_size)\n",
        "else:\n",
        "    steps_per_epoch = (num_train_sequences//batch_size) + 1\n",
        "\n",
        "if (num_val_sequences%batch_size) == 0:\n",
        "    validation_steps = int(num_val_sequences/batch_size)\n",
        "else:\n",
        "    validation_steps = (num_val_sequences//batch_size) + 1"
      ]
    },
    {
      "cell_type": "code",
      "execution_count": null,
      "metadata": {
        "id": "-j_IrRY2Wuf4",
        "outputId": "ffdcf61e-7809-4133-8f5a-751f25960526"
      },
      "outputs": [
        {
          "name": "stderr",
          "output_type": "stream",
          "text": [
            "/tmp/ipykernel_553/385748685.py:1: UserWarning: `Model.fit_generator` is deprecated and will be removed in a future version. Please use `Model.fit`, which supports generators.\n",
            "  model.fit_generator(train_generator, steps_per_epoch=steps_per_epoch, epochs=num_epochs, verbose=1,\n"
          ]
        },
        {
          "name": "stdout",
          "output_type": "stream",
          "text": [
            "Source path =  datasets/Project_data/train ; batch size = 100\n",
            "Epoch 1/15\n"
          ]
        },
        {
          "name": "stderr",
          "output_type": "stream",
          "text": [
            "2022-05-23 12:12:55.026712: I tensorflow/stream_executor/cuda/cuda_dnn.cc:377] Loaded cuDNN version 8302\n"
          ]
        },
        {
          "name": "stdout",
          "output_type": "stream",
          "text": [
            "6/7 [========================>.....] - ETA: 0s - loss: 1.6093 - categorical_accuracy: 0.3333Source path =  datasets/Project_data/val ; batch size = 100\n",
            "\n",
            "Epoch 00001: saving model to Gesture_recog_2022-05-2312_12_49.702109/model-00001-1.60990-0.28571-1.60773-0.00000.h5\n",
            "7/7 [==============================] - 9s 593ms/step - loss: 1.6099 - categorical_accuracy: 0.2857 - val_loss: 1.6077 - val_categorical_accuracy: 0.0000e+00 - lr: 0.0010\n",
            "Epoch 2/15\n",
            "7/7 [==============================] - ETA: 0s - loss: 1.6093 - categorical_accuracy: 0.2857\n",
            "Epoch 00002: saving model to Gesture_recog_2022-05-2312_12_49.702109/model-00002-1.60933-0.28571-1.60023-1.00000.h5\n",
            "7/7 [==============================] - 3s 431ms/step - loss: 1.6093 - categorical_accuracy: 0.2857 - val_loss: 1.6002 - val_categorical_accuracy: 1.0000 - lr: 0.0010\n",
            "Epoch 3/15\n",
            "7/7 [==============================] - ETA: 0s - loss: 1.6058 - categorical_accuracy: 0.4286\n",
            "Epoch 00003: saving model to Gesture_recog_2022-05-2312_12_49.702109/model-00003-1.60579-0.42857-1.61750-0.00000.h5\n",
            "7/7 [==============================] - 4s 641ms/step - loss: 1.6058 - categorical_accuracy: 0.4286 - val_loss: 1.6175 - val_categorical_accuracy: 0.0000e+00 - lr: 0.0010\n",
            "Epoch 4/15\n",
            "7/7 [==============================] - ETA: 0s - loss: 1.6075 - categorical_accuracy: 0.1250    \n",
            "Epoch 00004: saving model to Gesture_recog_2022-05-2312_12_49.702109/model-00004-1.60752-0.12500-1.60958-0.00000.h5\n",
            "7/7 [==============================] - 3s 449ms/step - loss: 1.6075 - categorical_accuracy: 0.1250 - val_loss: 1.6096 - val_categorical_accuracy: 0.0000e+00 - lr: 0.0010\n",
            "Epoch 5/15\n",
            "7/7 [==============================] - ETA: 0s - loss: 1.6092 - categorical_accuracy: 0.2143\n",
            "Epoch 00005: saving model to Gesture_recog_2022-05-2312_12_49.702109/model-00005-1.60921-0.21429-1.62620-0.00000.h5\n",
            "7/7 [==============================] - 3s 375ms/step - loss: 1.6092 - categorical_accuracy: 0.2143 - val_loss: 1.6262 - val_categorical_accuracy: 0.0000e+00 - lr: 0.0010\n",
            "Epoch 6/15\n",
            "7/7 [==============================] - ETA: 0s - loss: 1.6107 - categorical_accuracy: 0.2143\n",
            "Epoch 00006: saving model to Gesture_recog_2022-05-2312_12_49.702109/model-00006-1.61073-0.21429-1.61059-0.00000.h5\n",
            "7/7 [==============================] - 3s 418ms/step - loss: 1.6107 - categorical_accuracy: 0.2143 - val_loss: 1.6106 - val_categorical_accuracy: 0.0000e+00 - lr: 0.0010\n",
            "Epoch 7/15\n",
            "7/7 [==============================] - ETA: 0s - loss: 1.6135 - categorical_accuracy: 0.0000e+00\n",
            "Epoch 00007: saving model to Gesture_recog_2022-05-2312_12_49.702109/model-00007-1.61345-0.00000-1.59688-1.00000.h5\n",
            "7/7 [==============================] - 2s 405ms/step - loss: 1.6135 - categorical_accuracy: 0.0000e+00 - val_loss: 1.5969 - val_categorical_accuracy: 1.0000 - lr: 0.0010\n",
            "Epoch 8/15\n",
            "7/7 [==============================] - ETA: 0s - loss: 1.6104 - categorical_accuracy: 0.0714\n",
            "Epoch 00008: saving model to Gesture_recog_2022-05-2312_12_49.702109/model-00008-1.61043-0.07143-1.62735-0.00000.h5\n",
            "7/7 [==============================] - 3s 426ms/step - loss: 1.6104 - categorical_accuracy: 0.0714 - val_loss: 1.6273 - val_categorical_accuracy: 0.0000e+00 - lr: 0.0010\n",
            "Epoch 9/15\n",
            "7/7 [==============================] - ETA: 0s - loss: 1.6054 - categorical_accuracy: 0.2143\n",
            "Epoch 00009: saving model to Gesture_recog_2022-05-2312_12_49.702109/model-00009-1.60541-0.21429-1.60051-0.00000.h5\n",
            "7/7 [==============================] - 2s 384ms/step - loss: 1.6054 - categorical_accuracy: 0.2143 - val_loss: 1.6005 - val_categorical_accuracy: 0.0000e+00 - lr: 0.0010\n",
            "Epoch 10/15\n",
            "7/7 [==============================] - ETA: 0s - loss: 1.6067 - categorical_accuracy: 0.2857\n",
            "Epoch 00010: saving model to Gesture_recog_2022-05-2312_12_49.702109/model-00010-1.60670-0.28571-1.61094-0.00000.h5\n",
            "7/7 [==============================] - 2s 334ms/step - loss: 1.6067 - categorical_accuracy: 0.2857 - val_loss: 1.6109 - val_categorical_accuracy: 0.0000e+00 - lr: 0.0010\n",
            "Epoch 11/15\n",
            "7/7 [==============================] - ETA: 0s - loss: 1.6159 - categorical_accuracy: 0.1429  \n",
            "Epoch 00011: saving model to Gesture_recog_2022-05-2312_12_49.702109/model-00011-1.61594-0.14286-1.62800-0.00000.h5\n",
            "7/7 [==============================] - 2s 372ms/step - loss: 1.6159 - categorical_accuracy: 0.1429 - val_loss: 1.6280 - val_categorical_accuracy: 0.0000e+00 - lr: 0.0010\n",
            "Epoch 12/15\n",
            "7/7 [==============================] - ETA: 0s - loss: 1.6127 - categorical_accuracy: 0.1429\n",
            "Epoch 00012: saving model to Gesture_recog_2022-05-2312_12_49.702109/model-00012-1.61267-0.14286-1.59694-1.00000.h5\n",
            "7/7 [==============================] - 2s 346ms/step - loss: 1.6127 - categorical_accuracy: 0.1429 - val_loss: 1.5969 - val_categorical_accuracy: 1.0000 - lr: 0.0010\n",
            "Epoch 13/15\n",
            "7/7 [==============================] - ETA: 0s - loss: 1.6095 - categorical_accuracy: 0.1429\n",
            "Epoch 00013: saving model to Gesture_recog_2022-05-2312_12_49.702109/model-00013-1.60946-0.14286-1.61035-0.00000.h5\n",
            "7/7 [==============================] - 2s 399ms/step - loss: 1.6095 - categorical_accuracy: 0.1429 - val_loss: 1.6104 - val_categorical_accuracy: 0.0000e+00 - lr: 0.0010\n",
            "Epoch 14/15\n",
            "7/7 [==============================] - ETA: 0s - loss: 1.6124 - categorical_accuracy: 0.2143\n",
            "Epoch 00014: saving model to Gesture_recog_2022-05-2312_12_49.702109/model-00014-1.61239-0.21429-1.60785-0.00000.h5\n",
            "7/7 [==============================] - 3s 445ms/step - loss: 1.6124 - categorical_accuracy: 0.2143 - val_loss: 1.6079 - val_categorical_accuracy: 0.0000e+00 - lr: 0.0010\n",
            "Epoch 15/15\n",
            "7/7 [==============================] - ETA: 0s - loss: 1.6099 - categorical_accuracy: 0.2143\n",
            "Epoch 00015: saving model to Gesture_recog_2022-05-2312_12_49.702109/model-00015-1.60994-0.21429-1.60984-0.50000.h5\n",
            "7/7 [==============================] - 2s 401ms/step - loss: 1.6099 - categorical_accuracy: 0.2143 - val_loss: 1.6098 - val_categorical_accuracy: 0.5000 - lr: 0.0010\n"
          ]
        },
        {
          "data": {
            "text/plain": [
              "<keras.callbacks.History at 0x7f872805c220>"
            ]
          },
          "execution_count": 11,
          "metadata": {},
          "output_type": "execute_result"
        }
      ],
      "source": [
        "model.fit_generator(train_generator, steps_per_epoch=steps_per_epoch, epochs=num_epochs, verbose=1, \n",
        "                    callbacks=callbacks_list, validation_data=val_generator, \n",
        "                    validation_steps=validation_steps, class_weight=None, workers=1, initial_epoch=0)"
      ]
    },
    {
      "cell_type": "code",
      "execution_count": null,
      "metadata": {
        "id": "htnfcHzaWujS"
      },
      "outputs": [],
      "source": [
        ""
      ]
    },
    {
      "cell_type": "code",
      "execution_count": null,
      "metadata": {
        "id": "dzWfRmKiWume"
      },
      "outputs": [],
      "source": [
        ""
      ]
    },
    {
      "cell_type": "code",
      "execution_count": null,
      "metadata": {
        "id": "fe8m37FAWuqL"
      },
      "outputs": [],
      "source": [
        ""
      ]
    },
    {
      "cell_type": "code",
      "execution_count": null,
      "metadata": {
        "id": "7T9NWd1SWusZ"
      },
      "outputs": [],
      "source": [
        ""
      ]
    }
  ],
  "metadata": {
    "colab": {
      "name": "Model03.ipynb",
      "provenance": []
    },
    "kernelspec": {
      "display_name": "Python 3 (ipykernel)",
      "language": "python",
      "name": "python3"
    },
    "language_info": {
      "codemirror_mode": {
        "name": "ipython",
        "version": 3
      },
      "file_extension": ".py",
      "mimetype": "text/x-python",
      "name": "python",
      "nbconvert_exporter": "python",
      "pygments_lexer": "ipython3",
      "version": "3.8.10"
    }
  },
  "nbformat": 4,
  "nbformat_minor": 0
}