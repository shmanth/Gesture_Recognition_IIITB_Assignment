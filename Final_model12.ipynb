{
  "cells": [
    {
      "cell_type": "markdown",
      "source": [
        "IIITB Assignment:\n",
        "\n",
        "Group Members:\n",
        "\n",
        "Karthik Varma Vegesna\n",
        "\n",
        "Shamanth B C- Group facilitator"
      ],
      "metadata": {
        "id": "U2kxgFJE6uAr"
      }
    },
    {
      "cell_type": "markdown",
      "source": [
        "Problem Statement:You want to develop a cool feature in the smart-TV that can recognise five different gestures performed by the user which will help users control the TV without using a remote.\n",
        "The gestures are continuously monitored by the webcam mounted on the TV. Each gesture corresponds to a specific command:\n",
        "\n",
        "Thumbs up:  Increase the volume,\n",
        "Thumbs down: Decrease the volume,\n",
        "Left swipe: 'Jump' backwards 10 seconds,\n",
        "Right swipe: 'Jump' forward 10 seconds,\n",
        "Stop: Pause the movie."
      ],
      "metadata": {
        "id": "y2zyfejU57u8"
      }
    },
    {
      "cell_type": "code",
      "execution_count": null,
      "metadata": {
        "id": "wDQ5bMGjWdSo"
      },
      "outputs": [],
      "source": [
        "# Importing necessary libraries\n",
        "import numpy as np\n",
        "import os\n",
        "import imageio \n",
        "from PIL import Image\n",
        "from skimage.transform import resize\n",
        "import datetime"
      ]
    },
    {
      "cell_type": "markdown",
      "source": [
        "We set the random seed so that the results don't vary drastically.\n"
      ],
      "metadata": {
        "id": "12sOUZl3yuWo"
      }
    },
    {
      "cell_type": "code",
      "execution_count": null,
      "metadata": {
        "id": "QgGqRXjRWew1"
      },
      "outputs": [],
      "source": [
        "np.random.seed(30)\n",
        "import random as rn\n",
        "rn.seed(30)\n",
        "from keras import backend as K\n",
        "import tensorflow as tf\n",
        "tf.random.set_seed(30)"
      ]
    },
    {
      "cell_type": "markdown",
      "source": [
        "Reading the folder names for training and validation and setting batchsize"
      ],
      "metadata": {
        "id": "YHfIjU3uy3TT"
      }
    },
    {
      "cell_type": "code",
      "execution_count": null,
      "metadata": {
        "id": "p2tJk8ffWey7"
      },
      "outputs": [],
      "source": [
        "train_doc = np.random.permutation(open('datasets/Project_data/train.csv').readlines())\n",
        "val_doc = np.random.permutation(open('datasets/Project_data/val.csv').readlines())\n",
        "batch_size = 50"
      ]
    },
    {
      "cell_type": "code",
      "execution_count": null,
      "metadata": {
        "id": "rBRV21RUyk8d"
      },
      "outputs": [],
      "source": [
        "# Defining function for Cropping and Resizing the images\n",
        "def cropAndResize(image,HEIGHT_DIMENSION,WIDTH_DIMENSION):\n",
        "    #The images are of 2 different shape and the Model will throw error if the inputs in a batch have different shapes.\n",
        "    # Cropping images\n",
        "    if abs(image.shape[0]-image.shape[1])%2==0 and image.shape[0]!=image.shape[1]:\n",
        "        dimension_diff=abs(image.shape[0]-image.shape[1])\n",
        "        cropping_ratio=dimension_diff//2\n",
        "        if image.shape[0]>image.shape[1]:\n",
        "            image=image[cropping_ratio:image.shape[0]-cropping_ratio,:,:]\n",
        "        elif image.shape[0]<image.shape[1]:\n",
        "            image=image[:,cropping_ratio:image.shape[1]-cropping_ratio,:]\n",
        "                    \n",
        "    # Resizing images\n",
        "    if image.shape[0]>100 or image.shape[1]>100:\n",
        "        image=resize(image, (100, 100))\n",
        "    return image"
      ]
    },
    {
      "cell_type": "markdown",
      "source": [
        "## Generator\n",
        "This is one of the most important part of the code. The overall structure of the generator has been given. In the generator, you are going to preprocess the images as you have images of 2 different dimensions as well as create a batch of video frames.experimenting with `img_idx`, `y`,`z` and normalization such that you get high accuracy."
      ],
      "metadata": {
        "id": "07hTCgYT5Wzi"
      }
    },
    {
      "cell_type": "code",
      "execution_count": null,
      "metadata": {
        "id": "Lk2HPPunWe1L"
      },
      "outputs": [],
      "source": [
        "def generator(source_path, folder_list, batch_size):\n",
        "    print( 'Source path = ', source_path, '; batch size =', batch_size)\n",
        "    img_idx = [1,3,5,6,7,9,11,13,15,17,18,19,21,23,24,25,27,29]#create a list of image numbers you want to use for a particular video\n",
        "    while True:\n",
        "        t = np.random.permutation(folder_list)\n",
        "        num_batches = len(source_path)//batch_size # calculate the number of batches\n",
        "        for batch in range(num_batches): # we iterate over the number of batches\n",
        "            batch_data = np.zeros((batch_size,18,100,100,3)) # x is the number of images you use for each video, (y,z) is the final size of the input images and 3 is the number of channels RGB\n",
        "            batch_labels = np.zeros((batch_size,5)) # batch_labels is the one hot representation of the output\n",
        "            for folder in range(batch_size): # iterate over the batch_size\n",
        "                imgs = os.listdir(source_path+'/'+ t[folder + (batch*batch_size)].split(';')[0]) # read all the images in the folder\n",
        "                for idx,item in enumerate(img_idx): #  Iterate iver the frames/images of a folder to read them in\n",
        "                    image = imageio.imread(source_path+'/'+ t[folder + (batch*batch_size)].strip().split(';')[0]+'/'+imgs[item]).astype(np.float32)\n",
        "                    \n",
        "                    #Cropping and Resize images  \n",
        "                    image_resized = cropAndResize(image,100,100)\n",
        "                    \n",
        "                    batch_data[folder,idx,:,:,0] = (image_resized[:,:,0])/255        #normalise and feed in the image\n",
        "                    batch_data[folder,idx,:,:,1] = (image_resized[:,:,1])/255        #normalise and feed in the image\n",
        "                    batch_data[folder,idx,:,:,2] = (image_resized[:,:,2])/255        #normalise and feed in the image\n",
        "                    \n",
        "                batch_labels[folder, int(t[folder + (batch*batch_size)].strip().split(';')[2])] = 1\n",
        "            yield batch_data, batch_labels #you yield the batch_data and the batch_labels, remember what does yield do\n",
        "\n",
        "        \n",
        "        # write the code for the remaining data points which are left after full batches\n",
        "        if((len(source_path)%batch_size)//2==0):\n",
        "            batch_size = 2\n",
        "        else:\n",
        "            batch_size = 1\n",
        "        num_batches = len(source_path)%batch_size # calculate the number of batches\n",
        "        for batch in range(num_batches): # we iterate over the number of batches\n",
        "            batch_data = np.zeros((batch_size,18,100,100,3)) # x is the number of images you use for each video, (y,z) is the final size of the input images and 3 is the number of channels RGB\n",
        "            batch_labels = np.zeros((batch_size,5)) # batch_labels is the one hot representation of the output\n",
        "            for folder in range(batch_size): # iterate over the batch_size\n",
        "                imgs = os.listdir(source_path+'/'+ t[folder + (batch*batch_size)].split(';')[0]) # read all the images in the folder\n",
        "                for idx,item in enumerate(img_idx): #  Iterate iver the frames/images of a folder to read them in\n",
        "                    image = imageio.imread(source_path+'/'+ t[folder + (batch*batch_size)].strip().split(';')[0]+'/'+imgs[item]).astype(np.float32)\n",
        "                    \n",
        "                    # Cropping and Resizing image\n",
        "                    image_resized = cropAndResize(image,100,100)\n",
        "                    \n",
        "                    #crop the images and resize them. Note that the images are of 2 different shape \n",
        "                    #and the conv3D will throw error if the inputs in a batch have different shapes\n",
        "                    batch_data[folder,idx,:,:,0] = (image_resized[:,:,0])/255        #normalise and feed in the image\n",
        "                    batch_data[folder,idx,:,:,1] = (image_resized[:,:,1])/255        #normalise and feed in the image\n",
        "                    batch_data[folder,idx,:,:,2] = (image_resized[:,:,2])/255        #normalise and feed in the image\n",
        "                    \n",
        "                    \n",
        "                batch_labels[folder, int(t[folder + (batch*batch_size)].strip().split(';')[2])] = 1\n",
        "            yield batch_data, batch_labels #you yield the batch_data and the batch_labels, remember what does yield do\n"
      ]
    },
    {
      "cell_type": "code",
      "execution_count": null,
      "metadata": {
        "id": "lvePPFfPyk8r"
      },
      "outputs": [],
      "source": [
        "# Creating fuction to plot results\n",
        "from matplotlib import pyplot as plt\n",
        "def plot(history):\n",
        "    fig, axes = plt.subplots(nrows=1, ncols=2, figsize=(15,4))\n",
        "    axes[0].plot(history.history['loss'])   \n",
        "    axes[0].plot(history.history['val_loss'])\n",
        "    axes[0].legend(['loss','val_loss'])\n",
        "\n",
        "    axes[1].plot(history.history['categorical_accuracy'])   \n",
        "    axes[1].plot(history.history['val_categorical_accuracy'])\n",
        "    axes[1].legend(['categorical_accuracy','val_categorical_accuracy'])"
      ]
    },
    {
      "cell_type": "code",
      "execution_count": null,
      "metadata": {
        "id": "lYd9DGkiWe3f",
        "outputId": "d3028622-4854-487a-c293-fb2e1f345289"
      },
      "outputs": [
        {
          "name": "stdout",
          "output_type": "stream",
          "text": [
            "# training sequences = 663\n",
            "# validation sequences = 100\n",
            "# epochs = 100\n"
          ]
        }
      ],
      "source": [
        "curr_dt_time = datetime.datetime.now()\n",
        "train_path = 'datasets/Project_data/train'\n",
        "val_path = 'datasets/Project_data/val'\n",
        "num_train_sequences = len(train_doc)\n",
        "print('# training sequences =', num_train_sequences)\n",
        "num_val_sequences = len(val_doc)\n",
        "print('# validation sequences =', num_val_sequences)\n",
        "num_epochs = 100 # choose the number of epochs\n",
        "print ('# epochs =', num_epochs)"
      ]
    },
    {
      "cell_type": "markdown",
      "source": [
        "**Final** Model: Transfer learning using mobilenet and GRU"
      ],
      "metadata": {
        "id": "NBswp2HV0WYf"
      }
    },
    {
      "cell_type": "code",
      "execution_count": null,
      "metadata": {
        "id": "9VQEdZSjWe51",
        "outputId": "b8ff0832-dcb8-46d4-d716-923a83dc00c2"
      },
      "outputs": [
        {
          "name": "stdout",
          "output_type": "stream",
          "text": [
            "WARNING:tensorflow:`input_shape` is undefined or non-square, or `rows` is not in [128, 160, 192, 224]. Weights for input shape (224, 224) will be loaded as the default.\n"
          ]
        },
        {
          "name": "stderr",
          "output_type": "stream",
          "text": [
            "2022-05-25 09:49:39.346366: W tensorflow/core/common_runtime/gpu/gpu_bfc_allocator.cc:39] Overriding allow_growth setting because the TF_FORCE_GPU_ALLOW_GROWTH environment variable is set. Original config value was 0.\n",
            "2022-05-25 09:49:39.346428: I tensorflow/core/common_runtime/gpu/gpu_device.cc:1525] Created device /job:localhost/replica:0/task:0/device:GPU:0 with 14803 MB memory:  -> device: 0, name: Quadro RTX 5000, pci bus id: 0000:1c:00.0, compute capability: 7.5\n"
          ]
        },
        {
          "name": "stdout",
          "output_type": "stream",
          "text": [
            "Downloading data from https://storage.googleapis.com/tensorflow/keras-applications/mobilenet/mobilenet_1_0_224_tf_no_top.h5\n",
            "17227776/17225924 [==============================] - 1s 0us/step\n",
            "17235968/17225924 [==============================] - 1s 0us/step\n"
          ]
        }
      ],
      "source": [
        "from keras.models import Sequential, Model\n",
        "from keras.layers import Dense, GRU, Flatten, TimeDistributed, Flatten, BatchNormalization, Activation,Dropout,GlobalAveragePooling3D,LSTM,GlobalAveragePooling2D\n",
        "from keras.layers.convolutional import Conv3D, MaxPooling3D,Conv2D,MaxPooling2D\n",
        "from keras.callbacks import ModelCheckpoint, ReduceLROnPlateau,EarlyStopping\n",
        "from keras import optimizers\n",
        "\n",
        "img_idx =  [1,3,5,6,7,9,11,13,15,17,18,19,21,23,24,25,27,29]\n",
        "input_shape = (len(img_idx), 100, 100, 3)\n",
        "np.random.seed(30)\n",
        "\n",
        "#write your model here\n",
        "from keras.applications import mobilenet\n",
        "\n",
        "mobilenet_transfer = mobilenet.MobileNet(weights='imagenet', include_top=False)\n",
        "\n",
        "model = Sequential()\n",
        "model.add(TimeDistributed(mobilenet_transfer,input_shape=input_shape))\n",
        " \n",
        "model.add(TimeDistributed(BatchNormalization()))\n",
        "model.add(TimeDistributed(MaxPooling2D((2, 2))))\n",
        "model.add(TimeDistributed(Flatten()))\n",
        "\n",
        "model.add(GRU(128))\n",
        "model.add(Dropout(0.25))\n",
        "        \n",
        "model.add(Dense(128,activation='elu'))\n",
        "model.add(Dropout(0.25))\n",
        "        \n",
        "model.add(Dense(5, activation='softmax'))"
      ]
    },
    {
      "cell_type": "markdown",
      "source": [
        "Compiling the model and checking number of parameters"
      ],
      "metadata": {
        "id": "hiBT9qiY0tqS"
      }
    },
    {
      "cell_type": "code",
      "execution_count": null,
      "metadata": {
        "id": "aY1t-1JkWe9S",
        "outputId": "30b96665-59bc-46e0-fe8f-9c068bb25f55"
      },
      "outputs": [
        {
          "name": "stdout",
          "output_type": "stream",
          "text": [
            "Model: \"sequential\"\n",
            "_________________________________________________________________\n",
            " Layer (type)                Output Shape              Param #   \n",
            "=================================================================\n",
            " time_distributed (TimeDistr  (None, 18, 3, 3, 1024)   3228864   \n",
            " ibuted)                                                         \n",
            "                                                                 \n",
            " time_distributed_1 (TimeDis  (None, 18, 3, 3, 1024)   4096      \n",
            " tributed)                                                       \n",
            "                                                                 \n",
            " time_distributed_2 (TimeDis  (None, 18, 1, 1, 1024)   0         \n",
            " tributed)                                                       \n",
            "                                                                 \n",
            " time_distributed_3 (TimeDis  (None, 18, 1024)         0         \n",
            " tributed)                                                       \n",
            "                                                                 \n",
            " gru (GRU)                   (None, 128)               443136    \n",
            "                                                                 \n",
            " dropout (Dropout)           (None, 128)               0         \n",
            "                                                                 \n",
            " dense (Dense)               (None, 128)               16512     \n",
            "                                                                 \n",
            " dropout_1 (Dropout)         (None, 128)               0         \n",
            "                                                                 \n",
            " dense_1 (Dense)             (None, 5)                 645       \n",
            "                                                                 \n",
            "=================================================================\n",
            "Total params: 3,693,253\n",
            "Trainable params: 3,669,317\n",
            "Non-trainable params: 23,936\n",
            "_________________________________________________________________\n",
            "None\n"
          ]
        }
      ],
      "source": [
        "optimiser =tf.keras.optimizers.Adam() #write your optimizer\n",
        "model.compile(optimizer=optimiser, loss='categorical_crossentropy', metrics=['categorical_accuracy'])\n",
        "print (model.summary())"
      ]
    },
    {
      "cell_type": "markdown",
      "source": [
        "Let us create the `train_generator` and the `val_generator` which will \n",
        "be used in `.fit_generator`."
      ],
      "metadata": {
        "id": "moQqwd_s0_ub"
      }
    },
    {
      "cell_type": "code",
      "execution_count": null,
      "metadata": {
        "id": "rfrl7DPTWfAL"
      },
      "outputs": [],
      "source": [
        "train_generator = generator(train_path, train_doc, batch_size)\n",
        "val_generator = generator(val_path, val_doc, batch_size)"
      ]
    },
    {
      "cell_type": "code",
      "execution_count": null,
      "metadata": {
        "id": "71BpxhS_WuW6"
      },
      "outputs": [],
      "source": [
        "model_name = 'model_init' + '_' + str(curr_dt_time).replace(' ','').replace(':','_') + '/'\n",
        "    \n",
        "if not os.path.exists(model_name):\n",
        "    os.mkdir(model_name)\n",
        "        \n",
        "filepath = model_name + 'model-{epoch:05d}-{loss:.5f}-{categorical_accuracy:.5f}-{val_loss:.5f}-{val_categorical_accuracy:.5f}.h5'\n",
        "\n",
        "checkpoint = ModelCheckpoint(filepath, monitor='val_loss', verbose=1, save_best_only=True, save_weights_only=False, mode='auto', save_freq='epoch')\n",
        "\n",
        "LR =ReduceLROnPlateau(monitor='val_loss', factor=0.2, verbose=1, patience=4) # write the REducelronplateau code here\n",
        "earlystop = EarlyStopping( monitor=\"val_loss\", min_delta=0,patience=10,verbose=1)\n",
        "callbacks_list = [checkpoint, LR, earlystop]"
      ]
    },
    {
      "cell_type": "markdown",
      "source": [
        "The steps_per_epoch and validation_steps are used by fit_generator to decide the number of next() calls it need to make."
      ],
      "metadata": {
        "id": "RRZtYD311RzH"
      }
    },
    {
      "cell_type": "code",
      "execution_count": null,
      "metadata": {
        "id": "CqpKf-8iWuZ7"
      },
      "outputs": [],
      "source": [
        "if (num_train_sequences%batch_size) == 0:\n",
        "    steps_per_epoch = int(num_train_sequences/batch_size)\n",
        "else:\n",
        "    steps_per_epoch = (num_train_sequences//batch_size) + 1\n",
        "\n",
        "if (num_val_sequences%batch_size) == 0:\n",
        "    validation_steps = int(num_val_sequences/batch_size)\n",
        "else:\n",
        "    validation_steps = (num_val_sequences//batch_size) + 1"
      ]
    },
    {
      "cell_type": "markdown",
      "source": [
        "Let us now fit the model. This will start training the model and with the help of the checkpoints, you'll be able to save the model at the end of each epoch."
      ],
      "metadata": {
        "id": "xr9JJbZ61bzq"
      }
    },
    {
      "cell_type": "code",
      "execution_count": null,
      "metadata": {
        "id": "-j_IrRY2Wuf4",
        "outputId": "661d7649-faef-40ee-b245-7abccd44d414"
      },
      "outputs": [
        {
          "name": "stdout",
          "output_type": "stream",
          "text": [
            "Source path =  datasets/Project_data/train ; batch size = 50\n"
          ]
        },
        {
          "name": "stderr",
          "output_type": "stream",
          "text": [
            "/tmp/ipykernel_468/1787904139.py:1: UserWarning: `Model.fit_generator` is deprecated and will be removed in a future version. Please use `Model.fit`, which supports generators.\n",
            "  history=model.fit_generator(train_generator, steps_per_epoch=steps_per_epoch, epochs=num_epochs, verbose=1,\n"
          ]
        },
        {
          "name": "stdout",
          "output_type": "stream",
          "text": [
            "Epoch 1/100\n"
          ]
        },
        {
          "name": "stderr",
          "output_type": "stream",
          "text": [
            "2022-05-25 09:49:46.532753: I tensorflow/stream_executor/cuda/cuda_dnn.cc:377] Loaded cuDNN version 8302\n"
          ]
        },
        {
          "name": "stdout",
          "output_type": "stream",
          "text": [
            "14/14 [==============================] - ETA: 0s - loss: 2.6450 - categorical_accuracy: 0.1429Source path =  datasets/Project_data/val ; batch size = 50\n",
            "\n",
            "Epoch 00001: val_loss improved from inf to 1.72520, saving model to model_init_2022-05-2509_49_37.592367/model-00001-2.64501-0.14286-1.72520-0.50000.h5\n",
            "14/14 [==============================] - 10s 254ms/step - loss: 2.6450 - categorical_accuracy: 0.1429 - val_loss: 1.7252 - val_categorical_accuracy: 0.5000 - lr: 0.0010\n",
            "Epoch 2/100\n",
            "14/14 [==============================] - ETA: 0s - loss: 1.8747 - categorical_accuracy: 0.4667\n",
            "Epoch 00002: val_loss did not improve from 1.72520\n",
            "14/14 [==============================] - 3s 203ms/step - loss: 1.8747 - categorical_accuracy: 0.4667 - val_loss: 3.8377 - val_categorical_accuracy: 0.0000e+00 - lr: 0.0010\n",
            "Epoch 3/100\n",
            "14/14 [==============================] - ETA: 0s - loss: 1.3204 - categorical_accuracy: 0.5357\n",
            "Epoch 00003: val_loss improved from 1.72520 to 0.95690, saving model to model_init_2022-05-2509_49_37.592367/model-00003-1.32044-0.53571-0.95690-0.50000.h5\n",
            "14/14 [==============================] - 3s 253ms/step - loss: 1.3204 - categorical_accuracy: 0.5357 - val_loss: 0.9569 - val_categorical_accuracy: 0.5000 - lr: 0.0010\n",
            "Epoch 4/100\n",
            "14/14 [==============================] - ETA: 0s - loss: 1.3088 - categorical_accuracy: 0.6071\n",
            "Epoch 00004: val_loss improved from 0.95690 to 0.27659, saving model to model_init_2022-05-2509_49_37.592367/model-00004-1.30885-0.60714-0.27659-1.00000.h5\n",
            "14/14 [==============================] - 4s 285ms/step - loss: 1.3088 - categorical_accuracy: 0.6071 - val_loss: 0.2766 - val_categorical_accuracy: 1.0000 - lr: 0.0010\n",
            "Epoch 5/100\n",
            "14/14 [==============================] - ETA: 0s - loss: 1.0462 - categorical_accuracy: 0.5714\n",
            "Epoch 00005: val_loss did not improve from 0.27659\n",
            "14/14 [==============================] - 3s 254ms/step - loss: 1.0462 - categorical_accuracy: 0.5714 - val_loss: 0.8245 - val_categorical_accuracy: 1.0000 - lr: 0.0010\n",
            "Epoch 6/100\n",
            "14/14 [==============================] - ETA: 0s - loss: 1.2465 - categorical_accuracy: 0.5714\n",
            "Epoch 00006: val_loss did not improve from 0.27659\n",
            "14/14 [==============================] - 4s 331ms/step - loss: 1.2465 - categorical_accuracy: 0.5714 - val_loss: 0.8533 - val_categorical_accuracy: 0.5000 - lr: 0.0010\n",
            "Epoch 7/100\n",
            "14/14 [==============================] - ETA: 0s - loss: 0.9420 - categorical_accuracy: 0.5357\n",
            "Epoch 00007: val_loss did not improve from 0.27659\n",
            "14/14 [==============================] - 3s 261ms/step - loss: 0.9420 - categorical_accuracy: 0.5357 - val_loss: 1.0593 - val_categorical_accuracy: 0.5000 - lr: 0.0010\n",
            "Epoch 8/100\n",
            "14/14 [==============================] - ETA: 0s - loss: 0.8906 - categorical_accuracy: 0.6429\n",
            "Epoch 00008: val_loss did not improve from 0.27659\n",
            "\n",
            "Epoch 00008: ReduceLROnPlateau reducing learning rate to 0.00020000000949949026.\n",
            "14/14 [==============================] - 4s 267ms/step - loss: 0.8906 - categorical_accuracy: 0.6429 - val_loss: 1.4333 - val_categorical_accuracy: 0.5000 - lr: 0.0010\n",
            "Epoch 9/100\n",
            "14/14 [==============================] - ETA: 0s - loss: 1.0922 - categorical_accuracy: 0.5714\n",
            "Epoch 00009: val_loss did not improve from 0.27659\n",
            "14/14 [==============================] - 4s 306ms/step - loss: 1.0922 - categorical_accuracy: 0.5714 - val_loss: 0.4280 - val_categorical_accuracy: 1.0000 - lr: 2.0000e-04\n",
            "Epoch 10/100\n",
            "14/14 [==============================] - ETA: 0s - loss: 0.8627 - categorical_accuracy: 0.7143\n",
            "Epoch 00010: val_loss did not improve from 0.27659\n",
            "14/14 [==============================] - 5s 357ms/step - loss: 0.8627 - categorical_accuracy: 0.7143 - val_loss: 1.1113 - val_categorical_accuracy: 0.5000 - lr: 2.0000e-04\n",
            "Epoch 11/100\n",
            "14/14 [==============================] - ETA: 0s - loss: 0.7418 - categorical_accuracy: 0.7500\n",
            "Epoch 00011: val_loss did not improve from 0.27659\n",
            "14/14 [==============================] - 4s 329ms/step - loss: 0.7418 - categorical_accuracy: 0.7500 - val_loss: 0.4118 - val_categorical_accuracy: 0.7500 - lr: 2.0000e-04\n",
            "Epoch 12/100\n",
            "14/14 [==============================] - ETA: 0s - loss: 0.5773 - categorical_accuracy: 0.8214\n",
            "Epoch 00012: val_loss improved from 0.27659 to 0.11341, saving model to model_init_2022-05-2509_49_37.592367/model-00012-0.57733-0.82143-0.11341-1.00000.h5\n",
            "14/14 [==============================] - 4s 307ms/step - loss: 0.5773 - categorical_accuracy: 0.8214 - val_loss: 0.1134 - val_categorical_accuracy: 1.0000 - lr: 2.0000e-04\n",
            "Epoch 13/100\n",
            "14/14 [==============================] - ETA: 0s - loss: 0.9353 - categorical_accuracy: 0.7143\n",
            "Epoch 00013: val_loss improved from 0.11341 to 0.07479, saving model to model_init_2022-05-2509_49_37.592367/model-00013-0.93528-0.71429-0.07479-1.00000.h5\n",
            "14/14 [==============================] - 4s 307ms/step - loss: 0.9353 - categorical_accuracy: 0.7143 - val_loss: 0.0748 - val_categorical_accuracy: 1.0000 - lr: 2.0000e-04\n",
            "Epoch 14/100\n",
            "14/14 [==============================] - ETA: 0s - loss: 0.6300 - categorical_accuracy: 0.7857\n",
            "Epoch 00014: val_loss did not improve from 0.07479\n",
            "14/14 [==============================] - 5s 379ms/step - loss: 0.6300 - categorical_accuracy: 0.7857 - val_loss: 0.2844 - val_categorical_accuracy: 1.0000 - lr: 2.0000e-04\n",
            "Epoch 15/100\n",
            "14/14 [==============================] - ETA: 0s - loss: 0.3911 - categorical_accuracy: 0.8929\n",
            "Epoch 00015: val_loss did not improve from 0.07479\n",
            "14/14 [==============================] - 4s 266ms/step - loss: 0.3911 - categorical_accuracy: 0.8929 - val_loss: 1.0106 - val_categorical_accuracy: 0.5000 - lr: 2.0000e-04\n",
            "Epoch 16/100\n",
            "14/14 [==============================] - ETA: 0s - loss: 0.7535 - categorical_accuracy: 0.7143\n",
            "Epoch 00016: val_loss improved from 0.07479 to 0.03076, saving model to model_init_2022-05-2509_49_37.592367/model-00016-0.75347-0.71429-0.03076-1.00000.h5\n",
            "14/14 [==============================] - 4s 336ms/step - loss: 0.7535 - categorical_accuracy: 0.7143 - val_loss: 0.0308 - val_categorical_accuracy: 1.0000 - lr: 2.0000e-04\n",
            "Epoch 17/100\n",
            "14/14 [==============================] - ETA: 0s - loss: 0.3997 - categorical_accuracy: 0.8214\n",
            "Epoch 00017: val_loss did not improve from 0.03076\n",
            "14/14 [==============================] - 5s 397ms/step - loss: 0.3997 - categorical_accuracy: 0.8214 - val_loss: 0.1680 - val_categorical_accuracy: 1.0000 - lr: 2.0000e-04\n",
            "Epoch 18/100\n",
            "14/14 [==============================] - ETA: 0s - loss: 0.9863 - categorical_accuracy: 0.6786\n",
            "Epoch 00018: val_loss did not improve from 0.03076\n",
            "14/14 [==============================] - 4s 289ms/step - loss: 0.9863 - categorical_accuracy: 0.6786 - val_loss: 0.5097 - val_categorical_accuracy: 0.7500 - lr: 2.0000e-04\n",
            "Epoch 19/100\n",
            "14/14 [==============================] - ETA: 0s - loss: 0.6531 - categorical_accuracy: 0.7143\n",
            "Epoch 00019: val_loss did not improve from 0.03076\n",
            "14/14 [==============================] - 4s 320ms/step - loss: 0.6531 - categorical_accuracy: 0.7143 - val_loss: 0.7460 - val_categorical_accuracy: 0.7500 - lr: 2.0000e-04\n",
            "Epoch 20/100\n",
            "14/14 [==============================] - ETA: 0s - loss: 0.6792 - categorical_accuracy: 0.7143\n",
            "Epoch 00020: val_loss improved from 0.03076 to 0.02189, saving model to model_init_2022-05-2509_49_37.592367/model-00020-0.67920-0.71429-0.02189-1.00000.h5\n",
            "14/14 [==============================] - 4s 334ms/step - loss: 0.6792 - categorical_accuracy: 0.7143 - val_loss: 0.0219 - val_categorical_accuracy: 1.0000 - lr: 2.0000e-04\n",
            "Epoch 21/100\n",
            "14/14 [==============================] - ETA: 0s - loss: 0.6678 - categorical_accuracy: 0.7857\n",
            "Epoch 00021: val_loss did not improve from 0.02189\n",
            "14/14 [==============================] - 4s 295ms/step - loss: 0.6678 - categorical_accuracy: 0.7857 - val_loss: 0.2293 - val_categorical_accuracy: 1.0000 - lr: 2.0000e-04\n",
            "Epoch 22/100\n",
            "14/14 [==============================] - ETA: 0s - loss: 0.2707 - categorical_accuracy: 0.9643\n",
            "Epoch 00022: val_loss did not improve from 0.02189\n",
            "14/14 [==============================] - 4s 341ms/step - loss: 0.2707 - categorical_accuracy: 0.9643 - val_loss: 0.1058 - val_categorical_accuracy: 1.0000 - lr: 2.0000e-04\n",
            "Epoch 23/100\n",
            "14/14 [==============================] - ETA: 0s - loss: 0.5191 - categorical_accuracy: 0.7857\n",
            "Epoch 00023: val_loss did not improve from 0.02189\n",
            "14/14 [==============================] - 5s 381ms/step - loss: 0.5191 - categorical_accuracy: 0.7857 - val_loss: 1.3527 - val_categorical_accuracy: 0.5000 - lr: 2.0000e-04\n",
            "Epoch 24/100\n",
            "14/14 [==============================] - ETA: 0s - loss: 0.5466 - categorical_accuracy: 0.7500\n",
            "Epoch 00024: val_loss did not improve from 0.02189\n",
            "\n",
            "Epoch 00024: ReduceLROnPlateau reducing learning rate to 4.0000001899898055e-05.\n",
            "14/14 [==============================] - 4s 334ms/step - loss: 0.5466 - categorical_accuracy: 0.7500 - val_loss: 0.2012 - val_categorical_accuracy: 1.0000 - lr: 2.0000e-04\n",
            "Epoch 25/100\n",
            "14/14 [==============================] - ETA: 0s - loss: 0.4611 - categorical_accuracy: 0.8929\n",
            "Epoch 00025: val_loss did not improve from 0.02189\n",
            "14/14 [==============================] - 4s 330ms/step - loss: 0.4611 - categorical_accuracy: 0.8929 - val_loss: 1.1058 - val_categorical_accuracy: 0.5000 - lr: 4.0000e-05\n",
            "Epoch 26/100\n",
            "14/14 [==============================] - ETA: 0s - loss: 0.3563 - categorical_accuracy: 0.9286\n",
            "Epoch 00026: val_loss did not improve from 0.02189\n",
            "14/14 [==============================] - 5s 366ms/step - loss: 0.3563 - categorical_accuracy: 0.9286 - val_loss: 0.2269 - val_categorical_accuracy: 1.0000 - lr: 4.0000e-05\n",
            "Epoch 27/100\n",
            "14/14 [==============================] - ETA: 0s - loss: 0.6632 - categorical_accuracy: 0.7857\n",
            "Epoch 00027: val_loss did not improve from 0.02189\n",
            "14/14 [==============================] - 4s 294ms/step - loss: 0.6632 - categorical_accuracy: 0.7857 - val_loss: 0.3083 - val_categorical_accuracy: 1.0000 - lr: 4.0000e-05\n",
            "Epoch 28/100\n",
            "14/14 [==============================] - ETA: 0s - loss: 0.4550 - categorical_accuracy: 0.8929\n",
            "Epoch 00028: val_loss did not improve from 0.02189\n",
            "\n",
            "Epoch 00028: ReduceLROnPlateau reducing learning rate to 8.000000525498762e-06.\n",
            "14/14 [==============================] - 4s 329ms/step - loss: 0.4550 - categorical_accuracy: 0.8929 - val_loss: 0.5641 - val_categorical_accuracy: 0.7500 - lr: 4.0000e-05\n",
            "Epoch 29/100\n",
            "14/14 [==============================] - ETA: 0s - loss: 0.4364 - categorical_accuracy: 0.8571\n",
            "Epoch 00029: val_loss did not improve from 0.02189\n",
            "14/14 [==============================] - 5s 408ms/step - loss: 0.4364 - categorical_accuracy: 0.8571 - val_loss: 0.0280 - val_categorical_accuracy: 1.0000 - lr: 8.0000e-06\n",
            "Epoch 30/100\n",
            "14/14 [==============================] - ETA: 0s - loss: 0.2063 - categorical_accuracy: 0.9643\n",
            "Epoch 00030: val_loss did not improve from 0.02189\n",
            "14/14 [==============================] - 4s 340ms/step - loss: 0.2063 - categorical_accuracy: 0.9643 - val_loss: 0.0419 - val_categorical_accuracy: 1.0000 - lr: 8.0000e-06\n",
            "Epoch 00030: early stopping\n"
          ]
        }
      ],
      "source": [
        "history=model.fit_generator(train_generator, steps_per_epoch=steps_per_epoch, epochs=num_epochs, verbose=1, \n",
        "                    callbacks=callbacks_list, validation_data=val_generator, \n",
        "                    validation_steps=validation_steps, class_weight=None, workers=1, initial_epoch=0)"
      ]
    },
    {
      "cell_type": "code",
      "execution_count": null,
      "metadata": {
        "id": "htnfcHzaWujS",
        "outputId": "19abed31-ee9c-4f56-9cb5-86604958b3ca"
      },
      "outputs": [
        {
          "data": {
            "image/png": "[encoded data removed]",
            "text/plain": [
              "<Figure size 1080x288 with 2 Axes>"
            ]
          },
          "metadata": {
            "needs_background": "light"
          },
          "output_type": "display_data"
        }
      ],
      "source": [
        "plot(history)"
      ]
    },
    {
      "cell_type": "code",
      "execution_count": null,
      "metadata": {
        "id": "dzWfRmKiWume"
      },
      "outputs": [],
      "source": [
        ""
      ]
    },
    {
      "cell_type": "code",
      "execution_count": null,
      "metadata": {
        "id": "fe8m37FAWuqL"
      },
      "outputs": [],
      "source": [
        ""
      ]
    },
    {
      "cell_type": "code",
      "execution_count": null,
      "metadata": {
        "id": "7T9NWd1SWusZ"
      },
      "outputs": [],
      "source": [
        ""
      ]
    }
  ],
  "metadata": {
    "colab": {
      "name": "Final_model12.ipynb",
      "provenance": [],
      "collapsed_sections": []
    },
    "kernelspec": {
      "display_name": "Python 3 (ipykernel)",
      "language": "python",
      "name": "python3"
    },
    "language_info": {
      "codemirror_mode": {
        "name": "ipython",
        "version": 3
      },
      "file_extension": ".py",
      "mimetype": "text/x-python",
      "name": "python",
      "nbconvert_exporter": "python",
      "pygments_lexer": "ipython3",
      "version": "3.8.10"
    }
  },
  "nbformat": 4,
  "nbformat_minor": 0
}