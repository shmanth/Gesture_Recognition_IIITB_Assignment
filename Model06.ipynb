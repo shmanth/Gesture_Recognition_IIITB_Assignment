{
  "cells": [
    {
      "cell_type": "code",
      "execution_count": null,
      "metadata": {
        "id": "wDQ5bMGjWdSo"
      },
      "outputs": [],
      "source": [
        "import numpy as np\n",
        "import os\n",
        "import imageio \n",
        "from PIL import Image\n",
        "from skimage.transform import resize\n",
        "import datetime\n",
        "import os"
      ]
    },
    {
      "cell_type": "code",
      "execution_count": null,
      "metadata": {
        "id": "QgGqRXjRWew1"
      },
      "outputs": [],
      "source": [
        "np.random.seed(30)\n",
        "import random as rn\n",
        "rn.seed(30)\n",
        "from keras import backend as K\n",
        "import tensorflow as tf\n",
        "tf.random.set_seed(30)"
      ]
    },
    {
      "cell_type": "markdown",
      "source": [
        "Loading Data"
      ],
      "metadata": {
        "id": "5aBJ5Axs2zOJ"
      }
    },
    {
      "cell_type": "code",
      "execution_count": null,
      "metadata": {
        "id": "p2tJk8ffWey7"
      },
      "outputs": [],
      "source": [
        "train_doc = np.random.permutation(open('datasets/Project_data/train.csv').readlines())\n",
        "val_doc = np.random.permutation(open('datasets/Project_data/val.csv').readlines())\n",
        "batch_size = 64"
      ]
    },
    {
      "cell_type": "code",
      "execution_count": null,
      "metadata": {
        "id": "Lk2HPPunWe1L"
      },
      "outputs": [],
      "source": [
        "def generator(source_path, folder_list, batch_size):\n",
        "    print( 'Source path = ', source_path, '; batch size =', batch_size)\n",
        "    img_idx = [1,3,5,6,7,9,11,13,15,17,18,19,21,23,24,25,27,29]#create a list of image numbers you want to use for a particular video\n",
        "    while True:\n",
        "        t = np.random.permutation(folder_list)\n",
        "        num_batches = len(source_path)//batch_size # calculate the number of batches\n",
        "        for batch in range(num_batches): # we iterate over the number of batches\n",
        "            batch_data = np.zeros((batch_size,18,100,100,3)) # x is the number of images you use for each video, (y,z) is the final size of the input images and 3 is the number of channels RGB\n",
        "            batch_labels = np.zeros((batch_size,5)) # batch_labels is the one hot representation of the output\n",
        "            for folder in range(batch_size): # iterate over the batch_size\n",
        "                imgs = os.listdir(source_path+'/'+ t[folder + (batch*batch_size)].split(';')[0]) # read all the images in the folder\n",
        "                for idx,item in enumerate(img_idx): #  Iterate iver the frames/images of a folder to read them in\n",
        "                    image = imageio.imread(source_path+'/'+ t[folder + (batch*batch_size)].strip().split(';')[0]+'/'+imgs[item]).astype(np.float32)\n",
        "                    \n",
        "                    \n",
        "                    \n",
        "                    # Cropped image\n",
        "                    if image.shape[1] < 400:\n",
        "                        image = resize(image[:,20:140,:],(100,100)).astype(np.float32)\n",
        "                    else:\n",
        "                        image = resize(image,(100,100)).astype(np.float32)\n",
        "                \n",
        "                    \n",
        "                    \n",
        "                    #crop the images and resize them. Note that the images are of 2 different shape \n",
        "                    #and the conv3D will throw error if the inputs in a batch have different shapes\n",
        "                    \n",
        "                    batch_data[folder,idx,:,:,0] /= 255\n",
        "                    batch_data[folder,idx,:,:,1] /= 255 #normalise and feed in the image\n",
        "                    batch_data[folder,idx,:,:,2] /= 255 #normalise and feed in the image\n",
        "                    \n",
        "                batch_labels[folder, int(t[folder + (batch*batch_size)].strip().split(';')[2])] = 1\n",
        "            yield batch_data, batch_labels #you yield the batch_data and the batch_labels, remember what does yield do\n",
        "\n",
        "        \n",
        "        # write the code for the remaining data points which are left after full batches\n",
        "        if((len(source_path)%batch_size)//2==0):\n",
        "            batch_size = 2\n",
        "        else:\n",
        "            batch_size = 1\n",
        "        num_batches = len(source_path)%batch_size # calculate the number of batches\n",
        "        for batch in range(num_batches): # we iterate over the number of batches\n",
        "            batch_data = np.zeros((batch_size,18,100,100,3)) # x is the number of images you use for each video, (y,z) is the final size of the input images and 3 is the number of channels RGB\n",
        "            batch_labels = np.zeros((batch_size,5)) # batch_labels is the one hot representation of the output\n",
        "            for folder in range(batch_size): # iterate over the batch_size\n",
        "                imgs = os.listdir(source_path+'/'+ t[folder + (batch*batch_size)].split(';')[0]) # read all the images in the folder\n",
        "                for idx,item in enumerate(img_idx): #  Iterate iver the frames/images of a folder to read them in\n",
        "                    image = imageio.imread(source_path+'/'+ t[folder + (batch*batch_size)].strip().split(';')[0]+'/'+imgs[item]).astype(np.float32)\n",
        "                    \n",
        "                    \n",
        "                    \n",
        "                    # Cropped image\n",
        "                    if image.shape[1] < 400:\n",
        "                        image = resize(image[:,20:140,:],(100,100)).astype(np.float32)\n",
        "                    else:\n",
        "                        image = resize(image,(100,100)).astype(np.float32)\n",
        "                    \n",
        "                    #crop the images and resize them. Note that the images are of 2 different shape \n",
        "                    #and the conv3D will throw error if the inputs in a batch have different shapes\n",
        "                    \n",
        "                    batch_data[folder,idx,:,:,0] /= 255\n",
        "                    batch_data[folder,idx,:,:,1] /= 255 #normalise and feed in the image\n",
        "                    batch_data[folder,idx,:,:,2] /= 255 #normalise and feed in the image\n",
        "                    \n",
        "                batch_labels[folder, int(t[folder + (batch*batch_size)].strip().split(';')[2])] = 1\n",
        "            yield batch_data, batch_labels #you yield the batch_data and the batch_labels, remember what does yield do\n"
      ]
    },
    {
      "cell_type": "code",
      "execution_count": null,
      "metadata": {
        "id": "lYd9DGkiWe3f",
        "outputId": "d3028622-4854-487a-c293-fb2e1f345289"
      },
      "outputs": [
        {
          "name": "stdout",
          "output_type": "stream",
          "text": [
            "# training sequences = 663\n",
            "# validation sequences = 100\n",
            "# epochs = 15\n"
          ]
        }
      ],
      "source": [
        "curr_dt_time = datetime.datetime.now()\n",
        "train_path = 'datasets/Project_data/train'\n",
        "val_path = 'datasets/Project_data/val'\n",
        "num_train_sequences = len(train_doc)\n",
        "print('# training sequences =', num_train_sequences)\n",
        "num_val_sequences = len(val_doc)\n",
        "print('# validation sequences =', num_val_sequences)\n",
        "num_epochs = 15 # choose the number of epochs\n",
        "print ('# epochs =', num_epochs)"
      ]
    },
    {
      "cell_type": "markdown",
      "source": [
        "Model 6:\n",
        "num_epochs = 15"
      ],
      "metadata": {
        "id": "xupMjK012tL5"
      }
    },
    {
      "cell_type": "code",
      "execution_count": null,
      "metadata": {
        "id": "9VQEdZSjWe51",
        "outputId": "b8ff0832-dcb8-46d4-d716-923a83dc00c2"
      },
      "outputs": [
        {
          "name": "stderr",
          "output_type": "stream",
          "text": [
            "2022-05-25 06:23:07.028837: W tensorflow/core/common_runtime/gpu/gpu_bfc_allocator.cc:39] Overriding allow_growth setting because the TF_FORCE_GPU_ALLOW_GROWTH environment variable is set. Original config value was 0.\n",
            "2022-05-25 06:23:07.028895: I tensorflow/core/common_runtime/gpu/gpu_device.cc:1525] Created device /job:localhost/replica:0/task:0/device:GPU:0 with 14803 MB memory:  -> device: 0, name: Quadro RTX 5000, pci bus id: 0000:1c:00.0, compute capability: 7.5\n"
          ]
        }
      ],
      "source": [
        "from keras.models import Sequential, Model\n",
        "from keras.layers import Dense, GRU, Flatten, TimeDistributed, Flatten, BatchNormalization, Activation, Dropout\n",
        "from keras.layers.convolutional import Conv3D, MaxPooling3D\n",
        "from keras.callbacks import ModelCheckpoint, ReduceLROnPlateau\n",
        "from keras import optimizers\n",
        "\n",
        "#write your model here\n",
        "Input_shape = (18, 100, 100, 3)\n",
        "model = Sequential()\n",
        "model.add(Conv3D(64, (3,3,3), padding='same',\n",
        "                 input_shape=Input_shape))\n",
        "model.add(Activation('elu'))\n",
        "model.add(MaxPooling3D(pool_size=(2, 2,2)))\n",
        "\n",
        "model.add(Conv3D(128, (3, 3,3),padding=\"same\"))\n",
        "model.add(BatchNormalization())\n",
        "model.add(Activation('elu'))\n",
        "model.add(MaxPooling3D(pool_size=(2, 2,2)))\n",
        "\n",
        "model.add(Conv3D(256, (3, 3,3), padding='same'))\n",
        "model.add(Activation('elu'))\n",
        "model.add(BatchNormalization())\n",
        "model.add(MaxPooling3D(pool_size=(2, 2,2)))\n",
        "\n",
        "model.add(Conv3D(256, (3, 3,3),padding=\"same\"))\n",
        "model.add(Activation('elu'))\n",
        "model.add(BatchNormalization())\n",
        "\n",
        "model.add(Flatten())\n",
        "model.add(Dense(512))\n",
        "model.add(Activation('elu'))\n",
        "model.add(Dense(5))\n",
        "model.add(Activation('softmax'))"
      ]
    },
    {
      "cell_type": "code",
      "execution_count": null,
      "metadata": {
        "id": "aY1t-1JkWe9S",
        "outputId": "30b96665-59bc-46e0-fe8f-9c068bb25f55"
      },
      "outputs": [
        {
          "name": "stdout",
          "output_type": "stream",
          "text": [
            "Model: \"sequential\"\n",
            "_________________________________________________________________\n",
            " Layer (type)                Output Shape              Param #   \n",
            "=================================================================\n",
            " conv3d (Conv3D)             (None, 18, 100, 100, 64)  5248      \n",
            "                                                                 \n",
            " activation (Activation)     (None, 18, 100, 100, 64)  0         \n",
            "                                                                 \n",
            " max_pooling3d (MaxPooling3D  (None, 9, 50, 50, 64)    0         \n",
            " )                                                               \n",
            "                                                                 \n",
            " conv3d_1 (Conv3D)           (None, 9, 50, 50, 128)    221312    \n",
            "                                                                 \n",
            " batch_normalization (BatchN  (None, 9, 50, 50, 128)   512       \n",
            " ormalization)                                                   \n",
            "                                                                 \n",
            " activation_1 (Activation)   (None, 9, 50, 50, 128)    0         \n",
            "                                                                 \n",
            " max_pooling3d_1 (MaxPooling  (None, 4, 25, 25, 128)   0         \n",
            " 3D)                                                             \n",
            "                                                                 \n",
            " conv3d_2 (Conv3D)           (None, 4, 25, 25, 256)    884992    \n",
            "                                                                 \n",
            " activation_2 (Activation)   (None, 4, 25, 25, 256)    0         \n",
            "                                                                 \n",
            " batch_normalization_1 (Batc  (None, 4, 25, 25, 256)   1024      \n",
            " hNormalization)                                                 \n",
            "                                                                 \n",
            " max_pooling3d_2 (MaxPooling  (None, 2, 12, 12, 256)   0         \n",
            " 3D)                                                             \n",
            "                                                                 \n",
            " conv3d_3 (Conv3D)           (None, 2, 12, 12, 256)    1769728   \n",
            "                                                                 \n",
            " activation_3 (Activation)   (None, 2, 12, 12, 256)    0         \n",
            "                                                                 \n",
            " batch_normalization_2 (Batc  (None, 2, 12, 12, 256)   1024      \n",
            " hNormalization)                                                 \n",
            "                                                                 \n",
            " flatten (Flatten)           (None, 73728)             0         \n",
            "                                                                 \n",
            " dense (Dense)               (None, 512)               37749248  \n",
            "                                                                 \n",
            " activation_4 (Activation)   (None, 512)               0         \n",
            "                                                                 \n",
            " dense_1 (Dense)             (None, 5)                 2565      \n",
            "                                                                 \n",
            " activation_5 (Activation)   (None, 5)                 0         \n",
            "                                                                 \n",
            "=================================================================\n",
            "Total params: 40,635,653\n",
            "Trainable params: 40,634,373\n",
            "Non-trainable params: 1,280\n",
            "_________________________________________________________________\n",
            "None\n"
          ]
        },
        {
          "name": "stderr",
          "output_type": "stream",
          "text": [
            "/usr/local/lib/python3.8/dist-packages/keras/optimizer_v2/adam.py:105: UserWarning: The `lr` argument is deprecated, use `learning_rate` instead.\n",
            "  super(Adam, self).__init__(name, **kwargs)\n"
          ]
        }
      ],
      "source": [
        "optimiser =tf.keras.optimizers.Adam(lr=0.001)\n",
        "model.compile(optimizer=optimiser, loss='categorical_crossentropy', metrics=['categorical_accuracy'])\n",
        "print (model.summary())"
      ]
    },
    {
      "cell_type": "code",
      "execution_count": null,
      "metadata": {
        "id": "rfrl7DPTWfAL"
      },
      "outputs": [],
      "source": [
        "train_generator = generator(train_path, train_doc, batch_size)\n",
        "val_generator = generator(val_path, val_doc, batch_size)"
      ]
    },
    {
      "cell_type": "code",
      "execution_count": null,
      "metadata": {
        "id": "71BpxhS_WuW6",
        "outputId": "6310cbe8-1eee-40ad-e6a6-f663d1b4030d"
      },
      "outputs": [
        {
          "name": "stdout",
          "output_type": "stream",
          "text": [
            "WARNING:tensorflow:`period` argument is deprecated. Please use `save_freq` to specify the frequency in number of batches seen.\n",
            "WARNING:tensorflow:`epsilon` argument is deprecated and will be removed, use `min_delta` instead.\n"
          ]
        }
      ],
      "source": [
        "model_name = 'Gesture_recog' + '_' + str(curr_dt_time).replace(' ','').replace(':','_') + '/'\n",
        "    \n",
        "if not os.path.exists(model_name):\n",
        "    os.mkdir(model_name)\n",
        "        \n",
        "filepath = model_name + 'model-{epoch:05d}-{loss:.5f}-{categorical_accuracy:.5f}-{val_loss:.5f}-{val_categorical_accuracy:.5f}.h5'\n",
        "\n",
        "checkpoint = ModelCheckpoint(filepath, monitor='val_loss', verbose=1, save_best_only=False, save_weights_only=False, mode='auto', period=1)\n",
        "\n",
        "LR = ReduceLROnPlateau(monitor = \"val_loss\", factor = 0.1, patience = 10,\n",
        "  verbose = 0, mode = \"auto\", epsilon = 1e-04, cooldown = 0,\n",
        "  min_lr = 0)\n",
        "callbacks_list = [checkpoint, LR]"
      ]
    },
    {
      "cell_type": "code",
      "execution_count": null,
      "metadata": {
        "id": "CqpKf-8iWuZ7"
      },
      "outputs": [],
      "source": [
        "if (num_train_sequences%batch_size) == 0:\n",
        "    steps_per_epoch = int(num_train_sequences/batch_size)\n",
        "else:\n",
        "    steps_per_epoch = (num_train_sequences//batch_size) + 1\n",
        "\n",
        "if (num_val_sequences%batch_size) == 0:\n",
        "    validation_steps = int(num_val_sequences/batch_size)\n",
        "else:\n",
        "    validation_steps = (num_val_sequences//batch_size) + 1"
      ]
    },
    {
      "cell_type": "code",
      "execution_count": null,
      "metadata": {
        "id": "-j_IrRY2Wuf4",
        "outputId": "661d7649-faef-40ee-b245-7abccd44d414"
      },
      "outputs": [
        {
          "name": "stderr",
          "output_type": "stream",
          "text": [
            "/tmp/ipykernel_559/385748685.py:1: UserWarning: `Model.fit_generator` is deprecated and will be removed in a future version. Please use `Model.fit`, which supports generators.\n",
            "  model.fit_generator(train_generator, steps_per_epoch=steps_per_epoch, epochs=num_epochs, verbose=1,\n"
          ]
        },
        {
          "name": "stdout",
          "output_type": "stream",
          "text": [
            "Source path =  datasets/Project_data/train ; batch size = 64\n",
            "Epoch 1/15\n"
          ]
        },
        {
          "name": "stderr",
          "output_type": "stream",
          "text": [
            "2022-05-25 06:23:09.147480: I tensorflow/stream_executor/cuda/cuda_dnn.cc:377] Loaded cuDNN version 8302\n"
          ]
        },
        {
          "name": "stdout",
          "output_type": "stream",
          "text": [
            "11/11 [==============================] - ETA: 0s - loss: 162.8734 - categorical_accuracy: 0.1818Source path =  datasets/Project_data/val ; batch size = 64\n",
            "\n",
            "Epoch 00001: saving model to Gesture_recog_2022-05-2506_23_06.251872/model-00001-162.87344-0.18182-6.15953-0.00000.h5\n",
            "11/11 [==============================] - 6s 295ms/step - loss: 162.8734 - categorical_accuracy: 0.1818 - val_loss: 6.1595 - val_categorical_accuracy: 0.0000e+00 - lr: 0.0010\n",
            "Epoch 2/15\n",
            "11/11 [==============================] - ETA: 0s - loss: 9.9851 - categorical_accuracy: 0.0909    \n",
            "Epoch 00002: saving model to Gesture_recog_2022-05-2506_23_06.251872/model-00002-9.98507-0.09091-204.56917-0.00000.h5\n",
            "11/11 [==============================] - 2s 235ms/step - loss: 9.9851 - categorical_accuracy: 0.0909 - val_loss: 204.5692 - val_categorical_accuracy: 0.0000e+00 - lr: 0.0010\n",
            "Epoch 3/15\n",
            "11/11 [==============================] - ETA: 0s - loss: 1.7980 - categorical_accuracy: 0.1765\n",
            "Epoch 00003: saving model to Gesture_recog_2022-05-2506_23_06.251872/model-00003-1.79802-0.17647-239.11197-0.00000.h5\n",
            "11/11 [==============================] - 3s 326ms/step - loss: 1.7980 - categorical_accuracy: 0.1765 - val_loss: 239.1120 - val_categorical_accuracy: 0.0000e+00 - lr: 0.0010\n",
            "Epoch 4/15\n",
            "11/11 [==============================] - ETA: 0s - loss: 1.9817 - categorical_accuracy: 0.2273\n",
            "Epoch 00004: saving model to Gesture_recog_2022-05-2506_23_06.251872/model-00004-1.98165-0.22727-159.03912-0.50000.h5\n",
            "11/11 [==============================] - 4s 381ms/step - loss: 1.9817 - categorical_accuracy: 0.2273 - val_loss: 159.0391 - val_categorical_accuracy: 0.5000 - lr: 0.0010\n",
            "Epoch 5/15\n",
            "11/11 [==============================] - ETA: 0s - loss: 1.8927 - categorical_accuracy: 0.1818\n",
            "Epoch 00005: saving model to Gesture_recog_2022-05-2506_23_06.251872/model-00005-1.89265-0.18182-300.59778-0.00000.h5\n",
            "11/11 [==============================] - 3s 339ms/step - loss: 1.8927 - categorical_accuracy: 0.1818 - val_loss: 300.5978 - val_categorical_accuracy: 0.0000e+00 - lr: 0.0010\n",
            "Epoch 6/15\n",
            "11/11 [==============================] - ETA: 0s - loss: 1.6787 - categorical_accuracy: 0.0909\n",
            "Epoch 00006: saving model to Gesture_recog_2022-05-2506_23_06.251872/model-00006-1.67868-0.09091-157.84302-0.50000.h5\n",
            "11/11 [==============================] - 3s 334ms/step - loss: 1.6787 - categorical_accuracy: 0.0909 - val_loss: 157.8430 - val_categorical_accuracy: 0.5000 - lr: 0.0010\n",
            "Epoch 7/15\n",
            "11/11 [==============================] - ETA: 0s - loss: 1.6719 - categorical_accuracy: 0.2273\n",
            "Epoch 00007: saving model to Gesture_recog_2022-05-2506_23_06.251872/model-00007-1.67186-0.22727-351.69235-0.00000.h5\n",
            "11/11 [==============================] - 3s 326ms/step - loss: 1.6719 - categorical_accuracy: 0.2273 - val_loss: 351.6924 - val_categorical_accuracy: 0.0000e+00 - lr: 0.0010\n",
            "Epoch 8/15\n",
            "11/11 [==============================] - ETA: 0s - loss: 1.6579 - categorical_accuracy: 0.2727\n",
            "Epoch 00008: saving model to Gesture_recog_2022-05-2506_23_06.251872/model-00008-1.65794-0.27273-189.69298-0.50000.h5\n",
            "11/11 [==============================] - 3s 310ms/step - loss: 1.6579 - categorical_accuracy: 0.2727 - val_loss: 189.6930 - val_categorical_accuracy: 0.5000 - lr: 0.0010\n",
            "Epoch 9/15\n",
            "11/11 [==============================] - ETA: 0s - loss: 1.6220 - categorical_accuracy: 0.2273\n",
            "Epoch 00009: saving model to Gesture_recog_2022-05-2506_23_06.251872/model-00009-1.62200-0.22727-279.00211-0.33333.h5\n",
            "11/11 [==============================] - 3s 325ms/step - loss: 1.6220 - categorical_accuracy: 0.2273 - val_loss: 279.0021 - val_categorical_accuracy: 0.3333 - lr: 0.0010\n",
            "Epoch 10/15\n",
            "11/11 [==============================] - ETA: 0s - loss: 1.6442 - categorical_accuracy: 0.1818\n",
            "Epoch 00010: saving model to Gesture_recog_2022-05-2506_23_06.251872/model-00010-1.64416-0.18182-241.58369-0.25000.h5\n",
            "11/11 [==============================] - 4s 379ms/step - loss: 1.6442 - categorical_accuracy: 0.1818 - val_loss: 241.5837 - val_categorical_accuracy: 0.2500 - lr: 0.0010\n",
            "Epoch 11/15\n",
            "11/11 [==============================] - ETA: 0s - loss: 1.6816 - categorical_accuracy: 0.1364\n",
            "Epoch 00011: saving model to Gesture_recog_2022-05-2506_23_06.251872/model-00011-1.68155-0.13636-256.93680-0.25000.h5\n",
            "11/11 [==============================] - 4s 374ms/step - loss: 1.6816 - categorical_accuracy: 0.1364 - val_loss: 256.9368 - val_categorical_accuracy: 0.2500 - lr: 0.0010\n",
            "Epoch 12/15\n",
            "11/11 [==============================] - ETA: 0s - loss: 1.6898 - categorical_accuracy: 0.1818\n",
            "Epoch 00012: saving model to Gesture_recog_2022-05-2506_23_06.251872/model-00012-1.68981-0.18182-244.76007-0.25000.h5\n",
            "11/11 [==============================] - 4s 362ms/step - loss: 1.6898 - categorical_accuracy: 0.1818 - val_loss: 244.7601 - val_categorical_accuracy: 0.2500 - lr: 1.0000e-04\n",
            "Epoch 13/15\n",
            "11/11 [==============================] - ETA: 0s - loss: 1.7509 - categorical_accuracy: 0.0455\n",
            "Epoch 00013: saving model to Gesture_recog_2022-05-2506_23_06.251872/model-00013-1.75095-0.04545-311.32538-0.00000.h5\n",
            "11/11 [==============================] - 3s 344ms/step - loss: 1.7509 - categorical_accuracy: 0.0455 - val_loss: 311.3254 - val_categorical_accuracy: 0.0000e+00 - lr: 1.0000e-04\n",
            "Epoch 14/15\n",
            "11/11 [==============================] - ETA: 0s - loss: 1.6075 - categorical_accuracy: 0.2727\n",
            "Epoch 00014: saving model to Gesture_recog_2022-05-2506_23_06.251872/model-00014-1.60746-0.27273-222.79715-0.25000.h5\n",
            "11/11 [==============================] - 4s 374ms/step - loss: 1.6075 - categorical_accuracy: 0.2727 - val_loss: 222.7971 - val_categorical_accuracy: 0.2500 - lr: 1.0000e-04\n",
            "Epoch 15/15\n",
            "11/11 [==============================] - ETA: 0s - loss: 1.6213 - categorical_accuracy: 0.2273\n",
            "Epoch 00015: saving model to Gesture_recog_2022-05-2506_23_06.251872/model-00015-1.62131-0.22727-298.20642-0.00000.h5\n",
            "11/11 [==============================] - 4s 400ms/step - loss: 1.6213 - categorical_accuracy: 0.2273 - val_loss: 298.2064 - val_categorical_accuracy: 0.0000e+00 - lr: 1.0000e-04\n"
          ]
        },
        {
          "data": {
            "text/plain": [
              "<keras.callbacks.History at 0x7ff64016daf0>"
            ]
          },
          "execution_count": 11,
          "metadata": {},
          "output_type": "execute_result"
        }
      ],
      "source": [
        "model.fit_generator(train_generator, steps_per_epoch=steps_per_epoch, epochs=num_epochs, verbose=1, \n",
        "                    callbacks=callbacks_list, validation_data=val_generator, \n",
        "                    validation_steps=validation_steps, class_weight=None, workers=1, initial_epoch=0)"
      ]
    },
    {
      "cell_type": "code",
      "execution_count": null,
      "metadata": {
        "id": "htnfcHzaWujS"
      },
      "outputs": [],
      "source": [
        ""
      ]
    },
    {
      "cell_type": "code",
      "execution_count": null,
      "metadata": {
        "id": "dzWfRmKiWume"
      },
      "outputs": [],
      "source": [
        ""
      ]
    },
    {
      "cell_type": "code",
      "execution_count": null,
      "metadata": {
        "id": "fe8m37FAWuqL"
      },
      "outputs": [],
      "source": [
        ""
      ]
    },
    {
      "cell_type": "code",
      "execution_count": null,
      "metadata": {
        "id": "7T9NWd1SWusZ"
      },
      "outputs": [],
      "source": [
        ""
      ]
    }
  ],
  "metadata": {
    "colab": {
      "name": "Model06.ipynb",
      "provenance": []
    },
    "kernelspec": {
      "display_name": "Python 3 (ipykernel)",
      "language": "python",
      "name": "python3"
    },
    "language_info": {
      "codemirror_mode": {
        "name": "ipython",
        "version": 3
      },
      "file_extension": ".py",
      "mimetype": "text/x-python",
      "name": "python",
      "nbconvert_exporter": "python",
      "pygments_lexer": "ipython3",
      "version": "3.8.10"
    }
  },
  "nbformat": 4,
  "nbformat_minor": 0
}