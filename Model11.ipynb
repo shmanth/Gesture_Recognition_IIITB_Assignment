{
  "cells": [
    {
      "cell_type": "code",
      "execution_count": null,
      "metadata": {
        "id": "wDQ5bMGjWdSo"
      },
      "outputs": [],
      "source": [
        "import numpy as np\n",
        "import os\n",
        "import imageio \n",
        "from PIL import Image\n",
        "from skimage.transform import resize\n",
        "import datetime\n",
        "import os"
      ]
    },
    {
      "cell_type": "code",
      "execution_count": null,
      "metadata": {
        "id": "QgGqRXjRWew1"
      },
      "outputs": [],
      "source": [
        "np.random.seed(30)\n",
        "import random as rn\n",
        "rn.seed(30)\n",
        "from keras import backend as K\n",
        "import tensorflow as tf\n",
        "tf.random.set_seed(30)"
      ]
    },
    {
      "cell_type": "code",
      "execution_count": null,
      "metadata": {
        "id": "p2tJk8ffWey7"
      },
      "outputs": [],
      "source": [
        "train_doc = np.random.permutation(open('datasets/Project_data/train.csv').readlines())\n",
        "val_doc = np.random.permutation(open('datasets/Project_data/val.csv').readlines())\n",
        "batch_size = 40"
      ]
    },
    {
      "cell_type": "code",
      "execution_count": null,
      "metadata": {
        "id": "D-z2_PrWjdj4"
      },
      "outputs": [],
      "source": [
        "# Defining for Cropping and Resizing images\n",
        "def cropAndResize(image,HEIGHT_DIMENSION,WIDTH_DIMENSION):\n",
        "    #crop the images and resize them.  \n",
        "    #Note that the images are of 2 different shape& the conv3D will throw error if the inputs in a batch have different shapes.\n",
        "    # CROPPING (making aspect ratio same)\n",
        "    if abs(image.shape[0]-image.shape[1])%2==0 and image.shape[0]!=image.shape[1]:\n",
        "        dimension_diff=abs(image.shape[0]-image.shape[1])\n",
        "        cropping_ratio=dimension_diff//2\n",
        "        if image.shape[0]>image.shape[1]:\n",
        "            image=image[cropping_ratio:image.shape[0]-cropping_ratio,:,:]\n",
        "        elif image.shape[0]<image.shape[1]:\n",
        "            image=image[:,cropping_ratio:image.shape[1]-cropping_ratio,:]\n",
        "                    \n",
        "    # RESIZING\n",
        "    if image.shape[0]>100 or image.shape[1]>100:\n",
        "        image=resize(image, (100, 100))\n",
        "    return image"
      ]
    },
    {
      "cell_type": "code",
      "execution_count": null,
      "metadata": {
        "id": "Lk2HPPunWe1L"
      },
      "outputs": [],
      "source": [
        "def generator(source_path, folder_list, batch_size):\n",
        "    print( 'Source path = ', source_path, '; batch size =', batch_size)\n",
        "    img_idx = [1,3,5,6,7,9,11,13,15,17,18,19,21,23,24,25,27,29]#create a list of image numbers you want to use for a particular video\n",
        "    while True:\n",
        "        t = np.random.permutation(folder_list)\n",
        "        num_batches = len(source_path)//batch_size # calculate the number of batches\n",
        "        for batch in range(num_batches): # we iterate over the number of batches\n",
        "            batch_data = np.zeros((batch_size,18,100,100,3)) # x is the number of images you use for each video, (y,z) is the final size of the input images and 3 is the number of channels RGB\n",
        "            batch_labels = np.zeros((batch_size,5)) # batch_labels is the one hot representation of the output\n",
        "            for folder in range(batch_size): # iterate over the batch_size\n",
        "                imgs = os.listdir(source_path+'/'+ t[folder + (batch*batch_size)].split(';')[0]) # read all the images in the folder\n",
        "                for idx,item in enumerate(img_idx): #  Iterate iver the frames/images of a folder to read them in\n",
        "                    image = imageio.imread(source_path+'/'+ t[folder + (batch*batch_size)].strip().split(';')[0]+'/'+imgs[item]).astype(np.float32)\n",
        "                    \n",
        "                    \n",
        "                     #resize  \n",
        "                    image_resized = cropAndResize(image,100,100)\n",
        "                \n",
        "                    \n",
        "                    \n",
        "                    #crop the images and resize them. Note that the images are of 2 different shape \n",
        "                    #and the conv3D will throw error if the inputs in a batch have different shapes\n",
        "                    \n",
        "                    batch_data[folder,idx,:,:,0] = (image_resized[:,:,0])/255        #normalise and feed in the image\n",
        "                    batch_data[folder,idx,:,:,1] = (image_resized[:,:,1])/255        #normalise and feed in the image\n",
        "                    batch_data[folder,idx,:,:,2] = (image_resized[:,:,2])/255        #normalise and feed in the image\n",
        "                    \n",
        "                batch_labels[folder, int(t[folder + (batch*batch_size)].strip().split(';')[2])] = 1\n",
        "            yield batch_data, batch_labels #you yield the batch_data and the batch_labels, remember what does yield do\n",
        "\n",
        "        \n",
        "        # write the code for the remaining data points which are left after full batches\n",
        "        if((len(source_path)%batch_size)//2==0):\n",
        "            batch_size = 2\n",
        "        else:\n",
        "            batch_size = 1\n",
        "        num_batches = len(source_path)%batch_size # calculate the number of batches\n",
        "        for batch in range(num_batches): # we iterate over the number of batches\n",
        "            batch_data = np.zeros((batch_size,18,100,100,3)) # x is the number of images you use for each video, (y,z) is the final size of the input images and 3 is the number of channels RGB\n",
        "            batch_labels = np.zeros((batch_size,5)) # batch_labels is the one hot representation of the output\n",
        "            for folder in range(batch_size): # iterate over the batch_size\n",
        "                imgs = os.listdir(source_path+'/'+ t[folder + (batch*batch_size)].split(';')[0]) # read all the images in the folder\n",
        "                for idx,item in enumerate(img_idx): #  Iterate iver the frames/images of a folder to read them in\n",
        "                    image = imageio.imread(source_path+'/'+ t[folder + (batch*batch_size)].strip().split(';')[0]+'/'+imgs[item]).astype(np.float32)\n",
        "                    \n",
        "                    \n",
        "                    \n",
        "                    # Cropped image\n",
        "                    image_resized = cropAndResize(image,100,100)\n",
        "                    \n",
        "                    #crop the images and resize them. Note that the images are of 2 different shape \n",
        "                    #and the conv3D will throw error if the inputs in a batch have different shapes\n",
        "                    batch_data[folder,idx,:,:,0] = (image_resized[:,:,0])/255        #normalise and feed in the image\n",
        "                    batch_data[folder,idx,:,:,1] = (image_resized[:,:,1])/255        #normalise and feed in the image\n",
        "                    batch_data[folder,idx,:,:,2] = (image_resized[:,:,2])/255        #normalise and feed in the image\n",
        "                    \n",
        "                    \n",
        "                batch_labels[folder, int(t[folder + (batch*batch_size)].strip().split(';')[2])] = 1\n",
        "            yield batch_data, batch_labels #you yield the batch_data and the batch_labels, remember what does yield do\n"
      ]
    },
    {
      "cell_type": "code",
      "execution_count": null,
      "metadata": {
        "id": "H0w7TjX8jdkK"
      },
      "outputs": [],
      "source": [
        "# Creating fuction for plotting results in graph\n",
        "from matplotlib import pyplot as plt\n",
        "def plot(history):\n",
        "    fig, axes = plt.subplots(nrows=1, ncols=2, figsize=(15,4))\n",
        "    axes[0].plot(history.history['loss'])   \n",
        "    axes[0].plot(history.history['val_loss'])\n",
        "    axes[0].legend(['loss','val_loss'])\n",
        "\n",
        "    axes[1].plot(history.history['categorical_accuracy'])   \n",
        "    axes[1].plot(history.history['val_categorical_accuracy'])\n",
        "    axes[1].legend(['categorical_accuracy','val_categorical_accuracy'])"
      ]
    },
    {
      "cell_type": "code",
      "execution_count": null,
      "metadata": {
        "id": "lYd9DGkiWe3f",
        "outputId": "d3028622-4854-487a-c293-fb2e1f345289"
      },
      "outputs": [
        {
          "name": "stdout",
          "output_type": "stream",
          "text": [
            "# training sequences = 663\n",
            "# validation sequences = 100\n",
            "# epochs = 100\n"
          ]
        }
      ],
      "source": [
        "curr_dt_time = datetime.datetime.now()\n",
        "train_path = 'datasets/Project_data/train'\n",
        "val_path = 'datasets/Project_data/val'\n",
        "num_train_sequences = len(train_doc)\n",
        "print('# training sequences =', num_train_sequences)\n",
        "num_val_sequences = len(val_doc)\n",
        "print('# validation sequences =', num_val_sequences)\n",
        "num_epochs = 100 # choose the number of epochs\n",
        "print ('# epochs =', num_epochs)"
      ]
    },
    {
      "cell_type": "code",
      "execution_count": null,
      "metadata": {
        "id": "9VQEdZSjWe51",
        "outputId": "b8ff0832-dcb8-46d4-d716-923a83dc00c2"
      },
      "outputs": [
        {
          "name": "stdout",
          "output_type": "stream",
          "text": [
            "WARNING:tensorflow:`input_shape` is undefined or non-square, or `rows` is not in [128, 160, 192, 224]. Weights for input shape (224, 224) will be loaded as the default.\n"
          ]
        },
        {
          "name": "stderr",
          "output_type": "stream",
          "text": [
            "2022-05-25 08:49:25.737237: W tensorflow/core/common_runtime/gpu/gpu_bfc_allocator.cc:39] Overriding allow_growth setting because the TF_FORCE_GPU_ALLOW_GROWTH environment variable is set. Original config value was 0.\n",
            "2022-05-25 08:49:25.737304: I tensorflow/core/common_runtime/gpu/gpu_device.cc:1525] Created device /job:localhost/replica:0/task:0/device:GPU:0 with 14803 MB memory:  -> device: 0, name: Quadro RTX 5000, pci bus id: 0000:1c:00.0, compute capability: 7.5\n"
          ]
        }
      ],
      "source": [
        "from keras.models import Sequential, Model\n",
        "from keras.layers import Dense, GRU, Flatten, TimeDistributed, Flatten, BatchNormalization, Activation,Dropout,GlobalAveragePooling3D,LSTM,GlobalAveragePooling2D\n",
        "from keras.layers.convolutional import Conv3D, MaxPooling3D,Conv2D,MaxPooling2D\n",
        "from keras.callbacks import ModelCheckpoint, ReduceLROnPlateau,EarlyStopping\n",
        "from keras import optimizers\n",
        "img_idx =  [1,3,5,6,7,9,11,13,15,17,18,19,21,23,24,25,27,29]\n",
        "input_shape = (len(img_idx), 100, 100, 3)\n",
        "np.random.seed(30)\n",
        "\n",
        "#write your model here\n",
        "from keras.applications import mobilenet\n",
        "\n",
        "mobilenet_transfer = mobilenet.MobileNet(weights='imagenet', include_top=False)\n",
        "\n",
        "model = Sequential()\n",
        "model.add(TimeDistributed(mobilenet_transfer,input_shape=input_shape))\n",
        " \n",
        "model.add(TimeDistributed(BatchNormalization()))\n",
        "model.add(TimeDistributed(MaxPooling2D((2, 2))))\n",
        "model.add(TimeDistributed(Flatten()))\n",
        "\n",
        "model.add(GRU(128))\n",
        "model.add(Dropout(0.25))\n",
        "        \n",
        "model.add(Dense(128,activation='elu'))\n",
        "model.add(Dropout(0.25))\n",
        "        \n",
        "model.add(Dense(5, activation='softmax'))"
      ]
    },
    {
      "cell_type": "code",
      "execution_count": null,
      "metadata": {
        "id": "aY1t-1JkWe9S",
        "outputId": "30b96665-59bc-46e0-fe8f-9c068bb25f55"
      },
      "outputs": [
        {
          "name": "stdout",
          "output_type": "stream",
          "text": [
            "Model: \"sequential\"\n",
            "_________________________________________________________________\n",
            " Layer (type)                Output Shape              Param #   \n",
            "=================================================================\n",
            " time_distributed (TimeDistr  (None, 18, 3, 3, 1024)   3228864   \n",
            " ibuted)                                                         \n",
            "                                                                 \n",
            " time_distributed_1 (TimeDis  (None, 18, 3, 3, 1024)   4096      \n",
            " tributed)                                                       \n",
            "                                                                 \n",
            " time_distributed_2 (TimeDis  (None, 18, 1, 1, 1024)   0         \n",
            " tributed)                                                       \n",
            "                                                                 \n",
            " time_distributed_3 (TimeDis  (None, 18, 1024)         0         \n",
            " tributed)                                                       \n",
            "                                                                 \n",
            " gru (GRU)                   (None, 128)               443136    \n",
            "                                                                 \n",
            " dropout (Dropout)           (None, 128)               0         \n",
            "                                                                 \n",
            " dense (Dense)               (None, 128)               16512     \n",
            "                                                                 \n",
            " dropout_1 (Dropout)         (None, 128)               0         \n",
            "                                                                 \n",
            " dense_1 (Dense)             (None, 5)                 645       \n",
            "                                                                 \n",
            "=================================================================\n",
            "Total params: 3,693,253\n",
            "Trainable params: 3,669,317\n",
            "Non-trainable params: 23,936\n",
            "_________________________________________________________________\n",
            "None\n"
          ]
        }
      ],
      "source": [
        "optimiser =tf.keras.optimizers.Adam() #write your optimizer\n",
        "model.compile(optimizer=optimiser, loss='categorical_crossentropy', metrics=['categorical_accuracy'])\n",
        "print (model.summary())"
      ]
    },
    {
      "cell_type": "code",
      "execution_count": null,
      "metadata": {
        "id": "rfrl7DPTWfAL"
      },
      "outputs": [],
      "source": [
        "train_generator = generator(train_path, train_doc, batch_size)\n",
        "val_generator = generator(val_path, val_doc, batch_size)"
      ]
    },
    {
      "cell_type": "code",
      "execution_count": null,
      "metadata": {
        "id": "71BpxhS_WuW6"
      },
      "outputs": [],
      "source": [
        "model_name = 'model_init' + '_' + str(curr_dt_time).replace(' ','').replace(':','_') + '/'\n",
        "    \n",
        "if not os.path.exists(model_name):\n",
        "    os.mkdir(model_name)\n",
        "        \n",
        "filepath = model_name + 'model-{epoch:05d}-{loss:.5f}-{categorical_accuracy:.5f}-{val_loss:.5f}-{val_categorical_accuracy:.5f}.h5'\n",
        "\n",
        "checkpoint = ModelCheckpoint(filepath, monitor='val_loss', verbose=1, save_best_only=True, save_weights_only=False, mode='auto', save_freq='epoch')\n",
        "\n",
        "LR =ReduceLROnPlateau(monitor='val_loss', factor=0.2, verbose=1, patience=4) # write the REducelronplateau code here\n",
        "earlystop = EarlyStopping( monitor=\"val_loss\", min_delta=0,patience=10,verbose=1)\n",
        "callbacks_list = [checkpoint, LR, earlystop]"
      ]
    },
    {
      "cell_type": "code",
      "execution_count": null,
      "metadata": {
        "id": "CqpKf-8iWuZ7"
      },
      "outputs": [],
      "source": [
        "if (num_train_sequences%batch_size) == 0:\n",
        "    steps_per_epoch = int(num_train_sequences/batch_size)\n",
        "else:\n",
        "    steps_per_epoch = (num_train_sequences//batch_size) + 1\n",
        "\n",
        "if (num_val_sequences%batch_size) == 0:\n",
        "    validation_steps = int(num_val_sequences/batch_size)\n",
        "else:\n",
        "    validation_steps = (num_val_sequences//batch_size) + 1"
      ]
    },
    {
      "cell_type": "code",
      "execution_count": null,
      "metadata": {
        "id": "-j_IrRY2Wuf4",
        "outputId": "661d7649-faef-40ee-b245-7abccd44d414"
      },
      "outputs": [
        {
          "name": "stdout",
          "output_type": "stream",
          "text": [
            "Source path =  datasets/Project_data/train ; batch size = 40\n"
          ]
        },
        {
          "name": "stderr",
          "output_type": "stream",
          "text": [
            "/tmp/ipykernel_900/1787904139.py:1: UserWarning: `Model.fit_generator` is deprecated and will be removed in a future version. Please use `Model.fit`, which supports generators.\n",
            "  history=model.fit_generator(train_generator, steps_per_epoch=steps_per_epoch, epochs=num_epochs, verbose=1,\n"
          ]
        },
        {
          "name": "stdout",
          "output_type": "stream",
          "text": [
            "Epoch 1/100\n"
          ]
        },
        {
          "name": "stderr",
          "output_type": "stream",
          "text": [
            "2022-05-25 08:49:31.832681: I tensorflow/stream_executor/cuda/cuda_dnn.cc:377] Loaded cuDNN version 8302\n"
          ]
        },
        {
          "name": "stdout",
          "output_type": "stream",
          "text": [
            "17/17 [==============================] - ETA: 0s - loss: 2.5562 - categorical_accuracy: 0.1765Source path =  datasets/Project_data/val ; batch size = 40\n",
            "\n",
            "Epoch 00001: val_loss improved from inf to 1.60399, saving model to model_init_2022-05-2508_49_23.992298/model-00001-2.55620-0.17647-1.60399-0.33333.h5\n",
            "17/17 [==============================] - 11s 252ms/step - loss: 2.5562 - categorical_accuracy: 0.1765 - val_loss: 1.6040 - val_categorical_accuracy: 0.3333 - lr: 0.0010\n",
            "Epoch 2/100\n",
            "17/17 [==============================] - ETA: 0s - loss: 1.5929 - categorical_accuracy: 0.4167\n",
            "Epoch 00002: val_loss improved from 1.60399 to 1.24759, saving model to model_init_2022-05-2508_49_23.992298/model-00002-1.59287-0.41667-1.24759-0.66667.h5\n",
            "17/17 [==============================] - 4s 228ms/step - loss: 1.5929 - categorical_accuracy: 0.4167 - val_loss: 1.2476 - val_categorical_accuracy: 0.6667 - lr: 0.0010\n",
            "Epoch 3/100\n",
            "17/17 [==============================] - ETA: 0s - loss: 1.3364 - categorical_accuracy: 0.4412\n",
            "Epoch 00003: val_loss improved from 1.24759 to 0.60642, saving model to model_init_2022-05-2508_49_23.992298/model-00003-1.33639-0.44118-0.60642-1.00000.h5\n",
            "17/17 [==============================] - 5s 294ms/step - loss: 1.3364 - categorical_accuracy: 0.4412 - val_loss: 0.6064 - val_categorical_accuracy: 1.0000 - lr: 0.0010\n",
            "Epoch 4/100\n",
            "17/17 [==============================] - ETA: 0s - loss: 1.2694 - categorical_accuracy: 0.4706\n",
            "Epoch 00004: val_loss did not improve from 0.60642\n",
            "17/17 [==============================] - 5s 282ms/step - loss: 1.2694 - categorical_accuracy: 0.4706 - val_loss: 0.6915 - val_categorical_accuracy: 0.6667 - lr: 0.0010\n",
            "Epoch 5/100\n",
            "17/17 [==============================] - ETA: 0s - loss: 1.0068 - categorical_accuracy: 0.7059\n",
            "Epoch 00005: val_loss did not improve from 0.60642\n",
            "17/17 [==============================] - 5s 322ms/step - loss: 1.0068 - categorical_accuracy: 0.7059 - val_loss: 1.4792 - val_categorical_accuracy: 0.6667 - lr: 0.0010\n",
            "Epoch 6/100\n",
            "17/17 [==============================] - ETA: 0s - loss: 1.2929 - categorical_accuracy: 0.4412\n",
            "Epoch 00006: val_loss did not improve from 0.60642\n",
            "17/17 [==============================] - 4s 277ms/step - loss: 1.2929 - categorical_accuracy: 0.4412 - val_loss: 1.1918 - val_categorical_accuracy: 0.6667 - lr: 0.0010\n",
            "Epoch 7/100\n",
            "17/17 [==============================] - ETA: 0s - loss: 0.9871 - categorical_accuracy: 0.7059\n",
            "Epoch 00007: val_loss did not improve from 0.60642\n",
            "\n",
            "Epoch 00007: ReduceLROnPlateau reducing learning rate to 0.00020000000949949026.\n",
            "17/17 [==============================] - 5s 294ms/step - loss: 0.9871 - categorical_accuracy: 0.7059 - val_loss: 0.9147 - val_categorical_accuracy: 0.6000 - lr: 0.0010\n",
            "Epoch 8/100\n",
            "17/17 [==============================] - ETA: 0s - loss: 1.1571 - categorical_accuracy: 0.6176\n",
            "Epoch 00008: val_loss did not improve from 0.60642\n",
            "17/17 [==============================] - 5s 285ms/step - loss: 1.1571 - categorical_accuracy: 0.6176 - val_loss: 0.7237 - val_categorical_accuracy: 0.6667 - lr: 2.0000e-04\n",
            "Epoch 9/100\n",
            "17/17 [==============================] - ETA: 0s - loss: 0.8821 - categorical_accuracy: 0.7059\n",
            "Epoch 00009: val_loss did not improve from 0.60642\n",
            "17/17 [==============================] - 5s 309ms/step - loss: 0.8821 - categorical_accuracy: 0.7059 - val_loss: 1.0250 - val_categorical_accuracy: 0.6667 - lr: 2.0000e-04\n",
            "Epoch 10/100\n",
            "17/17 [==============================] - ETA: 0s - loss: 0.6879 - categorical_accuracy: 0.7647\n",
            "Epoch 00010: val_loss did not improve from 0.60642\n",
            "17/17 [==============================] - 5s 301ms/step - loss: 0.6879 - categorical_accuracy: 0.7647 - val_loss: 0.7590 - val_categorical_accuracy: 0.6667 - lr: 2.0000e-04\n",
            "Epoch 11/100\n",
            "17/17 [==============================] - ETA: 0s - loss: 1.1002 - categorical_accuracy: 0.6471\n",
            "Epoch 00011: val_loss did not improve from 0.60642\n",
            "\n",
            "Epoch 00011: ReduceLROnPlateau reducing learning rate to 4.0000001899898055e-05.\n",
            "17/17 [==============================] - 5s 280ms/step - loss: 1.1002 - categorical_accuracy: 0.6471 - val_loss: 1.2498 - val_categorical_accuracy: 0.5000 - lr: 2.0000e-04\n",
            "Epoch 12/100\n",
            "17/17 [==============================] - ETA: 0s - loss: 0.9723 - categorical_accuracy: 0.6176\n",
            "Epoch 00012: val_loss improved from 0.60642 to 0.29288, saving model to model_init_2022-05-2508_49_23.992298/model-00012-0.97233-0.61765-0.29288-0.83333.h5\n",
            "17/17 [==============================] - 6s 386ms/step - loss: 0.9723 - categorical_accuracy: 0.6176 - val_loss: 0.2929 - val_categorical_accuracy: 0.8333 - lr: 4.0000e-05\n",
            "Epoch 13/100\n",
            "17/17 [==============================] - ETA: 0s - loss: 0.7392 - categorical_accuracy: 0.6765\n",
            "Epoch 00013: val_loss did not improve from 0.29288\n",
            "17/17 [==============================] - 5s 326ms/step - loss: 0.7392 - categorical_accuracy: 0.6765 - val_loss: 0.5475 - val_categorical_accuracy: 0.8333 - lr: 4.0000e-05\n",
            "Epoch 14/100\n",
            "17/17 [==============================] - ETA: 0s - loss: 0.6904 - categorical_accuracy: 0.7353\n",
            "Epoch 00014: val_loss did not improve from 0.29288\n",
            "17/17 [==============================] - 4s 277ms/step - loss: 0.6904 - categorical_accuracy: 0.7353 - val_loss: 0.4469 - val_categorical_accuracy: 0.8333 - lr: 4.0000e-05\n",
            "Epoch 15/100\n",
            "17/17 [==============================] - ETA: 0s - loss: 0.7357 - categorical_accuracy: 0.6765\n",
            "Epoch 00015: val_loss did not improve from 0.29288\n",
            "17/17 [==============================] - 6s 366ms/step - loss: 0.7357 - categorical_accuracy: 0.6765 - val_loss: 0.6961 - val_categorical_accuracy: 0.8333 - lr: 4.0000e-05\n",
            "Epoch 16/100\n",
            "17/17 [==============================] - ETA: 0s - loss: 0.6023 - categorical_accuracy: 0.8235\n",
            "Epoch 00016: val_loss did not improve from 0.29288\n",
            "\n",
            "Epoch 00016: ReduceLROnPlateau reducing learning rate to 8.000000525498762e-06.\n",
            "17/17 [==============================] - 6s 388ms/step - loss: 0.6023 - categorical_accuracy: 0.8235 - val_loss: 1.0325 - val_categorical_accuracy: 0.8333 - lr: 4.0000e-05\n",
            "Epoch 17/100\n",
            "17/17 [==============================] - ETA: 0s - loss: 0.6308 - categorical_accuracy: 0.8235\n",
            "Epoch 00017: val_loss did not improve from 0.29288\n",
            "17/17 [==============================] - 5s 336ms/step - loss: 0.6308 - categorical_accuracy: 0.8235 - val_loss: 0.4331 - val_categorical_accuracy: 0.8333 - lr: 8.0000e-06\n",
            "Epoch 18/100\n",
            "17/17 [==============================] - ETA: 0s - loss: 0.6306 - categorical_accuracy: 0.7059\n",
            "Epoch 00018: val_loss did not improve from 0.29288\n",
            "17/17 [==============================] - 5s 332ms/step - loss: 0.6306 - categorical_accuracy: 0.7059 - val_loss: 0.9118 - val_categorical_accuracy: 0.6667 - lr: 8.0000e-06\n",
            "Epoch 19/100\n",
            "17/17 [==============================] - ETA: 0s - loss: 0.4288 - categorical_accuracy: 0.9412\n",
            "Epoch 00019: val_loss did not improve from 0.29288\n",
            "17/17 [==============================] - 6s 342ms/step - loss: 0.4288 - categorical_accuracy: 0.9412 - val_loss: 2.0533 - val_categorical_accuracy: 0.5000 - lr: 8.0000e-06\n",
            "Epoch 20/100\n",
            "17/17 [==============================] - ETA: 0s - loss: 0.6263 - categorical_accuracy: 0.8235\n",
            "Epoch 00020: val_loss did not improve from 0.29288\n",
            "\n",
            "Epoch 00020: ReduceLROnPlateau reducing learning rate to 1.6000001778593287e-06.\n",
            "17/17 [==============================] - 5s 336ms/step - loss: 0.6263 - categorical_accuracy: 0.8235 - val_loss: 0.3763 - val_categorical_accuracy: 1.0000 - lr: 8.0000e-06\n",
            "Epoch 21/100\n",
            "17/17 [==============================] - ETA: 0s - loss: 0.9849 - categorical_accuracy: 0.6176\n",
            "Epoch 00021: val_loss did not improve from 0.29288\n",
            "17/17 [==============================] - 6s 365ms/step - loss: 0.9849 - categorical_accuracy: 0.6176 - val_loss: 0.4958 - val_categorical_accuracy: 0.8333 - lr: 1.6000e-06\n",
            "Epoch 22/100\n",
            "17/17 [==============================] - ETA: 0s - loss: 0.4939 - categorical_accuracy: 0.8235\n",
            "Epoch 00022: val_loss did not improve from 0.29288\n",
            "17/17 [==============================] - 6s 355ms/step - loss: 0.4939 - categorical_accuracy: 0.8235 - val_loss: 0.3458 - val_categorical_accuracy: 0.8333 - lr: 1.6000e-06\n",
            "Epoch 00022: early stopping\n"
          ]
        }
      ],
      "source": [
        "history=model.fit_generator(train_generator, steps_per_epoch=steps_per_epoch, epochs=num_epochs, verbose=1, \n",
        "                    callbacks=callbacks_list, validation_data=val_generator, \n",
        "                    validation_steps=validation_steps, class_weight=None, workers=1, initial_epoch=0)"
      ]
    },
    {
      "cell_type": "code",
      "execution_count": null,
      "metadata": {
        "id": "htnfcHzaWujS",
        "outputId": "5d5a982e-7af9-4f5d-e683-63f08191d0e6"
      },
      "outputs": [
        {
          "data": {
            "image/png": "[encoded data removed]",
            "text/plain": [
              "<Figure size 1080x288 with 2 Axes>"
            ]
          },
          "metadata": {
            "needs_background": "light"
          },
          "output_type": "display_data"
        }
      ],
      "source": [
        "plot(history)"
      ]
    },
    {
      "cell_type": "code",
      "execution_count": null,
      "metadata": {
        "id": "dzWfRmKiWume"
      },
      "outputs": [],
      "source": [
        ""
      ]
    },
    {
      "cell_type": "code",
      "execution_count": null,
      "metadata": {
        "id": "fe8m37FAWuqL"
      },
      "outputs": [],
      "source": [
        ""
      ]
    },
    {
      "cell_type": "code",
      "execution_count": null,
      "metadata": {
        "id": "7T9NWd1SWusZ"
      },
      "outputs": [],
      "source": [
        ""
      ]
    }
  ],
  "metadata": {
    "colab": {
      "name": "Model11.ipynb",
      "provenance": []
    },
    "kernelspec": {
      "display_name": "Python 3 (ipykernel)",
      "language": "python",
      "name": "python3"
    },
    "language_info": {
      "codemirror_mode": {
        "name": "ipython",
        "version": 3
      },
      "file_extension": ".py",
      "mimetype": "text/x-python",
      "name": "python",
      "nbconvert_exporter": "python",
      "pygments_lexer": "ipython3",
      "version": "3.8.10"
    }
  },
  "nbformat": 4,
  "nbformat_minor": 0
}