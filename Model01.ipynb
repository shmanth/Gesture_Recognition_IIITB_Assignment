{
  "cells": [
    {
      "cell_type": "code",
      "execution_count": null,
      "metadata": {
        "id": "wDQ5bMGjWdSo"
      },
      "outputs": [],
      "source": [
        "#importing libraries\n",
        "import numpy as np\n",
        "import os\n",
        "import imageio \n",
        "from PIL import Image\n",
        "from skimage.transform import resize\n",
        "import datetime\n",
        "import os"
      ]
    },
    {
      "cell_type": "code",
      "execution_count": null,
      "metadata": {
        "id": "QgGqRXjRWew1"
      },
      "outputs": [],
      "source": [
        "np.random.seed(30)\n",
        "import random as rn\n",
        "rn.seed(30)\n",
        "from keras import backend as K\n",
        "import tensorflow as tf\n",
        "tf.random.set_seed(30)"
      ]
    },
    {
      "cell_type": "code",
      "execution_count": null,
      "metadata": {
        "id": "p2tJk8ffWey7"
      },
      "outputs": [],
      "source": [
        "train_doc = np.random.permutation(open('datasets/Project_data/train.csv').readlines())\n",
        "val_doc = np.random.permutation(open('datasets/Project_data/val.csv').readlines())\n",
        "batch_size = 50"
      ]
    },
    {
      "cell_type": "code",
      "execution_count": null,
      "metadata": {
        "id": "aHTa-nZ__-13"
      },
      "outputs": [],
      "source": [
        "# Defining function for Cropping and Resizing the images\n",
        "def cropAndResize(image,HEIGHT_DIMENSION,WIDTH_DIMENSION):\n",
        "    #The images are of 2 different shape and the Model will throw error if the inputs in a batch have different shapes.\n",
        "    # Cropping images\n",
        "    if abs(image.shape[0]-image.shape[1])%2==0 and image.shape[0]!=image.shape[1]:\n",
        "        dimension_diff=abs(image.shape[0]-image.shape[1])\n",
        "        cropping_ratio=dimension_diff//2\n",
        "        if image.shape[0]>image.shape[1]:\n",
        "            image=image[cropping_ratio:image.shape[0]-cropping_ratio,:,:]\n",
        "        elif image.shape[0]<image.shape[1]:\n",
        "            image=image[:,cropping_ratio:image.shape[1]-cropping_ratio,:]\n",
        "                    \n",
        "    # Resizing images\n",
        "    if image.shape[0]>130 or image.shape[1]>130:\n",
        "        image=resize(image, (130, 130))\n",
        "    return image"
      ]
    },
    {
      "cell_type": "code",
      "execution_count": null,
      "metadata": {
        "id": "Lk2HPPunWe1L"
      },
      "outputs": [],
      "source": [
        "def generator(source_path, folder_list, batch_size):\n",
        "    print( 'Source path = ', source_path, '; batch size =', batch_size)\n",
        "    img_idx = [0,1,2,3,4,5,6,7,8,9,10,11,12,13,14,15,16,17,18,19,20,21,22,23,24,25,26,27,28,29]#create a list of image numbers you want to use for a particular video\n",
        "    while True:\n",
        "        t = np.random.permutation(folder_list)\n",
        "        num_batches = len(source_path)//batch_size # calculate the number of batches\n",
        "        for batch in range(num_batches): # we iterate over the number of batches\n",
        "            batch_data = np.zeros((batch_size,30,130,130,3)) # x is the number of images you use for each video, (y,z) is the final size of the input images and 3 is the number of channels RGB\n",
        "            batch_labels = np.zeros((batch_size,5)) # batch_labels is the one hot representation of the output\n",
        "            for folder in range(batch_size): # iterate over the batch_size\n",
        "                imgs = os.listdir(source_path+'/'+ t[folder + (batch*batch_size)].split(';')[0]) # read all the images in the folder\n",
        "                for idx,item in enumerate(img_idx): #  Iterate iver the frames/images of a folder to read them in\n",
        "                    image = imageio.imread(source_path+'/'+ t[folder + (batch*batch_size)].strip().split(';')[0]+'/'+imgs[item]).astype(np.float32)\n",
        "   \n",
        "                    #Cropping and Resize images  \n",
        "                    image_resized = cropAndResize(image,130,130)\n",
        "                  \n",
        "                    batch_data[folder,idx,:,:,0] /= 255\n",
        "                    batch_data[folder,idx,:,:,1] /= 255 #normalise and feed in the image\n",
        "                    batch_data[folder,idx,:,:,2] /= 255 #normalise and feed in the image\n",
        "                    \n",
        "                batch_labels[folder, int(t[folder + (batch*batch_size)].strip().split(';')[2])] = 1\n",
        "            yield batch_data, batch_labels #you yield the batch_data and the batch_labels, remember what does yield do\n",
        "\n",
        "        \n",
        "        # write the code for the remaining data points which are left after full batches\n",
        "        if((len(source_path)%batch_size)//2==0):\n",
        "            batch_size = 2\n",
        "        else:\n",
        "            batch_size = 1\n",
        "        num_batches = len(source_path)%batch_size # calculate the number of batches\n",
        "        for batch in range(num_batches): # we iterate over the number of batches\n",
        "            batch_data = np.zeros((batch_size,30,130,130,3)) # x is the number of images you use for each video, (y,z) is the final size of the input images and 3 is the number of channels RGB\n",
        "            batch_labels = np.zeros((batch_size,5)) # batch_labels is the one hot representation of the output\n",
        "            for folder in range(batch_size): # iterate over the batch_size\n",
        "                imgs = os.listdir(source_path+'/'+ t[folder + (batch*batch_size)].split(';')[0]) # read all the images in the folder\n",
        "                for idx,item in enumerate(img_idx): #  Iterate iver the frames/images of a folder to read them in\n",
        "                    image = imageio.imread(source_path+'/'+ t[folder + (batch*batch_size)].strip().split(';')[0]+'/'+imgs[item]).astype(np.float32)\n",
        "                  \n",
        "                    # Cropping and Resizing image\n",
        "                    image_resized = cropAndResize(image,130,130)\n",
        "                    \n",
        "                    batch_data[folder,idx,:,:,0] /= 255\n",
        "                    batch_data[folder,idx,:,:,1] /= 255 #normalise and feed in the image\n",
        "                    batch_data[folder,idx,:,:,2] /= 255 #normalise and feed in the image\n",
        "                    \n",
        "                batch_labels[folder, int(t[folder + (batch*batch_size)].strip().split(';')[2])] = 1\n",
        "            yield batch_data, batch_labels #you yield the batch_data and the batch_labels, remember what does yield do\n"
      ]
    },
    {
      "cell_type": "code",
      "execution_count": null,
      "metadata": {
        "id": "lYd9DGkiWe3f",
        "outputId": "83ce0224-e1ef-418e-9141-7924f99969e4"
      },
      "outputs": [
        {
          "name": "stdout",
          "output_type": "stream",
          "text": [
            "# training sequences = 663\n",
            "# validation sequences = 100\n",
            "# epochs = 25\n"
          ]
        }
      ],
      "source": [
        "curr_dt_time = datetime.datetime.now()\n",
        "train_path = 'datasets/Project_data/train'\n",
        "val_path = 'datasets/Project_data/val'\n",
        "num_train_sequences = len(train_doc)\n",
        "print('# training sequences =', num_train_sequences)\n",
        "num_val_sequences = len(val_doc)\n",
        "print('# validation sequences =', num_val_sequences)\n",
        "num_epochs = 25 # choose the number of epochs\n",
        "print ('# epochs =', num_epochs)"
      ]
    },
    {
      "cell_type": "code",
      "execution_count": null,
      "metadata": {
        "id": "9VQEdZSjWe51",
        "outputId": "e8e6cda8-9c9b-4198-b408-81b3ca2f4996"
      },
      "outputs": [
        {
          "name": "stderr",
          "output_type": "stream",
          "text": [
            "2022-05-25 12:28:33.698992: W tensorflow/core/common_runtime/gpu/gpu_bfc_allocator.cc:39] Overriding allow_growth setting because the TF_FORCE_GPU_ALLOW_GROWTH environment variable is set. Original config value was 0.\n",
            "2022-05-25 12:28:33.699049: I tensorflow/core/common_runtime/gpu/gpu_device.cc:1525] Created device /job:localhost/replica:0/task:0/device:GPU:0 with 10446 MB memory:  -> device: 0, name: Quadro RTX 5000, pci bus id: 0000:1d:00.0, compute capability: 7.5\n"
          ]
        }
      ],
      "source": [
        "from keras.models import Sequential, Model\n",
        "from keras.layers import Dense, GRU, Flatten, TimeDistributed, Flatten, BatchNormalization, Activation, Dropout\n",
        "from keras.layers.convolutional import Conv3D, MaxPooling3D\n",
        "from keras.callbacks import ModelCheckpoint, ReduceLROnPlateau\n",
        "from keras import optimizers\n",
        "\n",
        "#write your model here\n",
        "Input_shape = (30, 130, 130, 3)\n",
        "model = Sequential()\n",
        "model.add(Conv3D(32, (3,3,3), padding='same',\n",
        "                 input_shape=Input_shape))\n",
        "#model.add(Conv3D(32, kernel_size=(3, 3, 3), activation='relu', kernel_initializer='he_uniform', input_shape=sample_shape))\n",
        "model.add(Activation('relu'))\n",
        "model.add(BatchNormalization())\n",
        "model.add(Conv3D(32, (3, 3,3)))\n",
        "model.add(Activation('relu'))\n",
        "model.add(BatchNormalization())\n",
        "model.add(MaxPooling3D(pool_size=(2, 2,2)))\n",
        "model.add(Dropout(0.25))\n",
        "\n",
        "model.add(Conv3D(64, (3, 3,3), padding='same'))\n",
        "model.add(Activation('relu'))\n",
        "model.add(BatchNormalization())\n",
        "model.add(Conv3D(64, (3, 3,3)))\n",
        "model.add(Activation('relu'))\n",
        "model.add(BatchNormalization())\n",
        "model.add(MaxPooling3D(pool_size=(2, 2,2)))\n",
        "model.add(Dropout(0.25))\n",
        "model.add(Flatten())\n",
        "model.add(Dense(512))\n",
        "model.add(Activation('relu'))\n",
        "model.add(Dropout(0.25))\n",
        "model.add(Dense(5))\n",
        "model.add(Activation('softmax'))"
      ]
    },
    {
      "cell_type": "code",
      "execution_count": null,
      "metadata": {
        "id": "aY1t-1JkWe9S",
        "outputId": "3ec1519b-8f48-4c23-a280-f863cdeacefc"
      },
      "outputs": [
        {
          "name": "stderr",
          "output_type": "stream",
          "text": [
            "/usr/local/lib/python3.8/dist-packages/keras/optimizer_v2/adam.py:105: UserWarning: The `lr` argument is deprecated, use `learning_rate` instead.\n",
            "  super(Adam, self).__init__(name, **kwargs)\n"
          ]
        },
        {
          "name": "stdout",
          "output_type": "stream",
          "text": [
            "Model: \"sequential\"\n",
            "_________________________________________________________________\n",
            " Layer (type)                Output Shape              Param #   \n",
            "=================================================================\n",
            " conv3d (Conv3D)             (None, 30, 130, 130, 32)  2624      \n",
            "                                                                 \n",
            " activation (Activation)     (None, 30, 130, 130, 32)  0         \n",
            "                                                                 \n",
            " batch_normalization (BatchN  (None, 30, 130, 130, 32)  128      \n",
            " ormalization)                                                   \n",
            "                                                                 \n",
            " conv3d_1 (Conv3D)           (None, 28, 128, 128, 32)  27680     \n",
            "                                                                 \n",
            " activation_1 (Activation)   (None, 28, 128, 128, 32)  0         \n",
            "                                                                 \n",
            " batch_normalization_1 (Batc  (None, 28, 128, 128, 32)  128      \n",
            " hNormalization)                                                 \n",
            "                                                                 \n",
            " max_pooling3d (MaxPooling3D  (None, 14, 64, 64, 32)   0         \n",
            " )                                                               \n",
            "                                                                 \n",
            " dropout (Dropout)           (None, 14, 64, 64, 32)    0         \n",
            "                                                                 \n",
            " conv3d_2 (Conv3D)           (None, 14, 64, 64, 64)    55360     \n",
            "                                                                 \n",
            " activation_2 (Activation)   (None, 14, 64, 64, 64)    0         \n",
            "                                                                 \n",
            " batch_normalization_2 (Batc  (None, 14, 64, 64, 64)   256       \n",
            " hNormalization)                                                 \n",
            "                                                                 \n",
            " conv3d_3 (Conv3D)           (None, 12, 62, 62, 64)    110656    \n",
            "                                                                 \n",
            " activation_3 (Activation)   (None, 12, 62, 62, 64)    0         \n",
            "                                                                 \n",
            " batch_normalization_3 (Batc  (None, 12, 62, 62, 64)   256       \n",
            " hNormalization)                                                 \n",
            "                                                                 \n",
            " max_pooling3d_1 (MaxPooling  (None, 6, 31, 31, 64)    0         \n",
            " 3D)                                                             \n",
            "                                                                 \n",
            " dropout_1 (Dropout)         (None, 6, 31, 31, 64)     0         \n",
            "                                                                 \n",
            " flatten (Flatten)           (None, 369024)            0         \n",
            "                                                                 \n",
            " dense (Dense)               (None, 512)               188940800 \n",
            "                                                                 \n",
            " activation_4 (Activation)   (None, 512)               0         \n",
            "                                                                 \n",
            " dropout_2 (Dropout)         (None, 512)               0         \n",
            "                                                                 \n",
            " dense_1 (Dense)             (None, 5)                 2565      \n",
            "                                                                 \n",
            " activation_5 (Activation)   (None, 5)                 0         \n",
            "                                                                 \n",
            "=================================================================\n",
            "Total params: 189,140,453\n",
            "Trainable params: 189,140,069\n",
            "Non-trainable params: 384\n",
            "_________________________________________________________________\n",
            "None\n"
          ]
        }
      ],
      "source": [
        "optimiser =tf.keras.optimizers.Adam(lr=0.001)\n",
        "model.compile(optimizer=optimiser, loss='categorical_crossentropy', metrics=['categorical_accuracy'])\n",
        "print (model.summary())"
      ]
    },
    {
      "cell_type": "code",
      "execution_count": null,
      "metadata": {
        "id": "rfrl7DPTWfAL"
      },
      "outputs": [],
      "source": [
        "train_generator = generator(train_path, train_doc, batch_size)\n",
        "val_generator = generator(val_path, val_doc, batch_size)"
      ]
    },
    {
      "cell_type": "code",
      "execution_count": null,
      "metadata": {
        "id": "71BpxhS_WuW6",
        "outputId": "f923dcc0-c677-4bc2-b8c9-0ca4579be0b9"
      },
      "outputs": [
        {
          "name": "stdout",
          "output_type": "stream",
          "text": [
            "WARNING:tensorflow:`period` argument is deprecated. Please use `save_freq` to specify the frequency in number of batches seen.\n",
            "WARNING:tensorflow:`epsilon` argument is deprecated and will be removed, use `min_delta` instead.\n"
          ]
        }
      ],
      "source": [
        "model_name = 'Gesture_recog' + '_' + str(curr_dt_time).replace(' ','').replace(':','_') + '/'\n",
        "    \n",
        "if not os.path.exists(model_name):\n",
        "    os.mkdir(model_name)\n",
        "        \n",
        "filepath = model_name + 'model-{epoch:05d}-{loss:.5f}-{categorical_accuracy:.5f}-{val_loss:.5f}-{val_categorical_accuracy:.5f}.h5'\n",
        "\n",
        "checkpoint = ModelCheckpoint(filepath, monitor='val_loss', verbose=1, save_best_only=False, save_weights_only=False, mode='auto', period=1)\n",
        "\n",
        "LR = ReduceLROnPlateau(monitor = \"val_loss\", factor = 0.1, patience = 10,\n",
        "  verbose = 0, mode = \"auto\", epsilon = 1e-04, cooldown = 0,\n",
        "  min_lr = 0)\n",
        "callbacks_list = [checkpoint, LR]"
      ]
    },
    {
      "cell_type": "code",
      "execution_count": null,
      "metadata": {
        "id": "CqpKf-8iWuZ7"
      },
      "outputs": [],
      "source": [
        "if (num_train_sequences%batch_size) == 0:\n",
        "    steps_per_epoch = int(num_train_sequences/batch_size)\n",
        "else:\n",
        "    steps_per_epoch = (num_train_sequences//batch_size) + 1\n",
        "\n",
        "if (num_val_sequences%batch_size) == 0:\n",
        "    validation_steps = int(num_val_sequences/batch_size)\n",
        "else:\n",
        "    validation_steps = (num_val_sequences//batch_size) + 1"
      ]
    },
    {
      "cell_type": "code",
      "execution_count": null,
      "metadata": {
        "id": "-j_IrRY2Wuf4",
        "outputId": "8949b47a-2c41-4c41-ec81-01d64c3ee00d"
      },
      "outputs": [
        {
          "name": "stderr",
          "output_type": "stream",
          "text": [
            "/tmp/ipykernel_706/385748685.py:1: UserWarning: `Model.fit_generator` is deprecated and will be removed in a future version. Please use `Model.fit`, which supports generators.\n",
            "  model.fit_generator(train_generator, steps_per_epoch=steps_per_epoch, epochs=num_epochs, verbose=1,\n"
          ]
        },
        {
          "name": "stdout",
          "output_type": "stream",
          "text": [
            "Source path =  datasets/Project_data/train ; batch size = 50\n",
            "Epoch 1/25\n"
          ]
        },
        {
          "name": "stderr",
          "output_type": "stream",
          "text": [
            "2022-05-25 12:28:36.080741: I tensorflow/stream_executor/cuda/cuda_dnn.cc:377] Loaded cuDNN version 8302\n"
          ]
        },
        {
          "name": "stdout",
          "output_type": "stream",
          "text": [
            "14/14 [==============================] - ETA: 0s - loss: 1.6096 - categorical_accuracy: 0.2857Source path =  datasets/Project_data/val ; batch size = 50\n",
            "\n",
            "Epoch 00001: saving model to Gesture_recog_2022-05-2512_28_32.945085/model-00001-1.60961-0.28571-1.61100-0.00000.h5\n",
            "14/14 [==============================] - 13s 609ms/step - loss: 1.6096 - categorical_accuracy: 0.2857 - val_loss: 1.6110 - val_categorical_accuracy: 0.0000e+00 - lr: 0.0010\n",
            "Epoch 2/25\n",
            "14/14 [==============================] - ETA: 0s - loss: 1.6067 - categorical_accuracy: 0.2667\n",
            "Epoch 00002: saving model to Gesture_recog_2022-05-2512_28_32.945085/model-00002-1.60671-0.26667-1.61588-0.00000.h5\n",
            "14/14 [==============================] - 9s 702ms/step - loss: 1.6067 - categorical_accuracy: 0.2667 - val_loss: 1.6159 - val_categorical_accuracy: 0.0000e+00 - lr: 0.0010\n",
            "Epoch 3/25\n",
            "14/14 [==============================] - ETA: 0s - loss: 1.6100 - categorical_accuracy: 0.2143\n",
            "Epoch 00003: saving model to Gesture_recog_2022-05-2512_28_32.945085/model-00003-1.60997-0.21429-1.61000-0.00000.h5\n",
            "14/14 [==============================] - 11s 701ms/step - loss: 1.6100 - categorical_accuracy: 0.2143 - val_loss: 1.6100 - val_categorical_accuracy: 0.0000e+00 - lr: 0.0010\n",
            "Epoch 4/25\n",
            "14/14 [==============================] - ETA: 0s - loss: 1.6119 - categorical_accuracy: 0.0357\n",
            "Epoch 00004: saving model to Gesture_recog_2022-05-2512_28_32.945085/model-00004-1.61194-0.03571-1.60567-0.00000.h5\n",
            "14/14 [==============================] - 11s 796ms/step - loss: 1.6119 - categorical_accuracy: 0.0357 - val_loss: 1.6057 - val_categorical_accuracy: 0.0000e+00 - lr: 0.0010\n",
            "Epoch 5/25\n",
            "14/14 [==============================] - ETA: 0s - loss: 1.6061 - categorical_accuracy: 0.2500\n",
            "Epoch 00005: saving model to Gesture_recog_2022-05-2512_28_32.945085/model-00005-1.60606-0.25000-1.60032-0.00000.h5\n",
            "14/14 [==============================] - 8s 609ms/step - loss: 1.6061 - categorical_accuracy: 0.2500 - val_loss: 1.6003 - val_categorical_accuracy: 0.0000e+00 - lr: 0.0010\n",
            "Epoch 6/25\n",
            "14/14 [==============================] - ETA: 0s - loss: 1.6143 - categorical_accuracy: 0.1429\n",
            "Epoch 00006: saving model to Gesture_recog_2022-05-2512_28_32.945085/model-00006-1.61431-0.14286-1.60360-0.50000.h5\n",
            "14/14 [==============================] - 9s 709ms/step - loss: 1.6143 - categorical_accuracy: 0.1429 - val_loss: 1.6036 - val_categorical_accuracy: 0.5000 - lr: 0.0010\n",
            "Epoch 7/25\n",
            "14/14 [==============================] - ETA: 0s - loss: 1.6109 - categorical_accuracy: 0.1786\n",
            "Epoch 00007: saving model to Gesture_recog_2022-05-2512_28_32.945085/model-00007-1.61092-0.17857-1.61198-0.00000.h5\n",
            "14/14 [==============================] - 8s 571ms/step - loss: 1.6109 - categorical_accuracy: 0.1786 - val_loss: 1.6120 - val_categorical_accuracy: 0.0000e+00 - lr: 0.0010\n",
            "Epoch 8/25\n",
            "14/14 [==============================] - ETA: 0s - loss: 1.6099 - categorical_accuracy: 0.2143\n",
            "Epoch 00008: saving model to Gesture_recog_2022-05-2512_28_32.945085/model-00008-1.60991-0.21429-1.60339-0.50000.h5\n",
            "14/14 [==============================] - 8s 635ms/step - loss: 1.6099 - categorical_accuracy: 0.2143 - val_loss: 1.6034 - val_categorical_accuracy: 0.5000 - lr: 0.0010\n",
            "Epoch 9/25\n",
            "14/14 [==============================] - ETA: 0s - loss: 1.6081 - categorical_accuracy: 0.2143\n",
            "Epoch 00009: saving model to Gesture_recog_2022-05-2512_28_32.945085/model-00009-1.60810-0.21429-1.60892-0.33333.h5\n",
            "14/14 [==============================] - 9s 687ms/step - loss: 1.6081 - categorical_accuracy: 0.2143 - val_loss: 1.6089 - val_categorical_accuracy: 0.3333 - lr: 0.0010\n",
            "Epoch 10/25\n",
            "14/14 [==============================] - ETA: 0s - loss: 1.6073 - categorical_accuracy: 0.2500\n",
            "Epoch 00010: saving model to Gesture_recog_2022-05-2512_28_32.945085/model-00010-1.60728-0.25000-1.60154-0.50000.h5\n",
            "14/14 [==============================] - 9s 708ms/step - loss: 1.6073 - categorical_accuracy: 0.2500 - val_loss: 1.6015 - val_categorical_accuracy: 0.5000 - lr: 0.0010\n",
            "Epoch 11/25\n",
            "14/14 [==============================] - ETA: 0s - loss: 1.6092 - categorical_accuracy: 0.1071\n",
            "Epoch 00011: saving model to Gesture_recog_2022-05-2512_28_32.945085/model-00011-1.60923-0.10714-1.61027-0.25000.h5\n",
            "14/14 [==============================] - 9s 700ms/step - loss: 1.6092 - categorical_accuracy: 0.1071 - val_loss: 1.6103 - val_categorical_accuracy: 0.2500 - lr: 0.0010\n",
            "Epoch 12/25\n",
            "14/14 [==============================] - ETA: 0s - loss: 1.6125 - categorical_accuracy: 0.1429\n",
            "Epoch 00012: saving model to Gesture_recog_2022-05-2512_28_32.945085/model-00012-1.61252-0.14286-1.61662-0.25000.h5\n",
            "14/14 [==============================] - 10s 784ms/step - loss: 1.6125 - categorical_accuracy: 0.1429 - val_loss: 1.6166 - val_categorical_accuracy: 0.2500 - lr: 0.0010\n",
            "Epoch 13/25\n",
            "14/14 [==============================] - ETA: 0s - loss: 1.6104 - categorical_accuracy: 0.1786\n",
            "Epoch 00013: saving model to Gesture_recog_2022-05-2512_28_32.945085/model-00013-1.61037-0.17857-1.61520-0.25000.h5\n",
            "14/14 [==============================] - 9s 705ms/step - loss: 1.6104 - categorical_accuracy: 0.1786 - val_loss: 1.6152 - val_categorical_accuracy: 0.2500 - lr: 0.0010\n",
            "Epoch 14/25\n",
            "14/14 [==============================] - ETA: 0s - loss: 1.6086 - categorical_accuracy: 0.3214\n",
            "Epoch 00014: saving model to Gesture_recog_2022-05-2512_28_32.945085/model-00014-1.60864-0.32143-1.61658-0.00000.h5\n",
            "14/14 [==============================] - 11s 827ms/step - loss: 1.6086 - categorical_accuracy: 0.3214 - val_loss: 1.6166 - val_categorical_accuracy: 0.0000e+00 - lr: 0.0010\n",
            "Epoch 15/25\n",
            "14/14 [==============================] - ETA: 0s - loss: 1.6075 - categorical_accuracy: 0.1786\n",
            "Epoch 00015: saving model to Gesture_recog_2022-05-2512_28_32.945085/model-00015-1.60754-0.17857-1.60605-0.25000.h5\n",
            "14/14 [==============================] - 10s 747ms/step - loss: 1.6075 - categorical_accuracy: 0.1786 - val_loss: 1.6060 - val_categorical_accuracy: 0.2500 - lr: 0.0010\n",
            "Epoch 16/25\n",
            "14/14 [==============================] - ETA: 0s - loss: 1.6087 - categorical_accuracy: 0.1071\n",
            "Epoch 00016: saving model to Gesture_recog_2022-05-2512_28_32.945085/model-00016-1.60866-0.10714-1.60783-0.25000.h5\n",
            "14/14 [==============================] - 11s 797ms/step - loss: 1.6087 - categorical_accuracy: 0.1071 - val_loss: 1.6078 - val_categorical_accuracy: 0.2500 - lr: 1.0000e-04\n",
            "Epoch 17/25\n",
            "14/14 [==============================] - ETA: 0s - loss: 1.6097 - categorical_accuracy: 0.1786\n",
            "Epoch 00017: saving model to Gesture_recog_2022-05-2512_28_32.945085/model-00017-1.60968-0.17857-1.60396-0.50000.h5\n",
            "14/14 [==============================] - 9s 681ms/step - loss: 1.6097 - categorical_accuracy: 0.1786 - val_loss: 1.6040 - val_categorical_accuracy: 0.5000 - lr: 1.0000e-04\n",
            "Epoch 18/25\n",
            "14/14 [==============================] - ETA: 0s - loss: 1.6058 - categorical_accuracy: 0.3214\n",
            "Epoch 00018: saving model to Gesture_recog_2022-05-2512_28_32.945085/model-00018-1.60577-0.32143-1.61172-0.25000.h5\n",
            "14/14 [==============================] - 9s 697ms/step - loss: 1.6058 - categorical_accuracy: 0.3214 - val_loss: 1.6117 - val_categorical_accuracy: 0.2500 - lr: 1.0000e-04\n",
            "Epoch 19/25\n",
            "14/14 [==============================] - ETA: 0s - loss: 1.6096 - categorical_accuracy: 0.2143\n",
            "Epoch 00019: saving model to Gesture_recog_2022-05-2512_28_32.945085/model-00019-1.60962-0.21429-1.61261-0.00000.h5\n",
            "14/14 [==============================] - 9s 689ms/step - loss: 1.6096 - categorical_accuracy: 0.2143 - val_loss: 1.6126 - val_categorical_accuracy: 0.0000e+00 - lr: 1.0000e-04\n",
            "Epoch 20/25\n",
            "14/14 [==============================] - ETA: 0s - loss: 1.6079 - categorical_accuracy: 0.1429\n",
            "Epoch 00020: saving model to Gesture_recog_2022-05-2512_28_32.945085/model-00020-1.60795-0.14286-1.59763-0.50000.h5\n",
            "14/14 [==============================] - 8s 607ms/step - loss: 1.6079 - categorical_accuracy: 0.1429 - val_loss: 1.5976 - val_categorical_accuracy: 0.5000 - lr: 1.0000e-04\n",
            "Epoch 21/25\n",
            "14/14 [==============================] - ETA: 0s - loss: 1.6040 - categorical_accuracy: 0.3214\n",
            "Epoch 00021: saving model to Gesture_recog_2022-05-2512_28_32.945085/model-00021-1.60396-0.32143-1.61565-0.00000.h5\n",
            "14/14 [==============================] - 11s 800ms/step - loss: 1.6040 - categorical_accuracy: 0.3214 - val_loss: 1.6157 - val_categorical_accuracy: 0.0000e+00 - lr: 1.0000e-04\n",
            "Epoch 22/25\n",
            "14/14 [==============================] - ETA: 0s - loss: 1.6063 - categorical_accuracy: 0.2500\n",
            "Epoch 00022: saving model to Gesture_recog_2022-05-2512_28_32.945085/model-00022-1.60632-0.25000-1.60690-0.50000.h5\n",
            "14/14 [==============================] - 10s 776ms/step - loss: 1.6063 - categorical_accuracy: 0.2500 - val_loss: 1.6069 - val_categorical_accuracy: 0.5000 - lr: 1.0000e-04\n",
            "Epoch 23/25\n",
            "14/14 [==============================] - ETA: 0s - loss: 1.6076 - categorical_accuracy: 0.2143\n",
            "Epoch 00023: saving model to Gesture_recog_2022-05-2512_28_32.945085/model-00023-1.60756-0.21429-1.60279-0.25000.h5\n",
            "14/14 [==============================] - 10s 788ms/step - loss: 1.6076 - categorical_accuracy: 0.2143 - val_loss: 1.6028 - val_categorical_accuracy: 0.2500 - lr: 1.0000e-04\n",
            "Epoch 24/25\n",
            "14/14 [==============================] - ETA: 0s - loss: 1.6059 - categorical_accuracy: 0.2500\n",
            "Epoch 00024: saving model to Gesture_recog_2022-05-2512_28_32.945085/model-00024-1.60592-0.25000-1.61279-0.00000.h5\n",
            "14/14 [==============================] - 10s 723ms/step - loss: 1.6059 - categorical_accuracy: 0.2500 - val_loss: 1.6128 - val_categorical_accuracy: 0.0000e+00 - lr: 1.0000e-04\n",
            "Epoch 25/25\n",
            "14/14 [==============================] - ETA: 0s - loss: 1.6077 - categorical_accuracy: 0.2143\n",
            "Epoch 00025: saving model to Gesture_recog_2022-05-2512_28_32.945085/model-00025-1.60770-0.21429-1.62000-0.00000.h5\n",
            "14/14 [==============================] - 10s 743ms/step - loss: 1.6077 - categorical_accuracy: 0.2143 - val_loss: 1.6200 - val_categorical_accuracy: 0.0000e+00 - lr: 1.0000e-04\n"
          ]
        },
        {
          "data": {
            "text/plain": [
              "<keras.callbacks.History at 0x7f0ce42043d0>"
            ]
          },
          "execution_count": 12,
          "metadata": {},
          "output_type": "execute_result"
        }
      ],
      "source": [
        "model.fit_generator(train_generator, steps_per_epoch=steps_per_epoch, epochs=num_epochs, verbose=1, \n",
        "                    callbacks=callbacks_list, validation_data=val_generator, \n",
        "                    validation_steps=validation_steps, class_weight=None, workers=1, initial_epoch=0)"
      ]
    },
    {
      "cell_type": "code",
      "execution_count": null,
      "metadata": {
        "id": "htnfcHzaWujS"
      },
      "outputs": [],
      "source": [
        ""
      ]
    },
    {
      "cell_type": "code",
      "execution_count": null,
      "metadata": {
        "id": "dzWfRmKiWume"
      },
      "outputs": [],
      "source": [
        ""
      ]
    },
    {
      "cell_type": "code",
      "execution_count": null,
      "metadata": {
        "id": "fe8m37FAWuqL"
      },
      "outputs": [],
      "source": [
        ""
      ]
    },
    {
      "cell_type": "code",
      "execution_count": null,
      "metadata": {
        "id": "7T9NWd1SWusZ"
      },
      "outputs": [],
      "source": [
        ""
      ]
    }
  ],
  "metadata": {
    "colab": {
      "collapsed_sections": [],
      "name": "Model01.ipynb",
      "provenance": []
    },
    "kernelspec": {
      "display_name": "Python 3 (ipykernel)",
      "language": "python",
      "name": "python3"
    },
    "language_info": {
      "codemirror_mode": {
        "name": "ipython",
        "version": 3
      },
      "file_extension": ".py",
      "mimetype": "text/x-python",
      "name": "python",
      "nbconvert_exporter": "python",
      "pygments_lexer": "ipython3",
      "version": "3.8.10"
    }
  },
  "nbformat": 4,
  "nbformat_minor": 0
}