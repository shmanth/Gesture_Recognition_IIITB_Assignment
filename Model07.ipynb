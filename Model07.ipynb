{
  "cells": [
    {
      "cell_type": "code",
      "execution_count": null,
      "metadata": {
        "id": "wDQ5bMGjWdSo"
      },
      "outputs": [],
      "source": [
        "#Importing libraries\n",
        "import numpy as np\n",
        "import os\n",
        "import imageio \n",
        "from PIL import Image\n",
        "from skimage.transform import resize\n",
        "import datetime\n",
        "import os"
      ]
    },
    {
      "cell_type": "code",
      "execution_count": null,
      "metadata": {
        "id": "QgGqRXjRWew1"
      },
      "outputs": [],
      "source": [
        "np.random.seed(30)\n",
        "import random as rn\n",
        "rn.seed(30)\n",
        "from keras import backend as K\n",
        "import tensorflow as tf\n",
        "tf.random.set_seed(30)"
      ]
    },
    {
      "cell_type": "markdown",
      "source": [
        "Loading Data"
      ],
      "metadata": {
        "id": "kukcuA9C2-QW"
      }
    },
    {
      "cell_type": "code",
      "execution_count": null,
      "metadata": {
        "id": "p2tJk8ffWey7"
      },
      "outputs": [],
      "source": [
        "train_doc = np.random.permutation(open('datasets/Project_data/train.csv').readlines())\n",
        "val_doc = np.random.permutation(open('datasets/Project_data/val.csv').readlines())\n",
        "batch_size = 64"
      ]
    },
    {
      "cell_type": "code",
      "execution_count": null,
      "metadata": {
        "id": "Lk2HPPunWe1L"
      },
      "outputs": [],
      "source": [
        "def generator(source_path, folder_list, batch_size):\n",
        "    print( 'Source path = ', source_path, '; batch size =', batch_size)\n",
        "    img_idx = [1,3,5,6,7,9,11,13,15,17,18,19,21,23,24,25,27,29]#create a list of image numbers you want to use for a particular video\n",
        "    while True:\n",
        "        t = np.random.permutation(folder_list)\n",
        "        num_batches = len(source_path)//batch_size # calculate the number of batches\n",
        "        for batch in range(num_batches): # we iterate over the number of batches\n",
        "            batch_data = np.zeros((batch_size,18,100,100,3)) # x is the number of images you use for each video, (y,z) is the final size of the input images and 3 is the number of channels RGB\n",
        "            batch_labels = np.zeros((batch_size,5)) # batch_labels is the one hot representation of the output\n",
        "            for folder in range(batch_size): # iterate over the batch_size\n",
        "                imgs = os.listdir(source_path+'/'+ t[folder + (batch*batch_size)].split(';')[0]) # read all the images in the folder\n",
        "                for idx,item in enumerate(img_idx): #  Iterate iver the frames/images of a folder to read them in\n",
        "                    image = imageio.imread(source_path+'/'+ t[folder + (batch*batch_size)].strip().split(';')[0]+'/'+imgs[item]).astype(np.float32)\n",
        "                    \n",
        "                    \n",
        "                    \n",
        "                    # Cropped image\n",
        "                    if image.shape[1] < 400:\n",
        "                        image = resize(image[:,20:140,:],(100,100)).astype(np.float32)\n",
        "                    else:\n",
        "                        image = resize(image,(100,100)).astype(np.float32)\n",
        "                \n",
        "                    \n",
        "                    \n",
        "                    #crop the images and resize them. Note that the images are of 2 different shape \n",
        "                    #and the conv3D will throw error if the inputs in a batch have different shapes\n",
        "                    \n",
        "                    batch_data[folder,idx,:,:,0] /= 255\n",
        "                    batch_data[folder,idx,:,:,1] /= 255 #normalise and feed in the image\n",
        "                    batch_data[folder,idx,:,:,2] /= 255 #normalise and feed in the image\n",
        "                    \n",
        "                batch_labels[folder, int(t[folder + (batch*batch_size)].strip().split(';')[2])] = 1\n",
        "            yield batch_data, batch_labels #you yield the batch_data and the batch_labels, remember what does yield do\n",
        "\n",
        "        \n",
        "        # write the code for the remaining data points which are left after full batches\n",
        "        if((len(source_path)%batch_size)//2==0):\n",
        "            batch_size = 2\n",
        "        else:\n",
        "            batch_size = 1\n",
        "        num_batches = len(source_path)%batch_size # calculate the number of batches\n",
        "        for batch in range(num_batches): # we iterate over the number of batches\n",
        "            batch_data = np.zeros((batch_size,18,100,100,3)) # x is the number of images you use for each video, (y,z) is the final size of the input images and 3 is the number of channels RGB\n",
        "            batch_labels = np.zeros((batch_size,5)) # batch_labels is the one hot representation of the output\n",
        "            for folder in range(batch_size): # iterate over the batch_size\n",
        "                imgs = os.listdir(source_path+'/'+ t[folder + (batch*batch_size)].split(';')[0]) # read all the images in the folder\n",
        "                for idx,item in enumerate(img_idx): #  Iterate iver the frames/images of a folder to read them in\n",
        "                    image = imageio.imread(source_path+'/'+ t[folder + (batch*batch_size)].strip().split(';')[0]+'/'+imgs[item]).astype(np.float32)\n",
        "                    \n",
        "                    \n",
        "                    \n",
        "                    # Cropped image\n",
        "                    if image.shape[1] < 400:\n",
        "                        image = resize(image[:,20:140,:],(100,100)).astype(np.float32)\n",
        "                    else:\n",
        "                        image = resize(image,(100,100)).astype(np.float32)\n",
        "                    \n",
        "                    #crop the images and resize them. Note that the images are of 2 different shape \n",
        "                    #and the conv3D will throw error if the inputs in a batch have different shapes\n",
        "                    \n",
        "                    batch_data[folder,idx,:,:,0] /= 255\n",
        "                    batch_data[folder,idx,:,:,1] /= 255 #normalise and feed in the image\n",
        "                    batch_data[folder,idx,:,:,2] /= 255 #normalise and feed in the image\n",
        "                    \n",
        "                batch_labels[folder, int(t[folder + (batch*batch_size)].strip().split(';')[2])] = 1\n",
        "            yield batch_data, batch_labels #you yield the batch_data and the batch_labels, remember what does yield do\n"
      ]
    },
    {
      "cell_type": "code",
      "execution_count": null,
      "metadata": {
        "id": "lYd9DGkiWe3f",
        "outputId": "d3028622-4854-487a-c293-fb2e1f345289"
      },
      "outputs": [
        {
          "name": "stdout",
          "output_type": "stream",
          "text": [
            "# training sequences = 663\n",
            "# validation sequences = 100\n",
            "# epochs = 15\n"
          ]
        }
      ],
      "source": [
        "curr_dt_time = datetime.datetime.now()\n",
        "train_path = 'datasets/Project_data/train'\n",
        "val_path = 'datasets/Project_data/val'\n",
        "num_train_sequences = len(train_doc)\n",
        "print('# training sequences =', num_train_sequences)\n",
        "num_val_sequences = len(val_doc)\n",
        "print('# validation sequences =', num_val_sequences)\n",
        "num_epochs = 15 # choose the number of epochs\n",
        "print ('# epochs =', num_epochs)"
      ]
    },
    {
      "cell_type": "markdown",
      "source": [
        "Model 7:batch_size = 64,num_epochs = 15"
      ],
      "metadata": {
        "id": "cOUu8XiX3DOw"
      }
    },
    {
      "cell_type": "code",
      "execution_count": null,
      "metadata": {
        "id": "9VQEdZSjWe51",
        "outputId": "b8ff0832-dcb8-46d4-d716-923a83dc00c2"
      },
      "outputs": [
        {
          "name": "stderr",
          "output_type": "stream",
          "text": [
            "2022-05-25 06:26:33.180829: W tensorflow/core/common_runtime/gpu/gpu_bfc_allocator.cc:39] Overriding allow_growth setting because the TF_FORCE_GPU_ALLOW_GROWTH environment variable is set. Original config value was 0.\n",
            "2022-05-25 06:26:33.180885: I tensorflow/core/common_runtime/gpu/gpu_device.cc:1525] Created device /job:localhost/replica:0/task:0/device:GPU:0 with 14803 MB memory:  -> device: 0, name: Quadro RTX 5000, pci bus id: 0000:1c:00.0, compute capability: 7.5\n"
          ]
        }
      ],
      "source": [
        "from keras.models import Sequential, Model\n",
        "from keras.layers import Dense, GRU, Flatten, TimeDistributed, Flatten, BatchNormalization, Activation, Dropout\n",
        "from keras.layers.convolutional import Conv3D, MaxPooling3D\n",
        "from keras.callbacks import ModelCheckpoint, ReduceLROnPlateau\n",
        "from keras import optimizers\n",
        "\n",
        "#write your model here\n",
        "Input_shape = (18, 100, 100, 3)\n",
        "model = Sequential()\n",
        "model.add(Conv3D(64, (3,3,3), padding='same',\n",
        "                 input_shape=Input_shape))\n",
        "model.add(Activation('elu'))\n",
        "model.add(MaxPooling3D(pool_size=(2, 2,2)))\n",
        "\n",
        "model.add(Conv3D(128, (3, 3,3),padding=\"same\"))\n",
        "model.add(BatchNormalization())\n",
        "model.add(Activation('elu'))\n",
        "model.add(MaxPooling3D(pool_size=(2, 2,2)))\n",
        "\n",
        "model.add(Conv3D(256, (3, 3,3), padding='same'))\n",
        "model.add(Activation('elu'))\n",
        "model.add(BatchNormalization())\n",
        "model.add(MaxPooling3D(pool_size=(2, 2,2)))\n",
        "\n",
        "model.add(Conv3D(256, (3, 3,3),padding=\"same\"))\n",
        "model.add(Activation('elu'))\n",
        "model.add(BatchNormalization())\n",
        "\n",
        "model.add(Flatten())\n",
        "model.add(Dense(512))\n",
        "model.add(Activation('elu'))\n",
        "model.add(Dense(5))\n",
        "model.add(Dropout(0.2))\n",
        "model.add(Activation('softmax'))"
      ]
    },
    {
      "cell_type": "code",
      "execution_count": null,
      "metadata": {
        "id": "aY1t-1JkWe9S",
        "outputId": "30b96665-59bc-46e0-fe8f-9c068bb25f55"
      },
      "outputs": [
        {
          "name": "stdout",
          "output_type": "stream",
          "text": [
            "Model: \"sequential\"\n",
            "_________________________________________________________________\n",
            " Layer (type)                Output Shape              Param #   \n",
            "=================================================================\n",
            " conv3d (Conv3D)             (None, 18, 100, 100, 64)  5248      \n",
            "                                                                 \n",
            " activation (Activation)     (None, 18, 100, 100, 64)  0         \n",
            "                                                                 \n",
            " max_pooling3d (MaxPooling3D  (None, 9, 50, 50, 64)    0         \n",
            " )                                                               \n",
            "                                                                 \n",
            " conv3d_1 (Conv3D)           (None, 9, 50, 50, 128)    221312    \n",
            "                                                                 \n",
            " batch_normalization (BatchN  (None, 9, 50, 50, 128)   512       \n",
            " ormalization)                                                   \n",
            "                                                                 \n",
            " activation_1 (Activation)   (None, 9, 50, 50, 128)    0         \n",
            "                                                                 \n",
            " max_pooling3d_1 (MaxPooling  (None, 4, 25, 25, 128)   0         \n",
            " 3D)                                                             \n",
            "                                                                 \n",
            " conv3d_2 (Conv3D)           (None, 4, 25, 25, 256)    884992    \n",
            "                                                                 \n",
            " activation_2 (Activation)   (None, 4, 25, 25, 256)    0         \n",
            "                                                                 \n",
            " batch_normalization_1 (Batc  (None, 4, 25, 25, 256)   1024      \n",
            " hNormalization)                                                 \n",
            "                                                                 \n",
            " max_pooling3d_2 (MaxPooling  (None, 2, 12, 12, 256)   0         \n",
            " 3D)                                                             \n",
            "                                                                 \n",
            " conv3d_3 (Conv3D)           (None, 2, 12, 12, 256)    1769728   \n",
            "                                                                 \n",
            " activation_3 (Activation)   (None, 2, 12, 12, 256)    0         \n",
            "                                                                 \n",
            " batch_normalization_2 (Batc  (None, 2, 12, 12, 256)   1024      \n",
            " hNormalization)                                                 \n",
            "                                                                 \n",
            " flatten (Flatten)           (None, 73728)             0         \n",
            "                                                                 \n",
            " dropout (Dropout)           (None, 73728)             0         \n",
            "                                                                 \n",
            " dense (Dense)               (None, 512)               37749248  \n",
            "                                                                 \n",
            " activation_4 (Activation)   (None, 512)               0         \n",
            "                                                                 \n",
            " dense_1 (Dense)             (None, 5)                 2565      \n",
            "                                                                 \n",
            " dropout_1 (Dropout)         (None, 5)                 0         \n",
            "                                                                 \n",
            " activation_5 (Activation)   (None, 5)                 0         \n",
            "                                                                 \n",
            "=================================================================\n",
            "Total params: 40,635,653\n",
            "Trainable params: 40,634,373\n",
            "Non-trainable params: 1,280\n",
            "_________________________________________________________________\n",
            "None\n"
          ]
        },
        {
          "name": "stderr",
          "output_type": "stream",
          "text": [
            "/usr/local/lib/python3.8/dist-packages/keras/optimizer_v2/adam.py:105: UserWarning: The `lr` argument is deprecated, use `learning_rate` instead.\n",
            "  super(Adam, self).__init__(name, **kwargs)\n"
          ]
        }
      ],
      "source": [
        "optimiser =tf.keras.optimizers.Adam(lr=0.001)\n",
        "model.compile(optimizer=optimiser, loss='categorical_crossentropy', metrics=['categorical_accuracy'])\n",
        "print (model.summary())"
      ]
    },
    {
      "cell_type": "code",
      "execution_count": null,
      "metadata": {
        "id": "rfrl7DPTWfAL"
      },
      "outputs": [],
      "source": [
        "train_generator = generator(train_path, train_doc, batch_size)\n",
        "val_generator = generator(val_path, val_doc, batch_size)"
      ]
    },
    {
      "cell_type": "code",
      "execution_count": null,
      "metadata": {
        "id": "71BpxhS_WuW6",
        "outputId": "6310cbe8-1eee-40ad-e6a6-f663d1b4030d"
      },
      "outputs": [
        {
          "name": "stdout",
          "output_type": "stream",
          "text": [
            "WARNING:tensorflow:`period` argument is deprecated. Please use `save_freq` to specify the frequency in number of batches seen.\n",
            "WARNING:tensorflow:`epsilon` argument is deprecated and will be removed, use `min_delta` instead.\n"
          ]
        }
      ],
      "source": [
        "model_name = 'Gesture_recog' + '_' + str(curr_dt_time).replace(' ','').replace(':','_') + '/'\n",
        "    \n",
        "if not os.path.exists(model_name):\n",
        "    os.mkdir(model_name)\n",
        "        \n",
        "filepath = model_name + 'model-{epoch:05d}-{loss:.5f}-{categorical_accuracy:.5f}-{val_loss:.5f}-{val_categorical_accuracy:.5f}.h5'\n",
        "\n",
        "checkpoint = ModelCheckpoint(filepath, monitor='val_loss', verbose=1, save_best_only=False, save_weights_only=False, mode='auto', period=1)\n",
        "\n",
        "LR = ReduceLROnPlateau(monitor = \"val_loss\", factor = 0.1, patience = 10,\n",
        "  verbose = 0, mode = \"auto\", epsilon = 1e-04, cooldown = 0,\n",
        "  min_lr = 0)\n",
        "callbacks_list = [checkpoint, LR]"
      ]
    },
    {
      "cell_type": "code",
      "execution_count": null,
      "metadata": {
        "id": "CqpKf-8iWuZ7"
      },
      "outputs": [],
      "source": [
        "if (num_train_sequences%batch_size) == 0:\n",
        "    steps_per_epoch = int(num_train_sequences/batch_size)\n",
        "else:\n",
        "    steps_per_epoch = (num_train_sequences//batch_size) + 1\n",
        "\n",
        "if (num_val_sequences%batch_size) == 0:\n",
        "    validation_steps = int(num_val_sequences/batch_size)\n",
        "else:\n",
        "    validation_steps = (num_val_sequences//batch_size) + 1"
      ]
    },
    {
      "cell_type": "code",
      "execution_count": null,
      "metadata": {
        "id": "-j_IrRY2Wuf4",
        "outputId": "661d7649-faef-40ee-b245-7abccd44d414"
      },
      "outputs": [
        {
          "name": "stderr",
          "output_type": "stream",
          "text": [
            "/tmp/ipykernel_758/385748685.py:1: UserWarning: `Model.fit_generator` is deprecated and will be removed in a future version. Please use `Model.fit`, which supports generators.\n",
            "  model.fit_generator(train_generator, steps_per_epoch=steps_per_epoch, epochs=num_epochs, verbose=1,\n"
          ]
        },
        {
          "name": "stdout",
          "output_type": "stream",
          "text": [
            "Source path =  datasets/Project_data/train ; batch size = 64\n",
            "Epoch 1/15\n"
          ]
        },
        {
          "name": "stderr",
          "output_type": "stream",
          "text": [
            "2022-05-25 06:26:35.103287: I tensorflow/stream_executor/cuda/cuda_dnn.cc:377] Loaded cuDNN version 8302\n"
          ]
        },
        {
          "name": "stdout",
          "output_type": "stream",
          "text": [
            "11/11 [==============================] - ETA: 0s - loss: 111.0087 - categorical_accuracy: 0.1818Source path =  datasets/Project_data/val ; batch size = 64\n",
            "\n",
            "Epoch 00001: saving model to Gesture_recog_2022-05-2506_26_32.437199/model-00001-111.00869-0.18182-53.86306-0.50000.h5\n",
            "11/11 [==============================] - 6s 289ms/step - loss: 111.0087 - categorical_accuracy: 0.1818 - val_loss: 53.8631 - val_categorical_accuracy: 0.5000 - lr: 0.0010\n",
            "Epoch 2/15\n",
            "11/11 [==============================] - ETA: 0s - loss: 221.8987 - categorical_accuracy: 0.0000e+00\n",
            "Epoch 00002: saving model to Gesture_recog_2022-05-2506_26_32.437199/model-00002-221.89873-0.00000-265.22006-0.00000.h5\n",
            "11/11 [==============================] - 2s 242ms/step - loss: 221.8987 - categorical_accuracy: 0.0000e+00 - val_loss: 265.2201 - val_categorical_accuracy: 0.0000e+00 - lr: 0.0010\n",
            "Epoch 3/15\n",
            "11/11 [==============================] - ETA: 0s - loss: 257.9389 - categorical_accuracy: 0.1176\n",
            "Epoch 00003: saving model to Gesture_recog_2022-05-2506_26_32.437199/model-00003-257.93893-0.11765-64.31169-0.00000.h5\n",
            "11/11 [==============================] - 3s 329ms/step - loss: 257.9389 - categorical_accuracy: 0.1176 - val_loss: 64.3117 - val_categorical_accuracy: 0.0000e+00 - lr: 0.0010\n",
            "Epoch 4/15\n",
            "11/11 [==============================] - ETA: 0s - loss: 291.9749 - categorical_accuracy: 0.0455\n",
            "Epoch 00004: saving model to Gesture_recog_2022-05-2506_26_32.437199/model-00004-291.97485-0.04545-45.10567-0.50000.h5\n",
            "11/11 [==============================] - 4s 367ms/step - loss: 291.9749 - categorical_accuracy: 0.0455 - val_loss: 45.1057 - val_categorical_accuracy: 0.5000 - lr: 0.0010\n",
            "Epoch 5/15\n",
            "11/11 [==============================] - ETA: 0s - loss: 110.8732 - categorical_accuracy: 0.1818\n",
            "Epoch 00005: saving model to Gesture_recog_2022-05-2506_26_32.437199/model-00005-110.87322-0.18182-1.02969-0.00000.h5\n",
            "11/11 [==============================] - 4s 350ms/step - loss: 110.8732 - categorical_accuracy: 0.1818 - val_loss: 1.0297 - val_categorical_accuracy: 0.0000e+00 - lr: 0.0010\n",
            "Epoch 6/15\n",
            "11/11 [==============================] - ETA: 0s - loss: 3.1569 - categorical_accuracy: 0.1818\n",
            "Epoch 00006: saving model to Gesture_recog_2022-05-2506_26_32.437199/model-00006-3.15692-0.18182-2.71114-0.00000.h5\n",
            "11/11 [==============================] - 3s 341ms/step - loss: 3.1569 - categorical_accuracy: 0.1818 - val_loss: 2.7111 - val_categorical_accuracy: 0.0000e+00 - lr: 0.0010\n",
            "Epoch 7/15\n",
            "11/11 [==============================] - ETA: 0s - loss: 1.9393 - categorical_accuracy: 0.1364\n",
            "Epoch 00007: saving model to Gesture_recog_2022-05-2506_26_32.437199/model-00007-1.93931-0.13636-1.87212-0.00000.h5\n",
            "11/11 [==============================] - 3s 311ms/step - loss: 1.9393 - categorical_accuracy: 0.1364 - val_loss: 1.8721 - val_categorical_accuracy: 0.0000e+00 - lr: 0.0010\n",
            "Epoch 8/15\n",
            "11/11 [==============================] - ETA: 0s - loss: 1.9780 - categorical_accuracy: 0.1818\n",
            "Epoch 00008: saving model to Gesture_recog_2022-05-2506_26_32.437199/model-00008-1.97804-0.18182-2.38784-0.00000.h5\n",
            "11/11 [==============================] - 3s 293ms/step - loss: 1.9780 - categorical_accuracy: 0.1818 - val_loss: 2.3878 - val_categorical_accuracy: 0.0000e+00 - lr: 0.0010\n",
            "Epoch 9/15\n",
            "11/11 [==============================] - ETA: 0s - loss: 1.6418 - categorical_accuracy: 0.1818\n",
            "Epoch 00009: saving model to Gesture_recog_2022-05-2506_26_32.437199/model-00009-1.64182-0.18182-1.74309-0.00000.h5\n",
            "11/11 [==============================] - 3s 328ms/step - loss: 1.6418 - categorical_accuracy: 0.1818 - val_loss: 1.7431 - val_categorical_accuracy: 0.0000e+00 - lr: 0.0010\n",
            "Epoch 10/15\n",
            "11/11 [==============================] - ETA: 0s - loss: 1.6848 - categorical_accuracy: 0.1364\n",
            "Epoch 00010: saving model to Gesture_recog_2022-05-2506_26_32.437199/model-00010-1.68475-0.13636-2.09443-0.00000.h5\n",
            "11/11 [==============================] - 4s 389ms/step - loss: 1.6848 - categorical_accuracy: 0.1364 - val_loss: 2.0944 - val_categorical_accuracy: 0.0000e+00 - lr: 0.0010\n",
            "Epoch 11/15\n",
            "11/11 [==============================] - ETA: 0s - loss: 1.7526 - categorical_accuracy: 0.1818\n",
            "Epoch 00011: saving model to Gesture_recog_2022-05-2506_26_32.437199/model-00011-1.75260-0.18182-1.27930-0.75000.h5\n",
            "11/11 [==============================] - 4s 376ms/step - loss: 1.7526 - categorical_accuracy: 0.1818 - val_loss: 1.2793 - val_categorical_accuracy: 0.7500 - lr: 0.0010\n",
            "Epoch 12/15\n",
            "11/11 [==============================] - ETA: 0s - loss: 1.6951 - categorical_accuracy: 0.1364\n",
            "Epoch 00012: saving model to Gesture_recog_2022-05-2506_26_32.437199/model-00012-1.69514-0.13636-1.54747-0.00000.h5\n",
            "11/11 [==============================] - 4s 348ms/step - loss: 1.6951 - categorical_accuracy: 0.1364 - val_loss: 1.5475 - val_categorical_accuracy: 0.0000e+00 - lr: 0.0010\n",
            "Epoch 13/15\n",
            "11/11 [==============================] - ETA: 0s - loss: 1.6360 - categorical_accuracy: 0.2273\n",
            "Epoch 00013: saving model to Gesture_recog_2022-05-2506_26_32.437199/model-00013-1.63602-0.22727-1.57754-0.25000.h5\n",
            "11/11 [==============================] - 3s 334ms/step - loss: 1.6360 - categorical_accuracy: 0.2273 - val_loss: 1.5775 - val_categorical_accuracy: 0.2500 - lr: 0.0010\n",
            "Epoch 14/15\n",
            "11/11 [==============================] - ETA: 0s - loss: 1.5997 - categorical_accuracy: 0.3182\n",
            "Epoch 00014: saving model to Gesture_recog_2022-05-2506_26_32.437199/model-00014-1.59968-0.31818-1.79725-0.25000.h5\n",
            "11/11 [==============================] - 4s 409ms/step - loss: 1.5997 - categorical_accuracy: 0.3182 - val_loss: 1.7972 - val_categorical_accuracy: 0.2500 - lr: 0.0010\n",
            "Epoch 15/15\n",
            "11/11 [==============================] - ETA: 0s - loss: 1.7252 - categorical_accuracy: 0.2273\n",
            "Epoch 00015: saving model to Gesture_recog_2022-05-2506_26_32.437199/model-00015-1.72522-0.22727-1.31967-0.75000.h5\n",
            "11/11 [==============================] - 4s 408ms/step - loss: 1.7252 - categorical_accuracy: 0.2273 - val_loss: 1.3197 - val_categorical_accuracy: 0.7500 - lr: 0.0010\n"
          ]
        },
        {
          "data": {
            "text/plain": [
              "<keras.callbacks.History at 0x7f67b4130cd0>"
            ]
          },
          "execution_count": 11,
          "metadata": {},
          "output_type": "execute_result"
        }
      ],
      "source": [
        "model.fit_generator(train_generator, steps_per_epoch=steps_per_epoch, epochs=num_epochs, verbose=1, \n",
        "                    callbacks=callbacks_list, validation_data=val_generator, \n",
        "                    validation_steps=validation_steps, class_weight=None, workers=1, initial_epoch=0)"
      ]
    },
    {
      "cell_type": "code",
      "execution_count": null,
      "metadata": {
        "id": "htnfcHzaWujS"
      },
      "outputs": [],
      "source": [
        ""
      ]
    },
    {
      "cell_type": "code",
      "execution_count": null,
      "metadata": {
        "id": "dzWfRmKiWume"
      },
      "outputs": [],
      "source": [
        ""
      ]
    },
    {
      "cell_type": "code",
      "execution_count": null,
      "metadata": {
        "id": "fe8m37FAWuqL"
      },
      "outputs": [],
      "source": [
        ""
      ]
    },
    {
      "cell_type": "code",
      "execution_count": null,
      "metadata": {
        "id": "7T9NWd1SWusZ"
      },
      "outputs": [],
      "source": [
        ""
      ]
    }
  ],
  "metadata": {
    "colab": {
      "name": "Model07.ipynb",
      "provenance": [],
      "collapsed_sections": []
    },
    "kernelspec": {
      "display_name": "Python 3 (ipykernel)",
      "language": "python",
      "name": "python3"
    },
    "language_info": {
      "codemirror_mode": {
        "name": "ipython",
        "version": 3
      },
      "file_extension": ".py",
      "mimetype": "text/x-python",
      "name": "python",
      "nbconvert_exporter": "python",
      "pygments_lexer": "ipython3",
      "version": "3.8.10"
    }
  },
  "nbformat": 4,
  "nbformat_minor": 0
}